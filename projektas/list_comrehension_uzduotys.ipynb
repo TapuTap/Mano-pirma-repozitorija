{
 "cells": [
  {
   "cell_type": "code",
   "execution_count": null,
   "metadata": {},
   "outputs": [],
   "source": [
    "# Pirma užduotis\n",
    "# Sukurkite programą, kuri naudoja lambda, \n",
    "# map() ir filter() funkcijas, kad atrinktų sąrašo elementus,\n",
    "# didesnius už 10, ir padidintų juos dvigubai. Palyginkite šį\n",
    "# rezultatą su tuo, ką gautumėte naudodami \"list comprehension\"."
   ]
  },
  {
   "cell_type": "code",
   "execution_count": null,
   "metadata": {},
   "outputs": [],
   "source": [
    "sarasas = [5, 12, 7, 18, 4, 15]\n",
    "\n",
    "# Atrinkti ir padidinti dvigubai skaičius, didesnius už 10\n",
    "result = map(lambda x: x * 2, filter(lambda x: x > 10, sarasas))\n",
    "print(list(result))  # [24, 36, 30]\n",
    "\n",
    "# Su paprastomis funkcijomis ir `for` ciklais\n",
    "result = [x * 2 for x in sarasas if x > 10]\n",
    "print(result)  # [24, 36, 30]"
   ]
  },
  {
   "cell_type": "code",
   "execution_count": 1,
   "metadata": {},
   "outputs": [
    {
     "ename": "SyntaxError",
     "evalue": "invalid syntax (3699168673.py, line 1)",
     "output_type": "error",
     "traceback": [
      "\u001b[1;36m  Cell \u001b[1;32mIn[1], line 1\u001b[1;36m\u001b[0m\n\u001b[1;33m    Antra užduotis\u001b[0m\n\u001b[1;37m          ^\u001b[0m\n\u001b[1;31mSyntaxError\u001b[0m\u001b[1;31m:\u001b[0m invalid syntax\n"
     ]
    }
   ],
   "source": [
    "# Antra užduotis\n",
    "# Parašykite programą, kuri naudoja reduce() \n",
    "# funkciją, kad rastų sąrašo elementų sandaugą.\n",
    "from functools import reduce\n",
    "\n",
    "sarasas = [1, 2, 3, 4, 5]\n",
    "\n",
    "# Rasti sandaugą\n",
    "sandauga = reduce(lambda x, y: x * y, sarasas)\n",
    "print(sandauga)  # 120\n"
   ]
  },
  {
   "cell_type": "code",
   "execution_count": null,
   "metadata": {},
   "outputs": [],
   "source": [
    "# Naudodamiesi statistics moduliu, apskaičiuokite\n",
    "# ir išveskite sąrašo elementų sumą, vidurkį, medianą,\n",
    "# mažiausią ir didžiausią elementą.\n",
    "import statistics\n",
    "\n",
    "sarasas = [1, 2, 3, 4, 5]\n",
    "\n",
    "print(sum(sarasas))  # 15\n",
    "print(statistics.mean(sarasas))  # 3.0\n",
    "print(statistics.median(sarasas))  # 3\n",
    "print(min(sarasas))  # 1\n",
    "print(max(sarasas))  # 5\n"
   ]
  },
  {
   "cell_type": "code",
   "execution_count": null,
   "metadata": {},
   "outputs": [],
   "source": [
    "# Sukurkite programą, kuri naudoja sort()\n",
    "# arba sorted() funkcijas, kad rūšiuotų sąrašą \n",
    "# skaičių pagal jų liekanas dalinant iš 3 (atsižvelgiant į key parametrą).\n",
    "sarasas = [3, 1, 4, 1, 5, 9, 2]\n",
    "\n",
    "result = sorted(sarasas, key=lambda x: x % 3)\n",
    "print(result)  # [3, 9, 1, 4, 1, 5, 2]"
   ]
  },
  {
   "cell_type": "code",
   "execution_count": null,
   "metadata": {},
   "outputs": [],
   "source": [
    "# Penkta užduotis\n",
    "# Sukurkite programą, kuri naudoja lambda, \n",
    "# filter() ir reduce() funkcijas, kad apskaičiuotų \n",
    "# vidurkį tų sąrašo skaičių, kurie yra lyginiai.\n",
    "# Palyginkite šį rezultatą su tuo, ką gautumėte \n",
    "# naudodami \"list comprehension\".\n",
    "\n",
    "from functools import reduce\n",
    "\n",
    "sarasas = [1, 2, 3, 4, 5]\n",
    "\n",
    "result = reduce(lambda x, y: x + y, filter(lambda x: x % 2 == 0, sarasas)) / len(list(filter(lambda x: x % 2 == 0, sarasas)))\n",
    "print(result)  # 3.0\n",
    "\n",
    "# Su paprastomis funkcijomis ir `for` ciklais\n",
    "result = sum(x for x in sarasas if x % 2 == 0) / len([x for x in sarasas if x % 2 == 0])\n",
    "print(result)  # 3.0"
   ]
  },
  {
   "cell_type": "code",
   "execution_count": 9,
   "metadata": {},
   "outputs": [
    {
     "ename": "UnsupportedOperation",
     "evalue": "can't do nonzero end-relative seeks",
     "output_type": "error",
     "traceback": [
      "\u001b[1;31m---------------------------------------------------------------------------\u001b[0m",
      "\u001b[1;31mUnsupportedOperation\u001b[0m                      Traceback (most recent call last)",
      "Cell \u001b[1;32mIn[9], line 2\u001b[0m\n\u001b[0;32m      1\u001b[0m \u001b[39mwith\u001b[39;00m \u001b[39mopen\u001b[39m(\u001b[39m\"\u001b[39m\u001b[39mmatematika.txt\u001b[39m\u001b[39m\"\u001b[39m, \u001b[39m\"\u001b[39m\u001b[39mr\u001b[39m\u001b[39m\"\u001b[39m) \u001b[39mas\u001b[39;00m failas:\n\u001b[1;32m----> 2\u001b[0m     failas\u001b[39m.\u001b[39;49mseek(\u001b[39m5\u001b[39;49m, \u001b[39m2\u001b[39;49m)\n\u001b[0;32m      3\u001b[0m     turinys \u001b[39m=\u001b[39m failas\u001b[39m.\u001b[39mread()\n\u001b[0;32m      4\u001b[0m     \u001b[39mprint\u001b[39m(turinys)\n",
      "\u001b[1;31mUnsupportedOperation\u001b[0m: can't do nonzero end-relative seeks"
     ]
    }
   ],
   "source": [
    "with open(\"matematika.txt\", \"r\") as failas:\n",
    "    failas.seek(5, 2)\n",
    "    turinys = failas.read()\n",
    "    print(turinys)\n"
   ]
  }
 ],
 "metadata": {
  "kernelspec": {
   "display_name": "venv",
   "language": "python",
   "name": "python3"
  },
  "language_info": {
   "codemirror_mode": {
    "name": "ipython",
    "version": 3
   },
   "file_extension": ".py",
   "mimetype": "text/x-python",
   "name": "python",
   "nbconvert_exporter": "python",
   "pygments_lexer": "ipython3",
   "version": "3.11.3"
  },
  "orig_nbformat": 4
 },
 "nbformat": 4,
 "nbformat_minor": 2
}
