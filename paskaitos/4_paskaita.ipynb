{
 "cells": [
  {
   "attachments": {},
   "cell_type": "markdown",
   "metadata": {},
   "source": [
    "## Ciklai"
   ]
  },
  {
   "cell_type": "code",
   "execution_count": 31,
   "metadata": {},
   "outputs": [
    {
     "name": "stdout",
     "output_type": "stream",
     "text": [
      "obuoliai\n",
      "kriaušės\n",
      "bananai\n",
      "kiviai\n",
      "apelsinai\n"
     ]
    }
   ],
   "source": [
    "sąrašas = [\"obuoliai\", \"kriaušės\", \"bananai\", \"kiviai\", \"apelsinai\"]\n",
    "\n",
    "for vaisiai in sąrašas:\n",
    "    print(vaisiai)"
   ]
  },
  {
   "cell_type": "code",
   "execution_count": 32,
   "metadata": {},
   "outputs": [
    {
     "name": "stdout",
     "output_type": "stream",
     "text": [
      "1: , simbolių kiekis: 0\n",
      "2: , simbolių kiekis: 0\n",
      "3: , simbolių kiekis: 0\n",
      "4: , simbolių kiekis: 0\n",
      "5: , simbolių kiekis: 0\n",
      "Žodžių kiekis: 5\n"
     ]
    }
   ],
   "source": [
    "zodziai = []\n",
    "\n",
    "for zodis in range(5):\n",
    "    zodziai.append(input('Įveskite žodį: '))\n",
    "\n",
    "for numeris, zodis in enumerate(zodziai):\n",
    "    print(f'{numeris + 1}: {zodis}, simbolių kiekis: {len(zodis)}')\n",
    "print('Žodžių kiekis:', len(zodziai))"
   ]
  },
  {
   "cell_type": "code",
   "execution_count": 33,
   "metadata": {},
   "outputs": [
    {
     "ename": "ValueError",
     "evalue": "invalid literal for int() with base 10: ''",
     "output_type": "error",
     "traceback": [
      "\u001b[1;31m---------------------------------------------------------------------------\u001b[0m",
      "\u001b[1;31mValueError\u001b[0m                                Traceback (most recent call last)",
      "Cell \u001b[1;32mIn[33], line 1\u001b[0m\n\u001b[1;32m----> 1\u001b[0m metai \u001b[39m=\u001b[39m \u001b[39mint\u001b[39;49m(\u001b[39minput\u001b[39;49m(\u001b[39m'\u001b[39;49m\u001b[39mĮveskite metus: \u001b[39;49m\u001b[39m'\u001b[39;49m))\n\u001b[0;32m      2\u001b[0m \u001b[39mif\u001b[39;00m (metai \u001b[39m%\u001b[39m \u001b[39m400\u001b[39m \u001b[39m==\u001b[39m \u001b[39m0\u001b[39m) \u001b[39mor\u001b[39;00m (metai \u001b[39m%\u001b[39m \u001b[39m100\u001b[39m \u001b[39m!=\u001b[39m \u001b[39m0\u001b[39m \u001b[39mand\u001b[39;00m metai \u001b[39m%\u001b[39m \u001b[39m4\u001b[39m \u001b[39m==\u001b[39m \u001b[39m0\u001b[39m):\n\u001b[0;32m      3\u001b[0m     \u001b[39mprint\u001b[39m(\u001b[39m'\u001b[39m\u001b[39mKeliamieji metai\u001b[39m\u001b[39m'\u001b[39m)\n",
      "\u001b[1;31mValueError\u001b[0m: invalid literal for int() with base 10: ''"
     ]
    }
   ],
   "source": [
    "metai = int(input('Įveskite metus: '))\n",
    "if (metai % 400 == 0) or (metai % 100 != 0 and metai % 4 == 0):\n",
    "    print('Keliamieji metai')\n",
    "else:\n",
    "    print('Nekeliamieji metai')"
   ]
  },
  {
   "cell_type": "code",
   "execution_count": null,
   "metadata": {},
   "outputs": [
    {
     "name": "stdout",
     "output_type": "stream",
     "text": [
      "2000\n",
      "2004\n",
      "2008\n",
      "2012\n",
      "2016\n",
      "2020\n",
      "2024\n",
      "2028\n",
      "2032\n",
      "2036\n",
      "2040\n",
      "2044\n",
      "2048\n",
      "2052\n",
      "2056\n",
      "2060\n",
      "2064\n",
      "2068\n",
      "2072\n",
      "2076\n",
      "2080\n",
      "2084\n",
      "2088\n",
      "2092\n",
      "2096\n"
     ]
    }
   ],
   "source": [
    "for metai in range(2000, 2100):\n",
    "    if metai % 400 == 0:\n",
    "        print(metai)\n",
    "    elif metai % 100 == 0:\n",
    "        continue\n",
    "    elif metai % 4 == 0:\n",
    "        print(metai)\n",
    "    else:\n",
    "        continue"
   ]
  },
  {
   "attachments": {},
   "cell_type": "markdown",
   "metadata": {},
   "source": [
    "## While ciklai"
   ]
  },
  {
   "cell_type": "code",
   "execution_count": null,
   "metadata": {},
   "outputs": [
    {
     "name": "stdout",
     "output_type": "stream",
     "text": [
      "9\n",
      "8\n",
      "7\n",
      "6\n",
      "5\n",
      "4\n",
      "3\n",
      "2\n",
      "1\n",
      "0\n",
      "-1\n"
     ]
    }
   ],
   "source": [
    "skaičius = 10\n",
    "while skaičius > -1:\n",
    "    skaičius+= -1\n",
    "    print(skaičius)"
   ]
  },
  {
   "cell_type": "code",
   "execution_count": null,
   "metadata": {},
   "outputs": [
    {
     "name": "stdout",
     "output_type": "stream",
     "text": [
      "4\n",
      "3\n",
      "2\n",
      "1\n",
      "-1\n",
      "-2\n",
      "-3\n",
      "-4\n"
     ]
    }
   ],
   "source": [
    "skaičius_1 = 5\n",
    "while skaičius_1 > -10:\n",
    "    skaičius_1 -= 1\n",
    "    if skaičius_1 <= -5:\n",
    "        break\n",
    "    if skaičius_1 == 0:\n",
    "        continue\n",
    "    print(skaičius_1)"
   ]
  },
  {
   "cell_type": "code",
   "execution_count": null,
   "metadata": {},
   "outputs": [
    {
     "name": "stdout",
     "output_type": "stream",
     "text": [
      "10\n"
     ]
    }
   ],
   "source": [
    "suma = 0\n",
    "\n",
    "while True:\n",
    "    skaicius_3 = int(input('Įveskite skaičių: '))\n",
    "    if skaicius_3 < 0:\n",
    "        break\n",
    "    suma += skaicius_3\n",
    "\n",
    "print(suma)"
   ]
  },
  {
   "attachments": {},
   "cell_type": "markdown",
   "metadata": {},
   "source": [
    "## Tuples užduotys"
   ]
  },
  {
   "cell_type": "code",
   "execution_count": null,
   "metadata": {},
   "outputs": [
    {
     "name": "stdout",
     "output_type": "stream",
     "text": [
      "('The Beatles', 'Annenmaykentereit', 'Giant Rooks', 'Parcels', 'Milky Chance')\n"
     ]
    }
   ],
   "source": [
    "grupės = (\"The Beatles\", \"Annenmaykentereit\", \"Giant Rooks\", \"Parcels\", \"Milky Chance\")\n",
    "print(grupės)"
   ]
  },
  {
   "cell_type": "code",
   "execution_count": null,
   "metadata": {},
   "outputs": [
    {
     "name": "stdout",
     "output_type": "stream",
     "text": [
      "('The Beatles', 'Annenmaykentereit', 'Giant Rooks', 'Parcels', 'Milky Chance', 'Milky Chance', 'The Beatles', 'Percels', 'Giant Rooks', 'Annenmaykentereit')\n"
     ]
    }
   ],
   "source": [
    "grupės_1 = (\"Milky Chance\", \"The Beatles\", \"Percels\", \"Giant Rooks\", \"Annenmaykentereit\")\n",
    "bendrai_grupės = grupės + grupės_1\n",
    "print(bendrai_grupės)"
   ]
  },
  {
   "cell_type": "code",
   "execution_count": null,
   "metadata": {},
   "outputs": [
    {
     "name": "stdout",
     "output_type": "stream",
     "text": [
      "The Beatles\n",
      "Giant Rooks\n",
      "Annenmaykentereit\n"
     ]
    }
   ],
   "source": [
    "print(bendrai_grupės[0])\n",
    "print(bendrai_grupės[2])\n",
    "print(bendrai_grupės[-1])"
   ]
  },
  {
   "cell_type": "code",
   "execution_count": null,
   "metadata": {},
   "outputs": [
    {
     "name": "stdout",
     "output_type": "stream",
     "text": [
      "('The Beatles', 'Giant Rooks', 'Milky Chance', 'The Beatles', 'Giant Rooks')\n"
     ]
    }
   ],
   "source": [
    "print(bendrai_grupės[::2])"
   ]
  },
  {
   "cell_type": "code",
   "execution_count": 34,
   "metadata": {},
   "outputs": [
    {
     "name": "stdout",
     "output_type": "stream",
     "text": [
      "Grupė 'Led Zeppelin' pasikartoja:  2\n",
      "Grupės 'Pink Floyd' indeksas yra:  2\n",
      "True\n"
     ]
    }
   ],
   "source": [
    "kartai = bendrai_grupės.count('Giant Rooks')\n",
    "print(\"Grupė 'Led Zeppelin' pasikartoja: \", kartai)\n",
    "\n",
    "indeksas = bendrai_grupės.index('Giant Rooks')\n",
    "print(\"Grupės 'Pink Floyd' indeksas yra: \", indeksas)\n",
    "\n",
    "print('Parcels' in bendrai_grupės)"
   ]
  },
  {
   "cell_type": "code",
   "execution_count": 35,
   "metadata": {},
   "outputs": [
    {
     "name": "stdout",
     "output_type": "stream",
     "text": [
      "Annenmaykentereit\n",
      "Percels\n",
      "Milky Chance\n",
      "Parcels\n",
      "The Beatles\n",
      "Giant Rooks\n"
     ]
    }
   ],
   "source": [
    "nesikartoja_grupės = tuple(set(bendrai_grupės))\n",
    "\n",
    "for grupė in nesikartoja_grupės:\n",
    "  print(grupė)"
   ]
  },
  {
   "attachments": {},
   "cell_type": "markdown",
   "metadata": {},
   "source": [
    "## Aibės"
   ]
  },
  {
   "cell_type": "code",
   "execution_count": 38,
   "metadata": {},
   "outputs": [
    {
     "name": "stdout",
     "output_type": "stream",
     "text": [
      "{1, 2, 3, 4, 5, 6, 7}\n"
     ]
    }
   ],
   "source": [
    "aibė = {1, 2, 3, 4, 5, 6}\n",
    "aibė.add (7)\n",
    "print(aibė)"
   ]
  },
  {
   "cell_type": "code",
   "execution_count": 40,
   "metadata": {},
   "outputs": [
    {
     "name": "stdout",
     "output_type": "stream",
     "text": [
      "{3, 7, 8, 9, 11}\n"
     ]
    }
   ],
   "source": [
    "aibė_1 = {3, 4, 7, 8, 9, 11}\n",
    "aibė_1.remove(4)\n",
    "print(aibė_1)"
   ]
  },
  {
   "cell_type": "code",
   "execution_count": 41,
   "metadata": {},
   "outputs": [
    {
     "name": "stdout",
     "output_type": "stream",
     "text": [
      "{3, 7}\n"
     ]
    }
   ],
   "source": [
    "aibė_2 = aibė.intersection(aibė_1)\n",
    "print(aibė_2)"
   ]
  },
  {
   "cell_type": "code",
   "execution_count": 42,
   "metadata": {},
   "outputs": [
    {
     "name": "stdout",
     "output_type": "stream",
     "text": [
      "{1, 2, 4, 5, 6}\n"
     ]
    }
   ],
   "source": [
    "aibė_3 = aibė.difference(aibė_1)\n",
    "print(aibė_3)"
   ]
  },
  {
   "cell_type": "code",
   "execution_count": 45,
   "metadata": {},
   "outputs": [
    {
     "name": "stdout",
     "output_type": "stream",
     "text": [
      "{8, 9, 11}\n"
     ]
    }
   ],
   "source": [
    "aibė_4 = aibė_1.difference(aibė)\n",
    "print(aibė_4)"
   ]
  },
  {
   "cell_type": "code",
   "execution_count": 44,
   "metadata": {},
   "outputs": [
    {
     "name": "stdout",
     "output_type": "stream",
     "text": [
      "{64, 81, 121}\n"
     ]
    }
   ],
   "source": [
    "aibė_kvadratu = {x**2 for x in aibė_4}\n",
    "print(aibė_kvadratu)"
   ]
  }
 ],
 "metadata": {
  "kernelspec": {
   "display_name": "venv",
   "language": "python",
   "name": "python3"
  },
  "language_info": {
   "codemirror_mode": {
    "name": "ipython",
    "version": 3
   },
   "file_extension": ".py",
   "mimetype": "text/x-python",
   "name": "python",
   "nbconvert_exporter": "python",
   "pygments_lexer": "ipython3",
   "version": "3.11.3"
  },
  "orig_nbformat": 4
 },
 "nbformat": 4,
 "nbformat_minor": 2
}
