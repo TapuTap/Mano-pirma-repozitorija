{
 "cells": [
  {
   "attachments": {},
   "cell_type": "markdown",
   "metadata": {},
   "source": []
  },
  {
   "cell_type": "code",
   "execution_count": 3,
   "metadata": {},
   "outputs": [
    {
     "name": "stdout",
     "output_type": "stream",
     "text": [
      "Sveiki\n"
     ]
    }
   ],
   "source": [
    "print (\"Sveiki\")"
   ]
  },
  {
   "cell_type": "code",
   "execution_count": 13,
   "metadata": {},
   "outputs": [
    {
     "name": "stdout",
     "output_type": "stream",
     "text": [
      "SVEIKI STUDENTAI\n"
     ]
    }
   ],
   "source": [
    "sakinys = \"Sveiki studentai\"\n",
    "sakinys2 = sakinys.upper()\n",
    "\n",
    "print(sakinys2)"
   ]
  },
  {
   "cell_type": "code",
   "execution_count": 14,
   "metadata": {},
   "outputs": [
    {
     "name": "stdout",
     "output_type": "stream",
     "text": [
      "sveiki studentai\n"
     ]
    }
   ],
   "source": [
    "sakinys_mažosiomis = sakinys. lower()\n",
    "print (sakinys_mažosiomis)"
   ]
  },
  {
   "cell_type": "code",
   "execution_count": 16,
   "metadata": {},
   "outputs": [
    {
     "name": "stdout",
     "output_type": "stream",
     "text": [
      "7\n"
     ]
    }
   ],
   "source": [
    "print(sakinys.find(\"s\"))"
   ]
  },
  {
   "cell_type": "code",
   "execution_count": 18,
   "metadata": {},
   "outputs": [
    {
     "name": "stdout",
     "output_type": "stream",
     "text": [
      "Hello studentai\n"
     ]
    }
   ],
   "source": [
    "pakeistas = sakinys.replace(\"Sveiki\", \"Hello\")\n",
    "print(pakeistas)"
   ]
  },
  {
   "cell_type": "code",
   "execution_count": null,
   "metadata": {},
   "outputs": [],
   "source": [
    "vaisiai = (\"obuolys\", \"apelsinai\", \"kriaušės\")\n",
    "išvardinti_vaisiai = \"\""
   ]
  },
  {
   "cell_type": "code",
   "execution_count": 19,
   "metadata": {},
   "outputs": [
    {
     "name": "stdout",
     "output_type": "stream",
     "text": [
      "Pradinis tekstas: Aš esu studentas\n",
      "Tekstas didžiosiomis raidėmis: AŠ ESU STUDENTAS\n",
      "Tekstas mažosiomis raidėmis: aš esu studentas\n",
      "Sąrašo sujungta eilutė: Aš esu studentas\n",
      "Sakinys padalintas į žodžius: ['Aš', 'esu', 'studentas']\n",
      "Žodžio 'studentas' pozicija: 7\n",
      "Tekstas su pakeistu žodžiu: Aš esu programuotojas\n"
     ]
    }
   ],
   "source": [
    "\n",
    "sakinys = \"Aš esu studentas\"\n",
    "didziosios_raides = sakinys.upper()\n",
    "mazosios_raides = sakinys.lower()\n",
    "zodziu_sarasas = [\"Aš\", \"esu\", \"studentas\"]\n",
    "eilute = \" \".join(zodziu_sarasas)\n",
    "zodziu_sarasas = sakinys.split(\" \")\n",
    "pozicija = sakinys.find(\"studentas\")\n",
    "pakeistas_tekstas = sakinys.replace(\"studentas\", \"programuotojas\")\n",
    "\n",
    "print(\"Pradinis tekstas:\", sakinys)\n",
    "print(\"Tekstas didžiosiomis raidėmis:\", didziosios_raides)\n",
    "print(\"Tekstas mažosiomis raidėmis:\", mazosios_raides)\n",
    "print(\"Sąrašo sujungta eilutė:\", eilute)\n",
    "print(\"Sakinys padalintas į žodžius:\", zodziu_sarasas)\n",
    "print(\"Žodžio 'studentas' pozicija:\", pozicija)\n",
    "print(\"Tekstas su pakeistu žodžiu:\", pakeistas_tekstas)"
   ]
  },
  {
   "cell_type": "code",
   "execution_count": 24,
   "metadata": {},
   "outputs": [
    {
     "name": "stdout",
     "output_type": "stream",
     "text": [
      "Sveiki\n"
     ]
    }
   ],
   "source": [
    "print (\"Sveiki\")"
   ]
  },
  {
   "cell_type": "code",
   "execution_count": 26,
   "metadata": {},
   "outputs": [],
   "source": [
    "###Teksto formatavimas"
   ]
  },
  {
   "cell_type": "code",
   "execution_count": 30,
   "metadata": {},
   "outputs": [
    {
     "name": "stdout",
     "output_type": "stream",
     "text": [
      "Sveiki, aš esu Raimonda, man yra30metų\n"
     ]
    }
   ],
   "source": [
    "vardas = \" Raimonda\"\n",
    "amzius = 30\n",
    "tekstas = \"Sveiki, aš esu\" + vardas + \", man yra\" + str(amzius) + \"metų\"\n",
    "print(tekstas)\n"
   ]
  },
  {
   "cell_type": "code",
   "execution_count": 32,
   "metadata": {},
   "outputs": [
    {
     "name": "stdout",
     "output_type": "stream",
     "text": [
      "Sveiki, aš esu  Raimonda ir man yra 30 metų\n"
     ]
    }
   ],
   "source": [
    "tekstas = \"Sveiki, aš esu %s ir man yra %d metų\" % (vardas, amzius)\n",
    "print (tekstas)"
   ]
  },
  {
   "cell_type": "code",
   "execution_count": 33,
   "metadata": {},
   "outputs": [
    {
     "name": "stdout",
     "output_type": "stream",
     "text": [
      "Sveiki, aš esu  Raimonda ir man yra 30 metų\n"
     ]
    }
   ],
   "source": [
    "tekstas = \"Sveiki, aš esu {} ir man yra {} metų\".format( vardas, amzius)\n",
    "print (tekstas)"
   ]
  },
  {
   "cell_type": "code",
   "execution_count": 34,
   "metadata": {},
   "outputs": [
    {
     "name": "stdout",
     "output_type": "stream",
     "text": [
      "Sveiki, aš esu  Raimonda ir man yra 30 metų\n"
     ]
    }
   ],
   "source": [
    "tekstas = f\"Sveiki, aš esu {vardas} ir man yra {amzius} metų\".format( vardas, amzius)\n",
    "print (tekstas)"
   ]
  },
  {
   "cell_type": "code",
   "execution_count": 3,
   "metadata": {},
   "outputs": [
    {
     "name": "stdout",
     "output_type": "stream",
     "text": [
      "kaina:  99.95\n"
     ]
    }
   ],
   "source": [
    "kaina = 99.9455\n",
    "print(f\"kaina: {kaina: .2f}\")"
   ]
  },
  {
   "cell_type": "code",
   "execution_count": 4,
   "metadata": {},
   "outputs": [
    {
     "name": "stdout",
     "output_type": "stream",
     "text": [
      "kaina:        100\n"
     ]
    }
   ],
   "source": [
    "print(f\"kaina: {kaina:10.0f}\")"
   ]
  }
 ],
 "metadata": {
  "kernelspec": {
   "display_name": "venv",
   "language": "python",
   "name": "python3"
  },
  "language_info": {
   "codemirror_mode": {
    "name": "ipython",
    "version": 3
   },
   "file_extension": ".py",
   "mimetype": "text/x-python",
   "name": "python",
   "nbconvert_exporter": "python",
   "pygments_lexer": "ipython3",
   "version": "3.11.3"
  },
  "orig_nbformat": 4
 },
 "nbformat": 4,
 "nbformat_minor": 2
}
