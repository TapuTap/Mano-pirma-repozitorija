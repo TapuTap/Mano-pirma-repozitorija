{
 "cells": [
  {
   "cell_type": "code",
   "execution_count": 6,
   "metadata": {},
   "outputs": [
    {
     "name": "stdout",
     "output_type": "stream",
     "text": [
      "tIK NEGYVOS å¾UVYS PLAUKIA PASROVIUI\n",
      "\n",
      "FDASF AFSAFFD G HGH GHFG  HGFHF   qweQ\n"
     ]
    }
   ],
   "source": [
    "# Pirma užduotis\n",
    "# Atidarykite tekstiniame faile esančią eilutę ir atspausdinkite ją,\n",
    "# pakeičiant visus didžiąsias raides mažosiomis ir atvirkščiai.\n",
    "# Failo pavadinimas: \"pakeitimai.txt\".💡 Galite naudoti swapcase() funkciją.\n",
    "\n",
    "with open(\"pakeitimai.txt\", \"r\") as failas:\n",
    "    for eilute in failas:\n",
    "        print(eilute.swapcase())"
   ]
  },
  {
   "cell_type": "code",
   "execution_count": 8,
   "metadata": {},
   "outputs": [],
   "source": [
    "# Antra užduotis\n",
    "# Sukurkite naują failą \"skaiciai.txt\" ir įrašykite į jį \n",
    "# skaičius nuo 1 iki 100, kiekvieną naujoje eilutėje.\n",
    "with open(\"skaiciai.txt\", \"a\") as failas:\n",
    "    for skaicius in range(1,101):\n",
    "        failas.write(str(skaicius) + \"\\n\")"
   ]
  },
  {
   "cell_type": "code",
   "execution_count": 11,
   "metadata": {},
   "outputs": [
    {
     "name": "stdout",
     "output_type": "stream",
     "text": [
      " plaukia pasroviui\n"
     ]
    }
   ],
   "source": [
    "#Trečia užduotis\n",
    "# Atidarykite \"tekstas.txt\" failą, pakeiskite \n",
    "# failo žymeklį į vidurį failo ir atspausdinkite likusį failo turinį.\n",
    "with open(\"tekstas.txt\", \"r\") as failas:\n",
    "    failas.seek(0, 2)\n",
    "    failo_ilgis = failas.tell()  \n",
    "    vidurys = failo_ilgis // 2\n",
    "    failas.seek(vidurys)\n",
    "    likusi_dalis = failas.read() \n",
    "    print(likusi_dalis)"
   ]
  },
  {
   "cell_type": "code",
   "execution_count": 12,
   "metadata": {},
   "outputs": [
    {
     "name": "stdout",
     "output_type": "stream",
     "text": [
      "Vakare vėjas šnypščia medžius.\n",
      "\n"
     ]
    }
   ],
   "source": [
    "# Ketvirta užduotis\n",
    "# Sukurkite failą \"eilutes.txt\" ir įrašykite į jį šias eilutes:\n",
    "# Saulėlydis žėri žemę švelniai.\n",
    "# Vakare vėjas šnypščia medžius.\n",
    "# Vėjas nerimsta, šnypščia ir švilpia.\n",
    "# Papildykite failą \"eilutes.txt\" nauja eilute, kuri yra jūsų vardas ir pavardė.\n",
    "\n",
    "# Atidarykite \"eilutes.txt\" failą, perskaitykite jo turinį ir \n",
    "# atspausdinkite visas eilutes, kuriose yra žodis \"vėjas\".\n",
    "\n",
    "with open(\"eilutes.txt\", \"w\", encoding=\"utf-8\") as failas:\n",
    "    failas.write(\"Saulėlydis žėri žemę švelniai.\\n\")\n",
    "    failas.write(\"Vakare vėjas šnypščia medžius.\\n\")\n",
    "    failas.write(\"Vėjas nerimsta, šnypščia ir švilpia.\\n\")\n",
    "with open(\"eilutes.txt\", \"a\", encoding=\"utf-8\") as failas:\n",
    "    failas.write(\"Raimonda Anisimova\\n\")  # Čia įrašykite savo vardą ir pavardę\n",
    "with open(\"eilutes.txt\", \"r\", encoding=\"utf-8\") as failas:\n",
    "    for eilute in failas:\n",
    "        if \"vėjas\" in eilute:\n",
    "            print(eilute)"
   ]
  }
 ],
 "metadata": {
  "kernelspec": {
   "display_name": "venv",
   "language": "python",
   "name": "python3"
  },
  "language_info": {
   "codemirror_mode": {
    "name": "ipython",
    "version": 3
   },
   "file_extension": ".py",
   "mimetype": "text/x-python",
   "name": "python",
   "nbconvert_exporter": "python",
   "pygments_lexer": "ipython3",
   "version": "3.11.3"
  },
  "orig_nbformat": 4
 },
 "nbformat": 4,
 "nbformat_minor": 2
}
