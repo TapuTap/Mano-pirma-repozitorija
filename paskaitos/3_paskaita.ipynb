{
 "cells": [
  {
   "cell_type": "code",
   "execution_count": 3,
   "metadata": {},
   "outputs": [
    {
     "name": "stdout",
     "output_type": "stream",
     "text": [
      "['bananai', 'šokoladas', 'varškė', 'riešutai', 'marinuoti agurkėliai']\n"
     ]
    }
   ],
   "source": [
    "maisto_produktai = ['bananai', 'šokoladas', 'varškė', 'riešutai', 'marinuoti agurkėliai']\n",
    "print(maisto_produktai)"
   ]
  },
  {
   "cell_type": "code",
   "execution_count": 4,
   "metadata": {},
   "outputs": [
    {
     "name": "stdout",
     "output_type": "stream",
     "text": [
      "bananai\n",
      "varškė\n",
      "marinuoti agurkėliai\n"
     ]
    }
   ],
   "source": [
    "print(maisto_produktai[0])\n",
    "print(maisto_produktai[2])\n",
    "print(maisto_produktai[-1])"
   ]
  },
  {
   "cell_type": "code",
   "execution_count": 5,
   "metadata": {},
   "outputs": [
    {
     "name": "stdout",
     "output_type": "stream",
     "text": [
      "['bananai', 'šokoladas', 'varškė']\n",
      "['riešutai', 'marinuoti agurkėliai']\n",
      "['šokoladas', 'varškė', 'riešutai']\n",
      "['bananai', 'varškė', 'marinuoti agurkėliai']\n"
     ]
    }
   ],
   "source": [
    "print(maisto_produktai[:3])\n",
    "print(maisto_produktai[-2:])\n",
    "print(maisto_produktai[1:4])\n",
    "print(maisto_produktai[::2])"
   ]
  },
  {
   "cell_type": "code",
   "execution_count": 7,
   "metadata": {},
   "outputs": [
    {
     "name": "stdout",
     "output_type": "stream",
     "text": [
      "['varškė', 'varškė', 'riešutai', 'marinuoti agurkėliai', 'bananai', 'vanduo']\n",
      "['varškė', 'varškė', 'riešutai', 'mangai', 'marinuoti agurkėliai', 'bananai', 'vanduo']\n",
      "['varškė', 'obuoliai', 'riešutai', 'mangai', 'marinuoti agurkėliai', 'bananai', 'vanduo']\n",
      "['obuoliai', 'riešutai', 'mangai', 'marinuoti agurkėliai', 'bananai', 'vanduo']\n",
      "['obuoliai', 'riešutai', 'marinuoti agurkėliai', 'bananai', 'vanduo']\n",
      "3\n",
      "['vanduo', 'bananai', 'marinuoti agurkėliai', 'riešutai', 'obuoliai']\n"
     ]
    }
   ],
   "source": [
    "maisto_produktai.append('vanduo')\n",
    "print(maisto_produktai)\n",
    "\n",
    "maisto_produktai.insert(3, 'mangai')\n",
    "print(maisto_produktai)\n",
    "\n",
    "maisto_produktai[1] = 'obuoliai'\n",
    "print(maisto_produktai)\n",
    "\n",
    "del maisto_produktai[0]\n",
    "print(maisto_produktai)\n",
    "\n",
    "maisto_produktai.pop(2)\n",
    "print(maisto_produktai)\n",
    "\n",
    "print(maisto_produktai.index('bananai'))\n",
    "\n",
    "maisto_produktai.reverse()\n",
    "print(maisto_produktai)"
   ]
  },
  {
   "cell_type": "code",
   "execution_count": 8,
   "metadata": {},
   "outputs": [
    {
     "name": "stdout",
     "output_type": "stream",
     "text": [
      "5\n"
     ]
    }
   ],
   "source": [
    "print(len(maisto_produktai))"
   ]
  },
  {
   "attachments": {},
   "cell_type": "markdown",
   "metadata": {},
   "source": [
    "## Užduotys_žodynai"
   ]
  },
  {
   "cell_type": "code",
   "execution_count": 26,
   "metadata": {},
   "outputs": [],
   "source": [
    "## Užduotys_žodynai"
   ]
  },
  {
   "cell_type": "code",
   "execution_count": 13,
   "metadata": {},
   "outputs": [
    {
     "name": "stdout",
     "output_type": "stream",
     "text": [
      "{'Donas': 2, 'Molė': 2, 'Beta': 8}\n"
     ]
    }
   ],
   "source": [
    "žodynas = {\"Donas\": 2, \"Molė\": 2, \"Beta\": 8}\n",
    "print(žodynas)"
   ]
  },
  {
   "cell_type": "code",
   "execution_count": 14,
   "metadata": {},
   "outputs": [
    {
     "name": "stdout",
     "output_type": "stream",
     "text": [
      "2\n"
     ]
    }
   ],
   "source": [
    "amžius = žodynas.get(\"Donas\")\n",
    "print(amžius)"
   ]
  },
  {
   "cell_type": "code",
   "execution_count": 16,
   "metadata": {},
   "outputs": [
    {
     "name": "stdout",
     "output_type": "stream",
     "text": [
      "{'Donas': 2, 'Molė': 2, 'Beta': 8, 'Cezaris': 1}\n"
     ]
    }
   ],
   "source": [
    "žodynas[\"Cezaris\"] = 1\n",
    "print(žodynas)"
   ]
  },
  {
   "cell_type": "code",
   "execution_count": 17,
   "metadata": {},
   "outputs": [
    {
     "name": "stdout",
     "output_type": "stream",
     "text": [
      "{'Donas': 3, 'Molė': 2, 'Beta': 8, 'Cezaris': 1}\n"
     ]
    }
   ],
   "source": [
    "žodynas[\"Donas\"] = 3\n",
    "print(žodynas)"
   ]
  },
  {
   "cell_type": "code",
   "execution_count": 18,
   "metadata": {},
   "outputs": [
    {
     "name": "stdout",
     "output_type": "stream",
     "text": [
      "{'Donas': 3, 'Molė': 2, 'Beta': 8}\n"
     ]
    }
   ],
   "source": [
    "del žodynas[\"Cezaris\"]\n",
    "print(žodynas)"
   ]
  },
  {
   "cell_type": "code",
   "execution_count": 25,
   "metadata": {},
   "outputs": [
    {
     "name": "stdout",
     "output_type": "stream",
     "text": [
      "dict_keys(['Donas', 'Molė', 'Beta'])\n",
      "dict_values([3, 2, 8])\n",
      "{'Donas': 3, 'Molė': 2, 'Beta': 8}\n",
      "2\n"
     ]
    }
   ],
   "source": [
    "raktažodžiai = žodynas.keys()\n",
    "print(raktažodžiai)\n",
    "reikšmės = žodynas.values()\n",
    "print(reikšmės)\n",
    "print(žodynas)\n",
    "print(žodynas.get(\"Molė\"))"
   ]
  }
 ],
 "metadata": {
  "kernelspec": {
   "display_name": "venv",
   "language": "python",
   "name": "python3"
  },
  "language_info": {
   "codemirror_mode": {
    "name": "ipython",
    "version": 3
   },
   "file_extension": ".py",
   "mimetype": "text/x-python",
   "name": "python",
   "nbconvert_exporter": "python",
   "pygments_lexer": "ipython3",
   "version": "3.11.3"
  },
  "orig_nbformat": 4
 },
 "nbformat": 4,
 "nbformat_minor": 2
}
