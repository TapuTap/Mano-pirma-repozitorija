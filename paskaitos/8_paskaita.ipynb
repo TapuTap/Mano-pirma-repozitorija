{
 "cells": [
  {
   "cell_type": "code",
   "execution_count": 6,
   "metadata": {},
   "outputs": [
    {
     "name": "stdout",
     "output_type": "stream",
     "text": [
      "Mažylis\n",
      "Kriu\n",
      "Juda\n",
      "Bagira\n",
      "Miau\n",
      "Sėlina\n",
      "Reksas\n",
      "Au\n",
      "Bėgioja\n"
     ]
    }
   ],
   "source": [
    "# Pirma užduotis\n",
    "# Sukurkite klasę \"Gyvunas\" ir klases \"Kate\" ir \"Suo\", kurios paveldi tėvų klasės metodus.\n",
    "# Kiekviena paveldinti klasė turi turėti savo unikalų \"balsas\" ir \"judeti\" metodą.\n",
    "# Sukurkite kelis skirtingoms klasėms priklausančius objektus, priskirkite jiems vardus ir iškvieskite jų metodus.\n",
    "class Gyvunas:\n",
    "    def __init__(self, vardas):\n",
    "        self.vardas = vardas\n",
    "    def balsas(self):\n",
    "        print(\"Kriu\")\n",
    "    def judeti(self):\n",
    "        print('Juda')\n",
    "\n",
    "class Kate(Gyvunas):\n",
    "    def balsas(self):\n",
    "        print(\"Miau\")\n",
    "    def judeti(self):\n",
    "        print(\"Sėlina\")\n",
    "\n",
    "class Suo(Gyvunas):\n",
    "    def balsas(self):\n",
    "        print(\"Au\")\n",
    "    def judeti(self):\n",
    "        print(\"Bėgioja\")\n",
    "\n",
    "kiaule = Gyvunas(\"Mažylis\")\n",
    "kate = Kate(\"Bagira\")\n",
    "suo = Suo(\"Reksas\")\n",
    "\n",
    "print(kiaule.vardas)\n",
    "kiaule.balsas()\n",
    "kiaule.judeti()\n",
    "\n",
    "print(kate.vardas)\n",
    "kate.balsas()\n",
    "kate.judeti()\n",
    "\n",
    "print(suo.vardas)\n",
    "suo.balsas()\n",
    "suo.judeti()"
   ]
  },
  {
   "cell_type": "code",
   "execution_count": 7,
   "metadata": {},
   "outputs": [
    {
     "name": "stdout",
     "output_type": "stream",
     "text": [
      "True\n",
      "False\n",
      "False\n",
      "True\n",
      "True\n",
      "False\n",
      "True\n",
      "False\n",
      "True\n"
     ]
    }
   ],
   "source": [
    "# Patikrinkite pirmoje užduotyje sukurtų objektų priklausomybę esančioms klasėms.\n",
    "print(isinstance(kiaule, Gyvunas))\n",
    "print(isinstance(kiaule, Kate))\n",
    "print(isinstance(kiaule, Suo))\n",
    "print(isinstance(kate, Gyvunas))\n",
    "print(isinstance(kate, Kate))\n",
    "print(isinstance(kate, Suo))\n",
    "print(isinstance(suo, Gyvunas))\n",
    "print(isinstance(suo, Kate))\n",
    "print(isinstance(suo, Suo))"
   ]
  },
  {
   "attachments": {},
   "cell_type": "markdown",
   "metadata": {},
   "source": [
    "## Abstrakcijos"
   ]
  },
  {
   "cell_type": "code",
   "execution_count": 10,
   "metadata": {},
   "outputs": [
    {
     "name": "stdout",
     "output_type": "stream",
     "text": [
      "Baseino talpa: 1000 L, šiuo metu baseinas užpildytas: 300 L\n",
      "Išpylėte 50 litrų vandens iš baseino\n",
      "Įpylėte 480 litrų vandens\n",
      "730\n"
     ]
    }
   ],
   "source": [
    "# Parašykite klasę \"Baseinas\", kuri saugo informaciją apie vandens talpą ir dabartinį kiekį baseine.\n",
    "# Klasė turi turėti metodus vandens papildymui ir nuleidimui bei esamo vandens kiekio patikrinimui. \n",
    "# Vandens kiekio keitimui panaudokite abstraktų metodą.\n",
    "# Sukurkite objektą ir kelis kartus iškvieskite klasės metodus.\n",
    "\n",
    "class Baseinas:\n",
    "\n",
    "    def __init__(self, talpa, dabartinis_kiekis):\n",
    "        self.__talpa = talpa\n",
    "        self.__dabartinis_kiekis = dabartinis_kiekis\n",
    "\n",
    "    def __vandens_keitimas(self, kiekis):\n",
    "        self.__dabartinis_kiekis += kiekis\n",
    "    \n",
    "    def vandens_papildymas(self, kiekis):\n",
    "        if self.__dabartinis_kiekis + kiekis <= self.__talpa:\n",
    "            self.__vandens_keitimas(kiekis)\n",
    "            print(f\"Įpylėte {kiekis} litrų vandens\")\n",
    "        else:\n",
    "            print(\"Norimas įpilti vandens kiekis viršija baseino talpą\")\n",
    "\n",
    "    def vandens_išpylimas(self, kiekis):\n",
    "        if self.__dabartinis_kiekis - kiekis >= 0:\n",
    "            self.__vandens_keitimas(-kiekis)\n",
    "            print(f\"Išpylėte {kiekis} litrų vandens iš baseino\")\n",
    "        else:\n",
    "            print(f\"Šiuo metu baseine yra{self.__dabartinis_kiekis} litrų vandens, todėl negalime išpilti {kiekis} litrų\")\n",
    "    \n",
    "    def gauti_talpa(self):\n",
    "        return self.__talpa\n",
    "    \n",
    "    def gauti_dabartini_kieki(self):\n",
    "        return self.__dabartinis_kiekis\n",
    "\n",
    "baseinas = Baseinas(1000, 300)\n",
    "print(f'Baseino talpa: {baseinas.gauti_talpa()} L, šiuo metu baseinas užpildytas: {baseinas.gauti_dabartini_kieki()} L')\n",
    "\n",
    "baseinas.vandens_išpylimas(50)\n",
    "baseinas.vandens_papildymas(480)\n",
    "print(baseinas.gauti_dabartini_kieki())"
   ]
  },
  {
   "cell_type": "code",
   "execution_count": 12,
   "metadata": {},
   "outputs": [
    {
     "name": "stdout",
     "output_type": "stream",
     "text": [
      "---\n",
      "Vardenis Pavardenis, atlyginimas: 1500 €\n",
      "---\n",
      "Kriaušė Kriaušaitė, atlyginimas: 1000 €\n",
      "---\n",
      "Braškė Braškaitė, atlyginimas: 800 €\n",
      "---\n",
      "Agurkas Agurkauskas, atlyginimas: 2000 €\n",
      "Premija: 100 €\n"
     ]
    }
   ],
   "source": [
    "# Sukurkite darbuotojų klasę su savybėmis vardas, pavarde ir atlyginimas, kuri turėtų metodą atspausdinantį darbuotojo informaciją.\n",
    "# Sukurkite administratoriaus klasę, kuri paveldėtų savybes iš darbuotojo klasės.\n",
    "# Sukurkite vadovo klasę, kuri paveldėtų savybes iš darbuotojo klasės ir turėtų papildomą savybę \"premija\" bei metodą, kuris atspausdins papildytą darbuotojo informaciją.\n",
    "# Sukurkite kelis kiekvienos klasės objektus ir iškvieskite informacijos spausdinimo metodą.\n",
    "\n",
    "class Darbuotojas:\n",
    "    def __init__(self, vardas, pavarde, atlyginimas=1500):\n",
    "        self.vardas = vardas\n",
    "        self.pavarde = pavarde\n",
    "        self.atlyginimas = atlyginimas\n",
    "\n",
    "    def info(self):\n",
    "        print(f'---\\n{self.vardas} {self.pavarde}, atlyginimas: {self.atlyginimas} €')\n",
    "\n",
    "class Administratorius(Darbuotojas):\n",
    "    pass\n",
    "\n",
    "class Vadovas(Darbuotojas):\n",
    "    def __init__(self, vardas, pavarde, atlyginimas=2000, premija=0):\n",
    "        super().__init__(vardas, pavarde, atlyginimas)\n",
    "        self.premija = premija\n",
    "\n",
    "    def info(self):\n",
    "        super().info()\n",
    "        print(f'Premija: {self.premija} €')\n",
    "\n",
    "darbuotojas1 = Darbuotojas('Vardenis', 'Pavardenis')\n",
    "darbuotojas2 = Darbuotojas('Kriaušė', 'Kriaušaitė', 1000)\n",
    "darbuotojas3 = Administratorius('Braškė', 'Braškaitė', 800)\n",
    "vadovas1 = Vadovas('Agurkas', 'Agurkauskas', premija=100)\n",
    "\n",
    "darbuotojai = [darbuotojas1, darbuotojas2, darbuotojas3, vadovas1]\n",
    "\n",
    "for darbuotojas in darbuotojai:\n",
    "    darbuotojas.info()"
   ]
  }
 ],
 "metadata": {
  "kernelspec": {
   "display_name": "venv",
   "language": "python",
   "name": "python3"
  },
  "language_info": {
   "codemirror_mode": {
    "name": "ipython",
    "version": 3
   },
   "file_extension": ".py",
   "mimetype": "text/x-python",
   "name": "python",
   "nbconvert_exporter": "python",
   "pygments_lexer": "ipython3",
   "version": "3.11.3"
  },
  "orig_nbformat": 4
 },
 "nbformat": 4,
 "nbformat_minor": 2
}
