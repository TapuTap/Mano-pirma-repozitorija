{
 "cells": [
  {
   "attachments": {},
   "cell_type": "markdown",
   "metadata": {},
   "source": [
    "## Pirma užduotis"
   ]
  },
  {
   "cell_type": "code",
   "execution_count": null,
   "metadata": {},
   "outputs": [],
   "source": [
    "# 1 užduotis\n",
    "# Sukurti programą, kuri:\n",
    "\n",
    "# Leistų įvesti darbuotojus: vardą, pavardę, gimimo datą, pareigas, atlyginimą,\n",
    "# nuo kada dirba (data būtų nustatoma automatiškai, pagal dabartinę datą).\n",
    "# Duomenys būtų saugomi duomenų bazėję, panaudojant SQLAlchemy ORM\n",
    "# (be SQL užklausų)\n",
    "# Vartotojas galėtų įrašyti, peržiūrėti, ištrinti ir atnaujinti darbuotojus."
   ]
  },
  {
   "cell_type": "code",
   "execution_count": null,
   "metadata": {},
   "outputs": [],
   "source": [
    "from darbuotojas import engine, Darbuotojas, Base\n",
    "from sqlalchemy.orm import sessionmaker\n",
    "from datetime import datetime\n",
    "\n",
    "Session = sessionmaker(bind=engine)\n",
    "session = Session()\n",
    "\n",
    "while True:\n",
    "    pasirinkimas = int(input(\"Pasirinkite: 1 - darbuotojo įvedimas, 2 - trynimas, 3 - atnaujinimas, 8 - peržiūra, 9 - išeiti\"))\n",
    "    if pasirinkimas == 1:\n",
    "        while True:\n",
    "            try:\n",
    "                name = input(\"Įveskite vardą\")\n",
    "                last_name = input(\"Įveskite pavardę\")\n",
    "                birthdate = datetime.strptime(input(\"Įveskite gimimo datą (YYYY-MM-DD)\"), \"%Y-%m-%d\")\n",
    "                position = input(\"Įveskite pareigas\")\n",
    "                salary = float(input(\"Įveskite atlyginimą\"))\n",
    "                darbuotojas = Darbuotojas(name, last_name, birthdate, position, salary)\n",
    "                session.add(darbuotojas)\n",
    "                session.commit()\n",
    "                break\n",
    "            except:\n",
    "                print(\"Klaida. Bandykite dar kartą\")\n",
    "    if pasirinkimas == 2:\n",
    "        visi = session.query(Darbuotojas).all()\n",
    "        for darbuotojas in visi:\n",
    "            print(darbuotojas)\n",
    "        numeris = int(input(\"Pasirinkite norimo ištrinti įrašo ID\"))\n",
    "        trinamas_darbuotojas = session.query(Darbuotojas).get(numeris)\n",
    "        session.delete(trinamas_darbuotojas)\n",
    "        session.commit()\n",
    "    if pasirinkimas == 3:\n",
    "        visi = session.query(Darbuotojas).all()\n",
    "        for darbuotojas in visi:\n",
    "            print(darbuotojas)\n",
    "        numeris = int(input(\"Pasirinkite norimo redaguoti įrašo ID\"))\n",
    "        darbuotojas = session.query(Darbuotojas).get(numeris)\n",
    "        while True:\n",
    "            try:\n",
    "                darbuotojas.name = input(\"Įveskite vardą\")\n",
    "                darbuotojas.last_name = input(\"Įveskite pavardę\")\n",
    "                darbuotojas.birthdate = datetime.strptime(input(\"Įveskite gimimo datą (YYYY-MM-DD)\"), \"%Y-%m-%d\")\n",
    "                darbuotojas.position = input(\"Įveskite pareigas\")\n",
    "                darbuotojas.salary = float(input(\"Įveskite atlyginimą\"))\n",
    "                session.commit()\n",
    "                break\n",
    "            except:\n",
    "                print(\"Klaida. Bandykite dar kartą\")\n",
    "    if pasirinkimas == 8:\n",
    "        visi = session.query(Darbuotojas).all()\n",
    "        for darbuotojas in visi:\n",
    "            print(darbuotojas)\n",
    "    if pasirinkimas == 9:\n",
    "        print(\"Viso gero\")\n",
    "        break"
   ]
  }
 ],
 "metadata": {
  "language_info": {
   "name": "python"
  },
  "orig_nbformat": 4
 },
 "nbformat": 4,
 "nbformat_minor": 2
}
