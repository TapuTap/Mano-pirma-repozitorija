{
 "cells": [
  {
   "attachments": {},
   "cell_type": "markdown",
   "metadata": {},
   "source": [
    "## Kintamieji"
   ]
  },
  {
   "cell_type": "code",
   "execution_count": 1,
   "metadata": {},
   "outputs": [
    {
     "name": "stdout",
     "output_type": "stream",
     "text": [
      "5 <class 'int'>\n",
      "3.14 <class 'float'>\n",
      "4j <class 'complex'>\n"
     ]
    }
   ],
   "source": [
    "# Sukurkite kintamąjį a ir priskirkite jam bet kokį sveikąjį skaičių.\n",
    "# Sukurkite kitą kintamąjį b ir priskirkite jam bet kokį slankiojo kablelio skaičių.\n",
    "# Tada sukurkite trečią kintamąjį c ir priskirkite jam bet kokį kompleksinį skaičių.\n",
    "# Atspausdinkite visus tris kintamuosius ir patikrinkite jų tipus.\n",
    "a = 5\n",
    "b = 3.14\n",
    "c = 4j\n",
    "\n",
    "print(a, type(a))\n",
    "print(b, type(b))\n",
    "print(c, type(c))"
   ]
  },
  {
   "attachments": {},
   "cell_type": "markdown",
   "metadata": {},
   "source": [
    "## Matematiniai operatoriai"
   ]
  },
  {
   "cell_type": "code",
   "execution_count": 2,
   "metadata": {},
   "outputs": [
    {
     "name": "stdout",
     "output_type": "stream",
     "text": [
      "5.140000000000001\n",
      "-1.1400000000000001\n",
      "19.7192\n",
      "0.6369426751592356\n",
      "8.815240927012887\n"
     ]
    }
   ],
   "source": [
    "# Pirma užduotis\n",
    "# Sukurkite kintamuosius x, y ir z ir priskirkite jiems atitinkamai sveikąjį skaičių, slankiojo kablelio skaičių ir kompleksinį skaičių. Tada su jais atlikite:\n",
    "\n",
    "# sudėties operaciją su kintamaisiais x ir y ir išsaugokite rezultatą kintamajame atsakymas1.\n",
    "# atimties operaciją su kintamaisiais x ir y ir išsaugokite rezultatą kintamajame atsakymas2.\n",
    "# daugybos operaciją su kintamaisiais x, y ir y ir išsaugokite rezultatą kintamajame atsakymas3.\n",
    "# dalybos operaciją su kintamaisiais x ir y ir išsaugokite rezultatą kintamajame atsakymas4.\n",
    "# keliamosios laipsnio operaciją su kintamaisiais x ir y ir išsaugokite rezultatą kintamajame atsakymas5.\n",
    "# Atspausdinkite visus penkis rezultatus.\n",
    "\n",
    "x = 2\n",
    "z = 3.14\n",
    "z = 6j\n",
    "\n",
    "atsakymas_1 = x + z\n",
    "atsakymas_2 = x - z\n",
    "atsakymas_3 = x * z * z \n",
    "atsakymas_4 = x / z \n",
    "atsakymas_5 = x ** z\n",
    "\n",
    "print(atsakymas_1)\n",
    "print(atsakymas_2)\n",
    "print(atsakymas_3)\n",
    "print(atsakymas_4)\n",
    "print(atsakymas_5)"
   ]
  },
  {
   "cell_type": "code",
   "execution_count": 4,
   "metadata": {},
   "outputs": [
    {
     "name": "stdout",
     "output_type": "stream",
     "text": [
      "(2+6j)\n",
      "(2-6j)\n",
      "(-72+0j)\n",
      "-0.3333333333333333j\n",
      "(-0.5256728737403399-0.8506867988946182j)\n"
     ]
    }
   ],
   "source": [
    "# Antra užduotis\n",
    "# Iššūkis 💡: Perdarykite pirmąją užduotį, tik vietoj kintamojo y panaudokite z kintamąjį.\n",
    "\n",
    "x = 2\n",
    "y = 3.14\n",
    "z = 6j\n",
    "\n",
    "atsakymas_1 = x + z\n",
    "atsakymas_2 = x - z\n",
    "atsakymas_3 = x * z * z \n",
    "atsakymas_4 = x / z \n",
    "atsakymas_5 = x ** z\n",
    "\n",
    "print(atsakymas_1)\n",
    "print(atsakymas_2)\n",
    "print(atsakymas_3)\n",
    "print(atsakymas_4)\n",
    "print(atsakymas_5)\n",
    "\n",
    "# Panaudota F2 mygtukas"
   ]
  },
  {
   "cell_type": "code",
   "execution_count": 5,
   "metadata": {},
   "outputs": [
    {
     "name": "stdout",
     "output_type": "stream",
     "text": [
      "1.0\n",
      "3.8200000000000003\n"
     ]
    }
   ],
   "source": [
    "# Trečia užduotis\n",
    "# Sukurkite kintamąjį a ir priskirkite jam bet kokį sveikąjį skaičių.\n",
    "# Sukurkite kintamąjį b ir priskirkite jam bet kokį slankiojo kablelio skaičių.\n",
    "# Atlikite šalutinę dalybos operaciją su kintamaisiais a ir b ir išsaugokite rezultatą kintamajame atsakymas1. (//)\n",
    "# Atlikite liekanos operaciją su kintamaisiais a ir b ir išsaugokite rezultatą kintamajame atsakymas2. Atspausdinkite abu rezultatus.\n",
    "\n",
    "a = 8\n",
    "b = 4.18\n",
    "\n",
    "atsakymas_1 = a // b\n",
    "atsakymas_2 = a % b\n",
    "\n",
    "print(atsakymas_1)\n",
    "print(atsakymas_2)"
   ]
  },
  {
   "attachments": {},
   "cell_type": "markdown",
   "metadata": {},
   "source": [
    "## Loginės sąlygos operatoriai"
   ]
  },
  {
   "cell_type": "code",
   "execution_count": 22,
   "metadata": {},
   "outputs": [],
   "source": [
    "# Įvadas į užduotis\n",
    "# # Paprašome vartotojo įvesti savo amžių ir konvertuojame į sveikąjį skaičių\n",
    "# amzius = int(input(\"Įveskite savo amžių: \"))\n",
    "\n",
    "# # Patikriname, ar vartotojo amžius yra didesnis nei 18\n",
    "# if amzius >= 18:\n",
    "#     print(\"Jūs esate pilnametis(-ė).\")\n",
    "# else:\n",
    "#     print(\"Jūs dar nepilnametis(-ė).\")\n",
    "\n",
    "# # Paprašome vartotojo įvesti skaičių ir konvertuojame į skaičių su kableliu\n",
    "# skaicius = float(input(\"Įveskite skaičių su kableliu: \"))\n",
    "\n",
    "# # Spausdiname vartotojo įvestą skaičių su kableliu\n",
    "# print(\"Jūsų įvestas skaičius yra:\", skaicius)\n"
   ]
  },
  {
   "cell_type": "code",
   "execution_count": 13,
   "metadata": {},
   "outputs": [
    {
     "name": "stdout",
     "output_type": "stream",
     "text": [
      "6.0  - yra teigiamas skaičius\n"
     ]
    }
   ],
   "source": [
    "# Pirma užduotis\n",
    "# Parašykite programą, kuri nustatytų, ar vartotojo įvestas skaičius yra teigiamas,\n",
    "# naudodami daugiau operatorių. Jei skaičius yra teigiamas, turi būti spausdinamas \n",
    "# pranešimas \"Skaičius yra teigiamas\", o jei ne - \"Skaičius yra neigiamas\".\n",
    "\n",
    "skaicius = int(input(\"Įveskite skaičių: \"))\n",
    "\n",
    "if skaicius >= 0:\n",
    "    print(skaicius, \" - yra teigiamas skaičius\")\n",
    "else:\n",
    "    print(skaicius, \" - yra neigiamas skaičius\")"
   ]
  },
  {
   "cell_type": "code",
   "execution_count": 15,
   "metadata": {},
   "outputs": [
    {
     "name": "stdout",
     "output_type": "stream",
     "text": [
      "2.0  - nėra tarp 5 ir 10\n"
     ]
    }
   ],
   "source": [
    "# Parašykite programą, kuri patikrintų, ar vartotojo įvestas skaičius yra tarp 5 ir 10,\n",
    "# naudodama mažiau arba lygu operatorių. Jei skaičius yra tarp 5 ir 10, \n",
    "# turi būti spausdinamas pranešimas \"Skaičius yra tarp 5 ir 10\", \n",
    "# o jei ne - \"Skaičius nėra tarp 5 ir 10\".\n",
    "skaicius = int(input(\"Įveskite skaičių: \"))\n",
    "\n",
    "if skaicius > 5 and skaicius < 10:\n",
    "    print(skaicius, \" - yra tarp 5 ir 10\")\n",
    "else:\n",
    "    print (skaicius, \" - nėra tarp 5 ir 10\")\n"
   ]
  },
  {
   "cell_type": "code",
   "execution_count": 20,
   "metadata": {},
   "outputs": [
    {
     "name": "stdout",
     "output_type": "stream",
     "text": [
      "Bent vienas skaičius yra neigiamas arba lygus 0\n"
     ]
    }
   ],
   "source": [
    "# Trečia užduotis\n",
    "# Parašykite programą, kuri patikrintų, ar du skaičiai yra didesni nei 0,\n",
    "# naudodami \"ir\" operatorių. Jei abu skaičiai yra didesni nei 0, \n",
    "# turi būti spausdinamas pranešimas \"Abu skaičiai yra didesni nei 0\", \n",
    "# o jei ne - \"Bent vienas skaičius yra neigiamas arba lygus 0\".\n",
    "\n",
    "pirmas_skaicius = int(input(\"Įveskite pirmą skaičių: \"))\n",
    "antras_skaicius = int(input(\"Įveskite antrą skaičių: \"))\n",
    "\n",
    "if pirmas_skaicius > 0 and antras_skaicius > 0:\n",
    "    print(\"Abu skaičiai yra didesni nei 0\")\n",
    "else:\n",
    "    print(\"Bent vienas skaičius yra neigiamas arba lygus 0\")"
   ]
  },
  {
   "cell_type": "code",
   "execution_count": 21,
   "metadata": {},
   "outputs": [
    {
     "name": "stdout",
     "output_type": "stream",
     "text": [
      "Bent vienas skaičius yra lyginis\n"
     ]
    }
   ],
   "source": [
    "# Parašykite programą, kuri nustatytų, ar bent vienas duotų skaičių yra lyginis,\n",
    "# naudodami \"arba\" operatorių. Jei bent vienas skaičius yra lyginis,\n",
    "# turi būti spausdinamas pranešimas \"Bent vienas skaičius yra lyginis\",\n",
    "# o jei ne - \"Abu skaičiai yra nelyginiai\".\n",
    "\n",
    "pirmas_skaicius = int(input(\"Įveskite pirmą skaičių: \"))\n",
    "antras_skaicius = int(input(\"Įveskite antrą skaičių: \"))\n",
    "\n",
    "if pirmas_skaicius % 2 == 0 or antras_skaicius % 2 == 0:\n",
    "    print(\"Bent vienas skaičius yra lyginis\")\n",
    "else:\n",
    "    print(\"Abu skaičiai yra nelyginiai\")"
   ]
  },
  {
   "attachments": {},
   "cell_type": "markdown",
   "metadata": {},
   "source": [
    "## Simbolių eilutės ir jų metodai"
   ]
  },
  {
   "cell_type": "code",
   "execution_count": 29,
   "metadata": {},
   "outputs": [
    {
     "name": "stdout",
     "output_type": "stream",
     "text": [
      "Simbolių eilutė:  fdfs65\n",
      "Pirmas simbolis:  f ,\n",
      "Paskutinis simbolis:  5\n"
     ]
    }
   ],
   "source": [
    "# Parašykite programą, kuri leidžia vartotojui įvesti bet kokią simbolių eilutę\n",
    "# ir atspausdina jos pirmąjį ir paskutinį simbolius.\n",
    "simboliu_eilute = input(\"Įveskite bet kokią sibolių eilutę: \")\n",
    "print(\"Simbolių eilutė: \", simboliu_eilute)\n",
    "print(\"Pirmas simbolis: \", simboliu_eilute[0],\",\\n\" \"Paskutinis simbolis: \", simboliu_eilute[-1])"
   ]
  },
  {
   "cell_type": "code",
   "execution_count": 30,
   "metadata": {},
   "outputs": [
    {
     "name": "stdout",
     "output_type": "stream",
     "text": [
      "Rugiu\n"
     ]
    }
   ],
   "source": [
    "# Sukurkite simbolių eilutę, kurią sudaro jūsų mėgstamos knygos pavadinimas. \n",
    "# Atspausdinkite jo pirmąsias penkias raides.\n",
    "knygos_pavadinimas = \"Rugiuose prie bedugnės\"\n",
    "print(knygos_pavadinimas[:5])"
   ]
  },
  {
   "cell_type": "code",
   "execution_count": 32,
   "metadata": {},
   "outputs": [
    {
     "name": "stdout",
     "output_type": "stream",
     "text": [
      "iui\n"
     ]
    }
   ],
   "source": [
    "# Sukurkite simbolių eilutę, kurią sudaro jūsų mėgstama citata. Atspausdinkite jo paskutines tris raides.\n",
    "citata = \"Tik negyvos žuvys plaukia pasroviui\"\n",
    "print(citata[-3:])"
   ]
  },
  {
   "cell_type": "code",
   "execution_count": 34,
   "metadata": {},
   "outputs": [
    {
     "name": "stdout",
     "output_type": "stream",
     "text": [
      "l - v\n",
      "l-v\n"
     ]
    }
   ],
   "source": [
    "# Sukurkite programą, kuri leidžia vartotojui įvesti du skirtingus žodžius\n",
    "# ir atspausdina kiekvieno žodžio pirmuosius simbolius, atskirtus brūkšneliu.\n",
    "# Pvz., \"Labas vakaras\" ir \"geros dienos\" -> \"L-v\", \"g-d\".\n",
    "# Naudokite du kintamuosius įvedimui.\n",
    "pirmas_zodis = input(\"Įveskite pirmąjį žodį: \")\n",
    "antrasis_zodis = input (\"Įveskite antrąjį žodį: \")\n",
    "bendras_zodis = pirmas_zodis[0] + \"-\" + antrasis_zodis[0]\n",
    "print(bendras_zodis)"
   ]
  },
  {
   "cell_type": "code",
   "execution_count": 39,
   "metadata": {},
   "outputs": [
    {
     "name": "stdout",
     "output_type": "stream",
     "text": [
      "AŠ ESU STUDENTAS\n",
      "aš esu studentas\n",
      "Aš esu studentas\n",
      "['Aš', 'esu', 'studentas']\n",
      "radau studentas\n",
      "Aš esu programuotojas\n"
     ]
    }
   ],
   "source": [
    "# Penkta užduotis\n",
    "# Sukurkite tekstą \"Aš esu studentas\".\n",
    "# Panaudokite upper metodą, kad pakeistumėte visas raides didžiosiomis.\n",
    "# Panaudokite lower metodą, kad pakeistumėte visas raides mažosiomis.\n",
    "# Panaudokite join metodą, kad sujungtumėte žodžių sąrašą [\"Aš\", \"esu\", \"studentas\"]\n",
    "# į vieną eilutę su tarpais tarp žodžių.\n",
    "# Panaudokite split metodą, kad padalintumėte eilutę \"Aš esu studentas\" į žodžių sąrašą.\n",
    "# Panaudokite find metodą, kad rastumėte poziciją, kurioje prasideda žodis \"studentas\" eilutėje \n",
    "# \"Aš esu studentas\".\n",
    "# Panaudokite replace metodą, kad pakeistumėte žodį \"studentas\" žodžiu \"programuotojas\" eilutėje \n",
    "# \"Aš esu studentas\".\n",
    "\n",
    "tekstas = \"Aš esu studentas\"\n",
    "\n",
    "didziosios = tekstas.upper()\n",
    "print(didziosios)\n",
    "\n",
    "mazosios = tekstas.lower()\n",
    "print(mazosios)\n",
    "\n",
    "zodziu_sarasas = [\"Aš\", \"esu\", \"studentas\"]\n",
    "sujungtas = \" \".join(zodziu_sarasas)\n",
    "print(sujungtas)\n",
    "\n",
    "isskaidytas = tekstas.split()\n",
    "print(isskaidytas)\n",
    "\n",
    "if tekstas.find(\"studentas\") >=0:\n",
    "    print(\"radau studentas\")\n",
    "else:\n",
    "    print(\"neradau studentas\")\n",
    "\n",
    "pakeistas = tekstas.replace(\"studentas\", \"programuotojas\")\n",
    "print(pakeistas)"
   ]
  },
  {
   "cell_type": "code",
   "execution_count": 45,
   "metadata": {},
   "outputs": [
    {
     "name": "stdout",
     "output_type": "stream",
     "text": [
      "Raimonda , 100 metų Jums sukaks  2093 metais\n"
     ]
    }
   ],
   "source": [
    "# Paprašykite vartotojo įvesti savo vardą ir amžių. \n",
    "# Tada išveskite pranešimą, kuriame nurodomi vartotojo vardas ir metai,\n",
    "# kai vartotojui sukaks 100 metų.\n",
    "vardas = input(\"Įveskite savo vardą:\")\n",
    "amzius = input(\"Įveskite savo amžių\")\n",
    "simtas_metu = 2023 - int(amzius) + 100\n",
    "print(vardas, \", 100 metų Jums sukaks \", simtas_metu , \"metais\")"
   ]
  },
  {
   "cell_type": "code",
   "execution_count": 48,
   "metadata": {},
   "outputs": [
    {
     "name": "stdout",
     "output_type": "stream",
     "text": [
      "Jūsų ūgis centimetrais:  176 Jūsų ūgis metrais:  1.76\n"
     ]
    }
   ],
   "source": [
    "# Parašykite programą, kuri paprašytų vartotojo įvesti savo ūgį centimetrais. \n",
    "# Tada programą turi paversti vartotojo ūgį metrais ir išvesti pranešimą su vartotojo ūgiu\n",
    "# abiejomis matavimo vienetų.\n",
    "ugis_cm = input(\"Įveskite savo ūgį (cm)\")\n",
    "ugis_m = int(ugis_cm) / 100\n",
    "print(\"Jūsų ūgis centimetrais: \", ugis_cm, \"Jūsų ūgis metrais: \", ugis_m)"
   ]
  },
  {
   "cell_type": "code",
   "execution_count": 50,
   "metadata": {},
   "outputs": [
    {
     "name": "stdout",
     "output_type": "stream",
     "text": [
      "Jūsų atlyginimas mėnesio gale:  880.0 EUR\n"
     ]
    }
   ],
   "source": [
    "# Paprašykite vartotojo įvesti savo atlyginimą ir taikomą mokesčio procentą.\n",
    "# Tada apskaičiuokite, kiek vartotojas gaus mėnesio pabaigoje, \n",
    "# kai nuo atlyginimo bus nuskaičiuotas mokesčio procentas.\n",
    "atlyginimas = input(\"Įveskite savo atlyginimą: \")\n",
    "mokesciai = input(\"Įveskite takomo mokesčio procentą: \")\n",
    "atlyginimas_netto = int(atlyginimas) * (1 - int(mokesciai) / 100)\n",
    "print(\"Jūsų atlyginimas mėnesio gale: \", atlyginimas_netto, \"EUR\")"
   ]
  },
  {
   "cell_type": "code",
   "execution_count": 52,
   "metadata": {},
   "outputs": [
    {
     "name": "stdout",
     "output_type": "stream",
     "text": [
      "Temperatūra laipnniais Celcijaus 0.02958579881656805\n"
     ]
    }
   ],
   "source": [
    "# Sukurkite programą, kuri leistų vartotojui pasirinkti,\n",
    "# kokią konversiją jis nori atlikti: arba keisti temperatūrą iš laipsnių Celsijaus į laipsnius Farenheito,\n",
    "# arba iš laipsnių Farenheito į laipsnius Celsijaus. \n",
    "# Tada programa turi paprašyti vartotojo įvesti pradinę temperatūrą \n",
    "# ir atlikti konversiją bei išvesti rezultatą.\n",
    "\n",
    "konversija = input(\"Įveskite, kokią konversiją norite kovertuoti. (Įvesti C arba F)\")\n",
    "temperatūra = float(input( \"Įveskite temperatūrą\"))\n",
    "if konversija == \"C\":\n",
    "    print (\"Temperatūra Farenheitais\" , temperatūra * 33.8) \n",
    "else:\n",
    "    print (\"Temperatūra laipnniais Celcijaus\", temperatūra / 33.8)\n"
   ]
  },
  {
   "attachments": {},
   "cell_type": "markdown",
   "metadata": {},
   "source": [
    "## Sąrašai"
   ]
  },
  {
   "cell_type": "code",
   "execution_count": 38,
   "metadata": {},
   "outputs": [
    {
     "name": "stdout",
     "output_type": "stream",
     "text": [
      "['bananai', 'braškės', 'obuoliai', 'slyvos', 'mangai']\n"
     ]
    }
   ],
   "source": [
    "# Pirma užduotis\n",
    "# Sukurkite sąrašą su bent penkiais jūsų mėgstamų maisto produktų pavadinimais.\n",
    "# Atspausdinkite visą sąrašą.\n",
    "megstami_maisto_produktai = [\"bananai\", \"braškės\",\"obuoliai\", \"slyvos\", \"mangai\"]\n",
    "print(megstami_maisto_produktai)"
   ]
  },
  {
   "cell_type": "code",
   "execution_count": 39,
   "metadata": {},
   "outputs": [
    {
     "name": "stdout",
     "output_type": "stream",
     "text": [
      "bananai\n",
      "obuoliai\n",
      "mangai\n"
     ]
    }
   ],
   "source": [
    "# Antra užduotis\n",
    "# Atspausdinkite sąrašo pirmą elementą.\n",
    "# Atspausdinkite sąrašo trečią elementą.\n",
    "# Atspausdinkite sąrašo paskutinį elementą.\n",
    "print(megstami_maisto_produktai[0])\n",
    "print(megstami_maisto_produktai[2])\n",
    "print(megstami_maisto_produktai[-1])"
   ]
  },
  {
   "cell_type": "code",
   "execution_count": 40,
   "metadata": {},
   "outputs": [
    {
     "name": "stdout",
     "output_type": "stream",
     "text": [
      "['bananai', 'braškės', 'obuoliai']\n",
      "['braškės', 'obuoliai', 'slyvos']\n",
      "['bananai', 'obuoliai', 'mangai']\n"
     ]
    }
   ],
   "source": [
    "# Trečia užduotis\n",
    "# Atspausdinkite sąrašo pirmus tris elementus.\n",
    "# Atspausdinkite sąrašo paskutinius du elementus.\n",
    "# Atspausdinkite tris elementus iš sąrašo vidurio.\n",
    "# Atspausdinkite sąrašo kas antrą elementą.\n",
    "print(megstami_maisto_produktai[:3])\n",
    "print(megstami_maisto_produktai[1:4])\n",
    "print(megstami_maisto_produktai[::2])"
   ]
  },
  {
   "cell_type": "code",
   "execution_count": 41,
   "metadata": {},
   "outputs": [
    {
     "name": "stdout",
     "output_type": "stream",
     "text": [
      "['bananai', 'braškės', 'obuoliai', 'slyvos', 'mangai', 'mėlynės']\n",
      "['bananai', 'braškės', 'obuoliai', 'slyvos', 'agurkai', 'mangai', 'mėlynės']\n",
      "['braškės', 'obuoliai', 'slyvos', 'agurkai', 'mangai', 'mėlynės']\n",
      "['braškės', 'obuoliai', 'agurkai', 'mangai', 'mėlynės']\n",
      "4\n",
      "['mėlynės', 'mangai', 'agurkai', 'obuoliai', 'braškės']\n"
     ]
    }
   ],
   "source": [
    "# Ketvirta užduotis\n",
    "# Atlikite žemiau nurodytus veiksmus su turimu sąrašu ir po kiekvieno veiksmo, sąrašą atspausdinkite:\n",
    "\n",
    "# Pridėkite dar vieną mėgstamo maisto pavadinimą į sąrašo galą.\n",
    "# Įterpkite naują maisto produktą į sąrašo ketvirtą vietą.\n",
    "# Pakeiskite antrąjį sąrašo elementą kitu mėgstamo maisto pavadinimu.\n",
    "# Ištrinkite pirmąjį sąrašo elementą.\n",
    "# Ištrinkite sąrašo trečią elementą.\n",
    "# Suraskite sąraše kurio nors elemento indeksą.\n",
    "# Atspausdinkite sąrašą atvirkštine tvarka.\n",
    "# Pabandykite papildomai panaudoti kitus metodus.\n",
    "megstami_maisto_produktai.append(\"mėlynės\")\n",
    "print(megstami_maisto_produktai)\n",
    "megstami_maisto_produktai.insert(4, \"agurkai\")\n",
    "print(megstami_maisto_produktai)\n",
    "megstami_maisto_produktai.pop(0)\n",
    "print(megstami_maisto_produktai)\n",
    "megstami_maisto_produktai.pop(2)\n",
    "print(megstami_maisto_produktai)\n",
    "print(megstami_maisto_produktai.index(\"mėlynės\"))\n",
    "megstami_maisto_produktai.reverse()\n",
    "print(megstami_maisto_produktai)\n",
    "# megstami_maisto_produktai.remove(\"mėlynės\")\n",
    "# print(megstami_maisto_produktai)"
   ]
  },
  {
   "cell_type": "code",
   "execution_count": 42,
   "metadata": {},
   "outputs": [
    {
     "name": "stdout",
     "output_type": "stream",
     "text": [
      "5\n"
     ]
    }
   ],
   "source": [
    "# Penkta užduotis\n",
    "# Patikrinkite sąrašo ilgį.\n",
    "print(len(megstami_maisto_produktai))"
   ]
  },
  {
   "cell_type": "code",
   "execution_count": 43,
   "metadata": {},
   "outputs": [
    {
     "name": "stdout",
     "output_type": "stream",
     "text": [
      "True\n"
     ]
    }
   ],
   "source": [
    "# Šešta užduotis\n",
    "# Patikrinkite ar tam tikras produktas yra sąraše.\n",
    "print(\"agurkai\" in megstami_maisto_produktai)"
   ]
  },
  {
   "attachments": {},
   "cell_type": "markdown",
   "metadata": {},
   "source": [
    "## Žodynai"
   ]
  },
  {
   "cell_type": "code",
   "execution_count": 48,
   "metadata": {},
   "outputs": [
    {
     "name": "stdout",
     "output_type": "stream",
     "text": [
      "{'Donas': 3, 'Molė': 2, 'Beta': 8}\n",
      "3\n",
      "{'Donas': 3, 'Molė': 2, 'Beta': 9}\n"
     ]
    }
   ],
   "source": [
    "# Pirma užduotis\n",
    "# Sukurkite žodyną su bent trimis augintinių vardais ir jų amžiumi.\n",
    "# Atspausdinkite visą žodyną.\n",
    "# Atspausdinkite kurio nors augintinio amžių.\n",
    "# Pridėkite naują augintinį.\n",
    "# Pakeiskite kurio nors augintinio amžių.\n",
    "# Ištrinkite kurį nors augintinį.\n",
    "# Atspausdinkite visą žodyną.\n",
    "augintiniai = {\"Donas\" : 3, \"Molė\" : 2, \"Beta\" : 8}\n",
    "print(augintiniai)\n",
    "print(augintiniai.get(\"Donas\"))\n",
    "augintiniai[\"Bagira\"] = 1\n",
    "augintiniai[\"Beta\"] = 9\n",
    "augintiniai.pop(\"Bagira\")\n",
    "print(augintiniai)"
   ]
  },
  {
   "cell_type": "code",
   "execution_count": 50,
   "metadata": {},
   "outputs": [
    {
     "name": "stdout",
     "output_type": "stream",
     "text": [
      "dict_keys(['Donas', 'Molė', 'Beta'])\n",
      "dict_values([3, 2, 8])\n",
      "dict_items([('Donas', 3), ('Molė', 2), ('Beta', 8)])\n",
      "8\n"
     ]
    }
   ],
   "source": [
    "# Atspausdinkite visų augintinių vardus.\n",
    "# Atspausdinkite visų augintinių amžius.\n",
    "# Atspausdinkite visų augintinių vardų ir amžių sąrašą.\n",
    "# Atspausdinkite konkretaus augintinio amžių pagal jo vardą.\n",
    "# Pabandykite papildomai panaudoti kitus metodus.\n",
    "augintiniai = {\"Donas\" : 3, \"Molė\" : 2, \"Beta\" : 8}\n",
    "print(augintiniai.keys())\n",
    "print(augintiniai.values())\n",
    "print(augintiniai.items())\n",
    "print(augintiniai.get(\"Beta\"))\n"
   ]
  },
  {
   "cell_type": "code",
   "execution_count": 57,
   "metadata": {},
   "outputs": [
    {
     "name": "stdout",
     "output_type": "stream",
     "text": [
      "mėlyna\n",
      "3\n",
      "False\n",
      "{'Alfa Romeo': 'mėlyna', 'Opel Astra': 'Žalia', 'VW Golf': 'mėlyna'}\n"
     ]
    }
   ],
   "source": [
    "# Bonus užduotis\n",
    "# Sukurkite tuščią žodyną pavadinimu \"automobiliai\" ir pridėkite prie žodyno informaciją apie 3 skirtingus automobilius (nebijokite naudoti savo kūrybiškumo ir įtraukti įvairių markių, modelių, metų, spalvų ir variklių tipų).\n",
    "# Išveskite žodyno informaciją apie vieną iš automobilių.\n",
    "# Pakeiskite informaciją apie vieną automobilį (pavyzdžiui, pakeiskite variklio tipą).\n",
    "# Pridėkite naują automobilį į žodyną.\n",
    "# Pašalinkite informaciją apie vieną automobilį iš žodyno.\n",
    "# Išveskite kiek yra automobilių žodyne.\n",
    "# Patikrinkite ar tam tikras automobilis yra žodyne.\n",
    "# Išvalykite žodyną.\n",
    "\n",
    "automobiliai = {}\n",
    "automobiliai[\"Alfa Romeo\"] = \"mėlyna\"\n",
    "automobiliai[\"Opel Astra\"] = \"sidabrinė\"\n",
    "automobiliai[\"Opel Zafira\"] = \"sidabrinė\"\n",
    "print(automobiliai[\"Alfa Romeo\"])\n",
    "automobiliai[\"Opel Astra\"] = \"Žalia\"\n",
    "automobiliai[\"VW Golf\"] = \"mėlyna\"\n",
    "automobiliai.pop(\"Opel Zafira\")\n",
    "print(len(automobiliai))\n",
    "print(\"BMV\" in automobiliai)\n",
    "print(automobiliai)"
   ]
  },
  {
   "attachments": {},
   "cell_type": "markdown",
   "metadata": {},
   "source": [
    "## Ciklai (Ciklas for)"
   ]
  },
  {
   "cell_type": "code",
   "execution_count": 94,
   "metadata": {},
   "outputs": [
    {
     "name": "stdout",
     "output_type": "stream",
     "text": [
      "1\n",
      "2\n",
      "3\n",
      "4\n",
      "5\n"
     ]
    }
   ],
   "source": [
    "# Sukurkite sąrašą su bent penkiais elementais\n",
    "# Atspausdinkite jį naudodami for ciklą\n",
    "elementai_5 = [1, 2, 3, 4, 5]\n",
    "for skaiciai in elementai_5:\n",
    "    print(skaiciai)"
   ]
  },
  {
   "cell_type": "code",
   "execution_count": null,
   "metadata": {},
   "outputs": [],
   "source": []
  },
  {
   "cell_type": "code",
   "execution_count": 10,
   "metadata": {},
   "outputs": [
    {
     "name": "stdout",
     "output_type": "stream",
     "text": [
      "1 a 1\n",
      "2 a 1\n",
      "3 a 1\n",
      "4 a 1\n",
      "5 a 1\n"
     ]
    }
   ],
   "source": [
    "# Sukurti programą, kuri:\n",
    "\n",
    "# Leistų vartotojui po vieną įvesti 5 žodžius\n",
    "# Pridėtų įvestus žodžius į sąrašą\n",
    "# Atspausdintų kiekvieną žodį, jo ilgį ir eilės numerį sąraše (nuo 1)\n",
    "# Iššūkis 💡: padarykite, kad programa leistų įvesti norimą žodžių kiekį\n",
    "# Patarimas: Naudoti sąrašą (list), ciklą for, funkcijas len ir index\n",
    "\n",
    "zodziai = []\n",
    "while len(zodziai) < 5:\n",
    "    zodis = input(\"Įveskite žodį: \")\n",
    "    zodziai.append(zodis)\n",
    "for indeksas, ivestas_zodis in enumerate(zodziai, start=1):\n",
    "    print(indeksas, ivestas_zodis, len(ivestas_zodis))\n"
   ]
  },
  {
   "cell_type": "code",
   "execution_count": 15,
   "metadata": {},
   "outputs": [
    {
     "name": "stdout",
     "output_type": "stream",
     "text": [
      "Tai yra nekeliamieji metai\n"
     ]
    }
   ],
   "source": [
    "# Leistų vartotojui įvesti metus\n",
    "# Atspausdintų \"Keliamieji metai\", jei taip yra\n",
    "# Atspausdintų \"Nekeliamieji metai\", jei taip yra\n",
    "metai = int(input(\"Įveskite metus: \"))\n",
    "\n",
    "if (metai % 400 == 0) or ( metai % 100 != 0) and (metai % 4 == 0):\n",
    "    print(\"Tai yra keliamieji metai\")\n",
    "else:\n",
    "    print(\"Tai yra nekeliamieji metai\")"
   ]
  },
  {
   "cell_type": "code",
   "execution_count": 19,
   "metadata": {},
   "outputs": [
    {
     "name": "stdout",
     "output_type": "stream",
     "text": [
      "1900 Tai yra nekeliamieji metai\n",
      "1901 Tai yra nekeliamieji metai\n",
      "1902 Tai yra nekeliamieji metai\n",
      "1903 Tai yra nekeliamieji metai\n",
      "1904 Tai yra keliamieji metai\n",
      "1905 Tai yra nekeliamieji metai\n",
      "1906 Tai yra nekeliamieji metai\n",
      "1907 Tai yra nekeliamieji metai\n",
      "1908 Tai yra keliamieji metai\n",
      "1909 Tai yra nekeliamieji metai\n",
      "1910 Tai yra nekeliamieji metai\n",
      "1911 Tai yra nekeliamieji metai\n",
      "1912 Tai yra keliamieji metai\n",
      "1913 Tai yra nekeliamieji metai\n",
      "1914 Tai yra nekeliamieji metai\n",
      "1915 Tai yra nekeliamieji metai\n",
      "1916 Tai yra keliamieji metai\n",
      "1917 Tai yra nekeliamieji metai\n",
      "1918 Tai yra nekeliamieji metai\n",
      "1919 Tai yra nekeliamieji metai\n",
      "1920 Tai yra keliamieji metai\n",
      "1921 Tai yra nekeliamieji metai\n",
      "1922 Tai yra nekeliamieji metai\n",
      "1923 Tai yra nekeliamieji metai\n",
      "1924 Tai yra keliamieji metai\n",
      "1925 Tai yra nekeliamieji metai\n",
      "1926 Tai yra nekeliamieji metai\n",
      "1927 Tai yra nekeliamieji metai\n",
      "1928 Tai yra keliamieji metai\n",
      "1929 Tai yra nekeliamieji metai\n",
      "1930 Tai yra nekeliamieji metai\n",
      "1931 Tai yra nekeliamieji metai\n",
      "1932 Tai yra keliamieji metai\n",
      "1933 Tai yra nekeliamieji metai\n",
      "1934 Tai yra nekeliamieji metai\n",
      "1935 Tai yra nekeliamieji metai\n",
      "1936 Tai yra keliamieji metai\n",
      "1937 Tai yra nekeliamieji metai\n",
      "1938 Tai yra nekeliamieji metai\n",
      "1939 Tai yra nekeliamieji metai\n",
      "1940 Tai yra keliamieji metai\n",
      "1941 Tai yra nekeliamieji metai\n",
      "1942 Tai yra nekeliamieji metai\n",
      "1943 Tai yra nekeliamieji metai\n",
      "1944 Tai yra keliamieji metai\n",
      "1945 Tai yra nekeliamieji metai\n",
      "1946 Tai yra nekeliamieji metai\n",
      "1947 Tai yra nekeliamieji metai\n",
      "1948 Tai yra keliamieji metai\n",
      "1949 Tai yra nekeliamieji metai\n",
      "1950 Tai yra nekeliamieji metai\n",
      "1951 Tai yra nekeliamieji metai\n",
      "1952 Tai yra keliamieji metai\n",
      "1953 Tai yra nekeliamieji metai\n",
      "1954 Tai yra nekeliamieji metai\n",
      "1955 Tai yra nekeliamieji metai\n",
      "1956 Tai yra keliamieji metai\n",
      "1957 Tai yra nekeliamieji metai\n",
      "1958 Tai yra nekeliamieji metai\n",
      "1959 Tai yra nekeliamieji metai\n",
      "1960 Tai yra keliamieji metai\n",
      "1961 Tai yra nekeliamieji metai\n",
      "1962 Tai yra nekeliamieji metai\n",
      "1963 Tai yra nekeliamieji metai\n",
      "1964 Tai yra keliamieji metai\n",
      "1965 Tai yra nekeliamieji metai\n",
      "1966 Tai yra nekeliamieji metai\n",
      "1967 Tai yra nekeliamieji metai\n",
      "1968 Tai yra keliamieji metai\n",
      "1969 Tai yra nekeliamieji metai\n",
      "1970 Tai yra nekeliamieji metai\n",
      "1971 Tai yra nekeliamieji metai\n",
      "1972 Tai yra keliamieji metai\n",
      "1973 Tai yra nekeliamieji metai\n",
      "1974 Tai yra nekeliamieji metai\n",
      "1975 Tai yra nekeliamieji metai\n",
      "1976 Tai yra keliamieji metai\n",
      "1977 Tai yra nekeliamieji metai\n",
      "1978 Tai yra nekeliamieji metai\n",
      "1979 Tai yra nekeliamieji metai\n",
      "1980 Tai yra keliamieji metai\n",
      "1981 Tai yra nekeliamieji metai\n",
      "1982 Tai yra nekeliamieji metai\n",
      "1983 Tai yra nekeliamieji metai\n",
      "1984 Tai yra keliamieji metai\n",
      "1985 Tai yra nekeliamieji metai\n",
      "1986 Tai yra nekeliamieji metai\n",
      "1987 Tai yra nekeliamieji metai\n",
      "1988 Tai yra keliamieji metai\n",
      "1989 Tai yra nekeliamieji metai\n",
      "1990 Tai yra nekeliamieji metai\n",
      "1991 Tai yra nekeliamieji metai\n",
      "1992 Tai yra keliamieji metai\n",
      "1993 Tai yra nekeliamieji metai\n",
      "1994 Tai yra nekeliamieji metai\n",
      "1995 Tai yra nekeliamieji metai\n",
      "1996 Tai yra keliamieji metai\n",
      "1997 Tai yra nekeliamieji metai\n",
      "1998 Tai yra nekeliamieji metai\n",
      "1999 Tai yra nekeliamieji metai\n",
      "2000 Tai yra keliamieji metai\n",
      "2001 Tai yra nekeliamieji metai\n",
      "2002 Tai yra nekeliamieji metai\n",
      "2003 Tai yra nekeliamieji metai\n",
      "2004 Tai yra keliamieji metai\n",
      "2005 Tai yra nekeliamieji metai\n",
      "2006 Tai yra nekeliamieji metai\n",
      "2007 Tai yra nekeliamieji metai\n",
      "2008 Tai yra keliamieji metai\n",
      "2009 Tai yra nekeliamieji metai\n",
      "2010 Tai yra nekeliamieji metai\n",
      "2011 Tai yra nekeliamieji metai\n",
      "2012 Tai yra keliamieji metai\n",
      "2013 Tai yra nekeliamieji metai\n",
      "2014 Tai yra nekeliamieji metai\n",
      "2015 Tai yra nekeliamieji metai\n",
      "2016 Tai yra keliamieji metai\n",
      "2017 Tai yra nekeliamieji metai\n",
      "2018 Tai yra nekeliamieji metai\n",
      "2019 Tai yra nekeliamieji metai\n",
      "2020 Tai yra keliamieji metai\n",
      "2021 Tai yra nekeliamieji metai\n",
      "2022 Tai yra nekeliamieji metai\n",
      "2023 Tai yra nekeliamieji metai\n",
      "2024 Tai yra keliamieji metai\n",
      "2025 Tai yra nekeliamieji metai\n",
      "2026 Tai yra nekeliamieji metai\n",
      "2027 Tai yra nekeliamieji metai\n",
      "2028 Tai yra keliamieji metai\n",
      "2029 Tai yra nekeliamieji metai\n",
      "2030 Tai yra nekeliamieji metai\n",
      "2031 Tai yra nekeliamieji metai\n",
      "2032 Tai yra keliamieji metai\n",
      "2033 Tai yra nekeliamieji metai\n",
      "2034 Tai yra nekeliamieji metai\n",
      "2035 Tai yra nekeliamieji metai\n",
      "2036 Tai yra keliamieji metai\n",
      "2037 Tai yra nekeliamieji metai\n",
      "2038 Tai yra nekeliamieji metai\n",
      "2039 Tai yra nekeliamieji metai\n",
      "2040 Tai yra keliamieji metai\n",
      "2041 Tai yra nekeliamieji metai\n",
      "2042 Tai yra nekeliamieji metai\n",
      "2043 Tai yra nekeliamieji metai\n",
      "2044 Tai yra keliamieji metai\n",
      "2045 Tai yra nekeliamieji metai\n",
      "2046 Tai yra nekeliamieji metai\n",
      "2047 Tai yra nekeliamieji metai\n",
      "2048 Tai yra keliamieji metai\n",
      "2049 Tai yra nekeliamieji metai\n",
      "2050 Tai yra nekeliamieji metai\n",
      "2051 Tai yra nekeliamieji metai\n",
      "2052 Tai yra keliamieji metai\n",
      "2053 Tai yra nekeliamieji metai\n",
      "2054 Tai yra nekeliamieji metai\n",
      "2055 Tai yra nekeliamieji metai\n",
      "2056 Tai yra keliamieji metai\n",
      "2057 Tai yra nekeliamieji metai\n",
      "2058 Tai yra nekeliamieji metai\n",
      "2059 Tai yra nekeliamieji metai\n",
      "2060 Tai yra keliamieji metai\n",
      "2061 Tai yra nekeliamieji metai\n",
      "2062 Tai yra nekeliamieji metai\n",
      "2063 Tai yra nekeliamieji metai\n",
      "2064 Tai yra keliamieji metai\n",
      "2065 Tai yra nekeliamieji metai\n",
      "2066 Tai yra nekeliamieji metai\n",
      "2067 Tai yra nekeliamieji metai\n",
      "2068 Tai yra keliamieji metai\n",
      "2069 Tai yra nekeliamieji metai\n",
      "2070 Tai yra nekeliamieji metai\n",
      "2071 Tai yra nekeliamieji metai\n",
      "2072 Tai yra keliamieji metai\n",
      "2073 Tai yra nekeliamieji metai\n",
      "2074 Tai yra nekeliamieji metai\n",
      "2075 Tai yra nekeliamieji metai\n",
      "2076 Tai yra keliamieji metai\n",
      "2077 Tai yra nekeliamieji metai\n",
      "2078 Tai yra nekeliamieji metai\n",
      "2079 Tai yra nekeliamieji metai\n",
      "2080 Tai yra keliamieji metai\n",
      "2081 Tai yra nekeliamieji metai\n",
      "2082 Tai yra nekeliamieji metai\n",
      "2083 Tai yra nekeliamieji metai\n",
      "2084 Tai yra keliamieji metai\n",
      "2085 Tai yra nekeliamieji metai\n",
      "2086 Tai yra nekeliamieji metai\n",
      "2087 Tai yra nekeliamieji metai\n",
      "2088 Tai yra keliamieji metai\n",
      "2089 Tai yra nekeliamieji metai\n",
      "2090 Tai yra nekeliamieji metai\n",
      "2091 Tai yra nekeliamieji metai\n",
      "2092 Tai yra keliamieji metai\n",
      "2093 Tai yra nekeliamieji metai\n",
      "2094 Tai yra nekeliamieji metai\n",
      "2095 Tai yra nekeliamieji metai\n",
      "2096 Tai yra keliamieji metai\n",
      "2097 Tai yra nekeliamieji metai\n",
      "2098 Tai yra nekeliamieji metai\n",
      "2099 Tai yra nekeliamieji metai\n"
     ]
    }
   ],
   "source": [
    "# Ketvirta užduotis\n",
    "# Perdaryti trečią užduoti taip, kad programa atspausdintų visus keliamuosius metus,\n",
    "# nuo 1900 iki 2100 metų.\n",
    "\n",
    "for metai_1 in range(1900, 2100):\n",
    "    if (metai_1 % 400 == 0) or ( metai_1 % 100 != 0) and (metai_1 % 4 == 0):\n",
    "        print(metai_1, \"Tai yra keliamieji metai\")\n",
    "    else:\n",
    "        print(metai_1, \"Tai yra nekeliamieji metai\")"
   ]
  },
  {
   "attachments": {},
   "cell_type": "markdown",
   "metadata": {},
   "source": [
    "## Ciklai (Ciklas While)"
   ]
  },
  {
   "cell_type": "code",
   "execution_count": null,
   "metadata": {},
   "outputs": [],
   "source": [
    "def clear(): \n",
    "    if os.name == 'nt':\n",
    "         os.system('cls') \n",
    "    else:\n",
    "         os.system('clear')"
   ]
  }
 ],
 "metadata": {
  "kernelspec": {
   "display_name": "venv",
   "language": "python",
   "name": "python3"
  },
  "language_info": {
   "codemirror_mode": {
    "name": "ipython",
    "version": 3
   },
   "file_extension": ".py",
   "mimetype": "text/x-python",
   "name": "python",
   "nbconvert_exporter": "python",
   "pygments_lexer": "ipython3",
   "version": "3.11.3"
  },
  "orig_nbformat": 4
 },
 "nbformat": 4,
 "nbformat_minor": 2
}
