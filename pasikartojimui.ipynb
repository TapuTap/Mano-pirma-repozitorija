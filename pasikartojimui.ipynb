{
 "cells": [
  {
   "attachments": {},
   "cell_type": "markdown",
   "metadata": {},
   "source": [
    "## Kintamieji"
   ]
  },
  {
   "cell_type": "code",
   "execution_count": 1,
   "metadata": {},
   "outputs": [
    {
     "name": "stdout",
     "output_type": "stream",
     "text": [
      "5 <class 'int'>\n",
      "3.14 <class 'float'>\n",
      "4j <class 'complex'>\n"
     ]
    }
   ],
   "source": [
    "# Sukurkite kintamąjį a ir priskirkite jam bet kokį sveikąjį skaičių.\n",
    "# Sukurkite kitą kintamąjį b ir priskirkite jam bet kokį slankiojo kablelio skaičių.\n",
    "# Tada sukurkite trečią kintamąjį c ir priskirkite jam bet kokį kompleksinį skaičių.\n",
    "# Atspausdinkite visus tris kintamuosius ir patikrinkite jų tipus.\n",
    "a = 5\n",
    "b = 3.14\n",
    "c = 4j\n",
    "\n",
    "print(a, type(a))\n",
    "print(b, type(b))\n",
    "print(c, type(c))"
   ]
  },
  {
   "attachments": {},
   "cell_type": "markdown",
   "metadata": {},
   "source": [
    "## Matematiniai operatoriai"
   ]
  },
  {
   "cell_type": "code",
   "execution_count": 2,
   "metadata": {},
   "outputs": [
    {
     "name": "stdout",
     "output_type": "stream",
     "text": [
      "5.140000000000001\n",
      "-1.1400000000000001\n",
      "19.7192\n",
      "0.6369426751592356\n",
      "8.815240927012887\n"
     ]
    }
   ],
   "source": [
    "# Pirma užduotis\n",
    "# Sukurkite kintamuosius x, y ir z ir priskirkite jiems atitinkamai sveikąjį skaičių, slankiojo kablelio skaičių ir kompleksinį skaičių. Tada su jais atlikite:\n",
    "\n",
    "# sudėties operaciją su kintamaisiais x ir y ir išsaugokite rezultatą kintamajame atsakymas1.\n",
    "# atimties operaciją su kintamaisiais x ir y ir išsaugokite rezultatą kintamajame atsakymas2.\n",
    "# daugybos operaciją su kintamaisiais x, y ir y ir išsaugokite rezultatą kintamajame atsakymas3.\n",
    "# dalybos operaciją su kintamaisiais x ir y ir išsaugokite rezultatą kintamajame atsakymas4.\n",
    "# keliamosios laipsnio operaciją su kintamaisiais x ir y ir išsaugokite rezultatą kintamajame atsakymas5.\n",
    "# Atspausdinkite visus penkis rezultatus.\n",
    "\n",
    "x = 2\n",
    "z = 3.14\n",
    "z = 6j\n",
    "\n",
    "atsakymas_1 = x + z\n",
    "atsakymas_2 = x - z\n",
    "atsakymas_3 = x * z * z \n",
    "atsakymas_4 = x / z \n",
    "atsakymas_5 = x ** z\n",
    "\n",
    "print(atsakymas_1)\n",
    "print(atsakymas_2)\n",
    "print(atsakymas_3)\n",
    "print(atsakymas_4)\n",
    "print(atsakymas_5)"
   ]
  },
  {
   "cell_type": "code",
   "execution_count": 4,
   "metadata": {},
   "outputs": [
    {
     "name": "stdout",
     "output_type": "stream",
     "text": [
      "(2+6j)\n",
      "(2-6j)\n",
      "(-72+0j)\n",
      "-0.3333333333333333j\n",
      "(-0.5256728737403399-0.8506867988946182j)\n"
     ]
    }
   ],
   "source": [
    "# Antra užduotis\n",
    "# Iššūkis 💡: Perdarykite pirmąją užduotį, tik vietoj kintamojo y panaudokite z kintamąjį.\n",
    "\n",
    "x = 2\n",
    "y = 3.14\n",
    "z = 6j\n",
    "\n",
    "atsakymas_1 = x + z\n",
    "atsakymas_2 = x - z\n",
    "atsakymas_3 = x * z * z \n",
    "atsakymas_4 = x / z \n",
    "atsakymas_5 = x ** z\n",
    "\n",
    "print(atsakymas_1)\n",
    "print(atsakymas_2)\n",
    "print(atsakymas_3)\n",
    "print(atsakymas_4)\n",
    "print(atsakymas_5)\n",
    "\n",
    "# Panaudota F2 mygtukas"
   ]
  },
  {
   "cell_type": "code",
   "execution_count": 5,
   "metadata": {},
   "outputs": [
    {
     "name": "stdout",
     "output_type": "stream",
     "text": [
      "1.0\n",
      "3.8200000000000003\n"
     ]
    }
   ],
   "source": [
    "# Trečia užduotis\n",
    "# Sukurkite kintamąjį a ir priskirkite jam bet kokį sveikąjį skaičių.\n",
    "# Sukurkite kintamąjį b ir priskirkite jam bet kokį slankiojo kablelio skaičių.\n",
    "# Atlikite šalutinę dalybos operaciją su kintamaisiais a ir b ir išsaugokite rezultatą kintamajame atsakymas1. (//)\n",
    "# Atlikite liekanos operaciją su kintamaisiais a ir b ir išsaugokite rezultatą kintamajame atsakymas2. Atspausdinkite abu rezultatus.\n",
    "\n",
    "a = 8\n",
    "b = 4.18\n",
    "\n",
    "atsakymas_1 = a // b\n",
    "atsakymas_2 = a % b\n",
    "\n",
    "print(atsakymas_1)\n",
    "print(atsakymas_2)"
   ]
  },
  {
   "attachments": {},
   "cell_type": "markdown",
   "metadata": {},
   "source": [
    "## Loginės sąlygos operatoriai"
   ]
  },
  {
   "cell_type": "code",
   "execution_count": 22,
   "metadata": {},
   "outputs": [],
   "source": [
    "# Įvadas į užduotis\n",
    "# # Paprašome vartotojo įvesti savo amžių ir konvertuojame į sveikąjį skaičių\n",
    "# amzius = int(input(\"Įveskite savo amžių: \"))\n",
    "\n",
    "# # Patikriname, ar vartotojo amžius yra didesnis nei 18\n",
    "# if amzius >= 18:\n",
    "#     print(\"Jūs esate pilnametis(-ė).\")\n",
    "# else:\n",
    "#     print(\"Jūs dar nepilnametis(-ė).\")\n",
    "\n",
    "# # Paprašome vartotojo įvesti skaičių ir konvertuojame į skaičių su kableliu\n",
    "# skaicius = float(input(\"Įveskite skaičių su kableliu: \"))\n",
    "\n",
    "# # Spausdiname vartotojo įvestą skaičių su kableliu\n",
    "# print(\"Jūsų įvestas skaičius yra:\", skaicius)\n"
   ]
  },
  {
   "cell_type": "code",
   "execution_count": 13,
   "metadata": {},
   "outputs": [
    {
     "name": "stdout",
     "output_type": "stream",
     "text": [
      "6.0  - yra teigiamas skaičius\n"
     ]
    }
   ],
   "source": [
    "# Pirma užduotis\n",
    "# Parašykite programą, kuri nustatytų, ar vartotojo įvestas skaičius yra teigiamas,\n",
    "# naudodami daugiau operatorių. Jei skaičius yra teigiamas, turi būti spausdinamas \n",
    "# pranešimas \"Skaičius yra teigiamas\", o jei ne - \"Skaičius yra neigiamas\".\n",
    "\n",
    "skaicius = int(input(\"Įveskite skaičių: \"))\n",
    "\n",
    "if skaicius >= 0:\n",
    "    print(skaicius, \" - yra teigiamas skaičius\")\n",
    "else:\n",
    "    print(skaicius, \" - yra neigiamas skaičius\")"
   ]
  },
  {
   "cell_type": "code",
   "execution_count": 15,
   "metadata": {},
   "outputs": [
    {
     "name": "stdout",
     "output_type": "stream",
     "text": [
      "2.0  - nėra tarp 5 ir 10\n"
     ]
    }
   ],
   "source": [
    "# Parašykite programą, kuri patikrintų, ar vartotojo įvestas skaičius yra tarp 5 ir 10,\n",
    "# naudodama mažiau arba lygu operatorių. Jei skaičius yra tarp 5 ir 10, \n",
    "# turi būti spausdinamas pranešimas \"Skaičius yra tarp 5 ir 10\", \n",
    "# o jei ne - \"Skaičius nėra tarp 5 ir 10\".\n",
    "skaicius = int(input(\"Įveskite skaičių: \"))\n",
    "\n",
    "if skaicius > 5 and skaicius < 10:\n",
    "    print(skaicius, \" - yra tarp 5 ir 10\")\n",
    "else:\n",
    "    print (skaicius, \" - nėra tarp 5 ir 10\")\n"
   ]
  },
  {
   "cell_type": "code",
   "execution_count": 20,
   "metadata": {},
   "outputs": [
    {
     "name": "stdout",
     "output_type": "stream",
     "text": [
      "Bent vienas skaičius yra neigiamas arba lygus 0\n"
     ]
    }
   ],
   "source": [
    "# Trečia užduotis\n",
    "# Parašykite programą, kuri patikrintų, ar du skaičiai yra didesni nei 0,\n",
    "# naudodami \"ir\" operatorių. Jei abu skaičiai yra didesni nei 0, \n",
    "# turi būti spausdinamas pranešimas \"Abu skaičiai yra didesni nei 0\", \n",
    "# o jei ne - \"Bent vienas skaičius yra neigiamas arba lygus 0\".\n",
    "\n",
    "pirmas_skaicius = int(input(\"Įveskite pirmą skaičių: \"))\n",
    "antras_skaicius = int(input(\"Įveskite antrą skaičių: \"))\n",
    "\n",
    "if pirmas_skaicius > 0 and antras_skaicius > 0:\n",
    "    print(\"Abu skaičiai yra didesni nei 0\")\n",
    "else:\n",
    "    print(\"Bent vienas skaičius yra neigiamas arba lygus 0\")"
   ]
  },
  {
   "cell_type": "code",
   "execution_count": 21,
   "metadata": {},
   "outputs": [
    {
     "name": "stdout",
     "output_type": "stream",
     "text": [
      "Bent vienas skaičius yra lyginis\n"
     ]
    }
   ],
   "source": [
    "# Parašykite programą, kuri nustatytų, ar bent vienas duotų skaičių yra lyginis,\n",
    "# naudodami \"arba\" operatorių. Jei bent vienas skaičius yra lyginis,\n",
    "# turi būti spausdinamas pranešimas \"Bent vienas skaičius yra lyginis\",\n",
    "# o jei ne - \"Abu skaičiai yra nelyginiai\".\n",
    "\n",
    "pirmas_skaicius = int(input(\"Įveskite pirmą skaičių: \"))\n",
    "antras_skaicius = int(input(\"Įveskite antrą skaičių: \"))\n",
    "\n",
    "if pirmas_skaicius % 2 == 0 or antras_skaicius % 2 == 0:\n",
    "    print(\"Bent vienas skaičius yra lyginis\")\n",
    "else:\n",
    "    print(\"Abu skaičiai yra nelyginiai\")"
   ]
  },
  {
   "attachments": {},
   "cell_type": "markdown",
   "metadata": {},
   "source": [
    "## Simbolių eilutės ir jų metodai"
   ]
  },
  {
   "cell_type": "code",
   "execution_count": 29,
   "metadata": {},
   "outputs": [
    {
     "name": "stdout",
     "output_type": "stream",
     "text": [
      "Simbolių eilutė:  fdfs65\n",
      "Pirmas simbolis:  f ,\n",
      "Paskutinis simbolis:  5\n"
     ]
    }
   ],
   "source": [
    "# Parašykite programą, kuri leidžia vartotojui įvesti bet kokią simbolių eilutę\n",
    "# ir atspausdina jos pirmąjį ir paskutinį simbolius.\n",
    "simboliu_eilute = input(\"Įveskite bet kokią sibolių eilutę: \")\n",
    "print(\"Simbolių eilutė: \", simboliu_eilute)\n",
    "print(\"Pirmas simbolis: \", simboliu_eilute[0],\",\\n\" \"Paskutinis simbolis: \", simboliu_eilute[-1])"
   ]
  },
  {
   "cell_type": "code",
   "execution_count": 30,
   "metadata": {},
   "outputs": [
    {
     "name": "stdout",
     "output_type": "stream",
     "text": [
      "Rugiu\n"
     ]
    }
   ],
   "source": [
    "# Sukurkite simbolių eilutę, kurią sudaro jūsų mėgstamos knygos pavadinimas. \n",
    "# Atspausdinkite jo pirmąsias penkias raides.\n",
    "knygos_pavadinimas = \"Rugiuose prie bedugnės\"\n",
    "print(knygos_pavadinimas[:5])"
   ]
  },
  {
   "cell_type": "code",
   "execution_count": 32,
   "metadata": {},
   "outputs": [
    {
     "name": "stdout",
     "output_type": "stream",
     "text": [
      "iui\n"
     ]
    }
   ],
   "source": [
    "# Sukurkite simbolių eilutę, kurią sudaro jūsų mėgstama citata. Atspausdinkite jo paskutines tris raides.\n",
    "citata = \"Tik negyvos žuvys plaukia pasroviui\"\n",
    "print(citata[-3:])"
   ]
  },
  {
   "cell_type": "code",
   "execution_count": 34,
   "metadata": {},
   "outputs": [
    {
     "name": "stdout",
     "output_type": "stream",
     "text": [
      "l - v\n",
      "l-v\n"
     ]
    }
   ],
   "source": [
    "# Sukurkite programą, kuri leidžia vartotojui įvesti du skirtingus žodžius\n",
    "# ir atspausdina kiekvieno žodžio pirmuosius simbolius, atskirtus brūkšneliu.\n",
    "# Pvz., \"Labas vakaras\" ir \"geros dienos\" -> \"L-v\", \"g-d\".\n",
    "# Naudokite du kintamuosius įvedimui.\n",
    "pirmas_zodis = input(\"Įveskite pirmąjį žodį: \")\n",
    "antrasis_zodis = input (\"Įveskite antrąjį žodį: \")\n",
    "bendras_zodis = pirmas_zodis[0] + \"-\" + antrasis_zodis[0]\n",
    "print(bendras_zodis)"
   ]
  },
  {
   "cell_type": "code",
   "execution_count": 39,
   "metadata": {},
   "outputs": [
    {
     "name": "stdout",
     "output_type": "stream",
     "text": [
      "AŠ ESU STUDENTAS\n",
      "aš esu studentas\n",
      "Aš esu studentas\n",
      "['Aš', 'esu', 'studentas']\n",
      "radau studentas\n",
      "Aš esu programuotojas\n"
     ]
    }
   ],
   "source": [
    "# Penkta užduotis\n",
    "# Sukurkite tekstą \"Aš esu studentas\".\n",
    "# Panaudokite upper metodą, kad pakeistumėte visas raides didžiosiomis.\n",
    "# Panaudokite lower metodą, kad pakeistumėte visas raides mažosiomis.\n",
    "# Panaudokite join metodą, kad sujungtumėte žodžių sąrašą [\"Aš\", \"esu\", \"studentas\"]\n",
    "# į vieną eilutę su tarpais tarp žodžių.\n",
    "# Panaudokite split metodą, kad padalintumėte eilutę \"Aš esu studentas\" į žodžių sąrašą.\n",
    "# Panaudokite find metodą, kad rastumėte poziciją, kurioje prasideda žodis \"studentas\" eilutėje \n",
    "# \"Aš esu studentas\".\n",
    "# Panaudokite replace metodą, kad pakeistumėte žodį \"studentas\" žodžiu \"programuotojas\" eilutėje \n",
    "# \"Aš esu studentas\".\n",
    "\n",
    "tekstas = \"Aš esu studentas\"\n",
    "\n",
    "didziosios = tekstas.upper()\n",
    "print(didziosios)\n",
    "\n",
    "mazosios = tekstas.lower()\n",
    "print(mazosios)\n",
    "\n",
    "zodziu_sarasas = [\"Aš\", \"esu\", \"studentas\"]\n",
    "sujungtas = \" \".join(zodziu_sarasas)\n",
    "print(sujungtas)\n",
    "\n",
    "isskaidytas = tekstas.split()\n",
    "print(isskaidytas)\n",
    "\n",
    "if tekstas.find(\"studentas\") >=0:\n",
    "    print(\"radau studentas\")\n",
    "else:\n",
    "    print(\"neradau studentas\")\n",
    "\n",
    "pakeistas = tekstas.replace(\"studentas\", \"programuotojas\")\n",
    "print(pakeistas)"
   ]
  },
  {
   "cell_type": "code",
   "execution_count": 45,
   "metadata": {},
   "outputs": [
    {
     "name": "stdout",
     "output_type": "stream",
     "text": [
      "Raimonda , 100 metų Jums sukaks  2093 metais\n"
     ]
    }
   ],
   "source": [
    "# Paprašykite vartotojo įvesti savo vardą ir amžių. \n",
    "# Tada išveskite pranešimą, kuriame nurodomi vartotojo vardas ir metai,\n",
    "# kai vartotojui sukaks 100 metų.\n",
    "vardas = input(\"Įveskite savo vardą:\")\n",
    "amzius = input(\"Įveskite savo amžių\")\n",
    "simtas_metu = 2023 - int(amzius) + 100\n",
    "print(vardas, \", 100 metų Jums sukaks \", simtas_metu , \"metais\")"
   ]
  },
  {
   "cell_type": "code",
   "execution_count": 48,
   "metadata": {},
   "outputs": [
    {
     "name": "stdout",
     "output_type": "stream",
     "text": [
      "Jūsų ūgis centimetrais:  176 Jūsų ūgis metrais:  1.76\n"
     ]
    }
   ],
   "source": [
    "# Parašykite programą, kuri paprašytų vartotojo įvesti savo ūgį centimetrais. \n",
    "# Tada programą turi paversti vartotojo ūgį metrais ir išvesti pranešimą su vartotojo ūgiu\n",
    "# abiejomis matavimo vienetų.\n",
    "ugis_cm = input(\"Įveskite savo ūgį (cm)\")\n",
    "ugis_m = int(ugis_cm) / 100\n",
    "print(\"Jūsų ūgis centimetrais: \", ugis_cm, \"Jūsų ūgis metrais: \", ugis_m)"
   ]
  },
  {
   "cell_type": "code",
   "execution_count": 50,
   "metadata": {},
   "outputs": [
    {
     "name": "stdout",
     "output_type": "stream",
     "text": [
      "Jūsų atlyginimas mėnesio gale:  880.0 EUR\n"
     ]
    }
   ],
   "source": [
    "# Paprašykite vartotojo įvesti savo atlyginimą ir taikomą mokesčio procentą.\n",
    "# Tada apskaičiuokite, kiek vartotojas gaus mėnesio pabaigoje, \n",
    "# kai nuo atlyginimo bus nuskaičiuotas mokesčio procentas.\n",
    "atlyginimas = input(\"Įveskite savo atlyginimą: \")\n",
    "mokesciai = input(\"Įveskite takomo mokesčio procentą: \")\n",
    "atlyginimas_netto = int(atlyginimas) * (1 - int(mokesciai) / 100)\n",
    "print(\"Jūsų atlyginimas mėnesio gale: \", atlyginimas_netto, \"EUR\")"
   ]
  },
  {
   "cell_type": "code",
   "execution_count": 52,
   "metadata": {},
   "outputs": [
    {
     "name": "stdout",
     "output_type": "stream",
     "text": [
      "Temperatūra laipnniais Celcijaus 0.02958579881656805\n"
     ]
    }
   ],
   "source": [
    "# Sukurkite programą, kuri leistų vartotojui pasirinkti,\n",
    "# kokią konversiją jis nori atlikti: arba keisti temperatūrą iš laipsnių Celsijaus į laipsnius Farenheito,\n",
    "# arba iš laipsnių Farenheito į laipsnius Celsijaus. \n",
    "# Tada programa turi paprašyti vartotojo įvesti pradinę temperatūrą \n",
    "# ir atlikti konversiją bei išvesti rezultatą.\n",
    "\n",
    "konversija = input(\"Įveskite, kokią konversiją norite kovertuoti. (Įvesti C arba F)\")\n",
    "temperatūra = float(input( \"Įveskite temperatūrą\"))\n",
    "if konversija == \"C\":\n",
    "    print (\"Temperatūra Farenheitais\" , temperatūra * 33.8) \n",
    "else:\n",
    "    print (\"Temperatūra laipnniais Celcijaus\", temperatūra / 33.8)\n"
   ]
  },
  {
   "attachments": {},
   "cell_type": "markdown",
   "metadata": {},
   "source": [
    "## Sąrašai"
   ]
  },
  {
   "cell_type": "code",
   "execution_count": 38,
   "metadata": {},
   "outputs": [
    {
     "name": "stdout",
     "output_type": "stream",
     "text": [
      "['bananai', 'braškės', 'obuoliai', 'slyvos', 'mangai']\n"
     ]
    }
   ],
   "source": [
    "# Pirma užduotis\n",
    "# Sukurkite sąrašą su bent penkiais jūsų mėgstamų maisto produktų pavadinimais.\n",
    "# Atspausdinkite visą sąrašą.\n",
    "megstami_maisto_produktai = [\"bananai\", \"braškės\",\"obuoliai\", \"slyvos\", \"mangai\"]\n",
    "print(megstami_maisto_produktai)"
   ]
  },
  {
   "cell_type": "code",
   "execution_count": 39,
   "metadata": {},
   "outputs": [
    {
     "name": "stdout",
     "output_type": "stream",
     "text": [
      "bananai\n",
      "obuoliai\n",
      "mangai\n"
     ]
    }
   ],
   "source": [
    "# Antra užduotis\n",
    "# Atspausdinkite sąrašo pirmą elementą.\n",
    "# Atspausdinkite sąrašo trečią elementą.\n",
    "# Atspausdinkite sąrašo paskutinį elementą.\n",
    "print(megstami_maisto_produktai[0])\n",
    "print(megstami_maisto_produktai[2])\n",
    "print(megstami_maisto_produktai[-1])"
   ]
  },
  {
   "cell_type": "code",
   "execution_count": 40,
   "metadata": {},
   "outputs": [
    {
     "name": "stdout",
     "output_type": "stream",
     "text": [
      "['bananai', 'braškės', 'obuoliai']\n",
      "['braškės', 'obuoliai', 'slyvos']\n",
      "['bananai', 'obuoliai', 'mangai']\n"
     ]
    }
   ],
   "source": [
    "# Trečia užduotis\n",
    "# Atspausdinkite sąrašo pirmus tris elementus.\n",
    "# Atspausdinkite sąrašo paskutinius du elementus.\n",
    "# Atspausdinkite tris elementus iš sąrašo vidurio.\n",
    "# Atspausdinkite sąrašo kas antrą elementą.\n",
    "print(megstami_maisto_produktai[:3])\n",
    "print(megstami_maisto_produktai[1:4])\n",
    "print(megstami_maisto_produktai[::2])"
   ]
  },
  {
   "cell_type": "code",
   "execution_count": 41,
   "metadata": {},
   "outputs": [
    {
     "name": "stdout",
     "output_type": "stream",
     "text": [
      "['bananai', 'braškės', 'obuoliai', 'slyvos', 'mangai', 'mėlynės']\n",
      "['bananai', 'braškės', 'obuoliai', 'slyvos', 'agurkai', 'mangai', 'mėlynės']\n",
      "['braškės', 'obuoliai', 'slyvos', 'agurkai', 'mangai', 'mėlynės']\n",
      "['braškės', 'obuoliai', 'agurkai', 'mangai', 'mėlynės']\n",
      "4\n",
      "['mėlynės', 'mangai', 'agurkai', 'obuoliai', 'braškės']\n"
     ]
    }
   ],
   "source": [
    "# Ketvirta užduotis\n",
    "# Atlikite žemiau nurodytus veiksmus su turimu sąrašu ir po kiekvieno veiksmo, sąrašą atspausdinkite:\n",
    "\n",
    "# Pridėkite dar vieną mėgstamo maisto pavadinimą į sąrašo galą.\n",
    "# Įterpkite naują maisto produktą į sąrašo ketvirtą vietą.\n",
    "# Pakeiskite antrąjį sąrašo elementą kitu mėgstamo maisto pavadinimu.\n",
    "# Ištrinkite pirmąjį sąrašo elementą.\n",
    "# Ištrinkite sąrašo trečią elementą.\n",
    "# Suraskite sąraše kurio nors elemento indeksą.\n",
    "# Atspausdinkite sąrašą atvirkštine tvarka.\n",
    "# Pabandykite papildomai panaudoti kitus metodus.\n",
    "megstami_maisto_produktai.append(\"mėlynės\")\n",
    "print(megstami_maisto_produktai)\n",
    "megstami_maisto_produktai.insert(4, \"agurkai\")\n",
    "print(megstami_maisto_produktai)\n",
    "megstami_maisto_produktai.pop(0)\n",
    "print(megstami_maisto_produktai)\n",
    "megstami_maisto_produktai.pop(2)\n",
    "print(megstami_maisto_produktai)\n",
    "print(megstami_maisto_produktai.index(\"mėlynės\"))\n",
    "megstami_maisto_produktai.reverse()\n",
    "print(megstami_maisto_produktai)\n",
    "# megstami_maisto_produktai.remove(\"mėlynės\")\n",
    "# print(megstami_maisto_produktai)"
   ]
  },
  {
   "cell_type": "code",
   "execution_count": 42,
   "metadata": {},
   "outputs": [
    {
     "name": "stdout",
     "output_type": "stream",
     "text": [
      "5\n"
     ]
    }
   ],
   "source": [
    "# Penkta užduotis\n",
    "# Patikrinkite sąrašo ilgį.\n",
    "print(len(megstami_maisto_produktai))"
   ]
  },
  {
   "cell_type": "code",
   "execution_count": 43,
   "metadata": {},
   "outputs": [
    {
     "name": "stdout",
     "output_type": "stream",
     "text": [
      "True\n"
     ]
    }
   ],
   "source": [
    "# Šešta užduotis\n",
    "# Patikrinkite ar tam tikras produktas yra sąraše.\n",
    "print(\"agurkai\" in megstami_maisto_produktai)"
   ]
  },
  {
   "attachments": {},
   "cell_type": "markdown",
   "metadata": {},
   "source": [
    "## Žodynai"
   ]
  },
  {
   "cell_type": "code",
   "execution_count": 48,
   "metadata": {},
   "outputs": [
    {
     "name": "stdout",
     "output_type": "stream",
     "text": [
      "{'Donas': 3, 'Molė': 2, 'Beta': 8}\n",
      "3\n",
      "{'Donas': 3, 'Molė': 2, 'Beta': 9}\n"
     ]
    }
   ],
   "source": [
    "# Pirma užduotis\n",
    "# Sukurkite žodyną su bent trimis augintinių vardais ir jų amžiumi.\n",
    "# Atspausdinkite visą žodyną.\n",
    "# Atspausdinkite kurio nors augintinio amžių.\n",
    "# Pridėkite naują augintinį.\n",
    "# Pakeiskite kurio nors augintinio amžių.\n",
    "# Ištrinkite kurį nors augintinį.\n",
    "# Atspausdinkite visą žodyną.\n",
    "augintiniai = {\"Donas\" : 3, \"Molė\" : 2, \"Beta\" : 8}\n",
    "print(augintiniai)\n",
    "print(augintiniai.get(\"Donas\"))\n",
    "augintiniai[\"Bagira\"] = 1\n",
    "augintiniai[\"Beta\"] = 9\n",
    "augintiniai.pop(\"Bagira\")\n",
    "print(augintiniai)"
   ]
  },
  {
   "cell_type": "code",
   "execution_count": 50,
   "metadata": {},
   "outputs": [
    {
     "name": "stdout",
     "output_type": "stream",
     "text": [
      "dict_keys(['Donas', 'Molė', 'Beta'])\n",
      "dict_values([3, 2, 8])\n",
      "dict_items([('Donas', 3), ('Molė', 2), ('Beta', 8)])\n",
      "8\n"
     ]
    }
   ],
   "source": [
    "# Atspausdinkite visų augintinių vardus.\n",
    "# Atspausdinkite visų augintinių amžius.\n",
    "# Atspausdinkite visų augintinių vardų ir amžių sąrašą.\n",
    "# Atspausdinkite konkretaus augintinio amžių pagal jo vardą.\n",
    "# Pabandykite papildomai panaudoti kitus metodus.\n",
    "augintiniai = {\"Donas\" : 3, \"Molė\" : 2, \"Beta\" : 8}\n",
    "print(augintiniai.keys())\n",
    "print(augintiniai.values())\n",
    "print(augintiniai.items())\n",
    "print(augintiniai.get(\"Beta\"))\n"
   ]
  },
  {
   "cell_type": "code",
   "execution_count": 57,
   "metadata": {},
   "outputs": [
    {
     "name": "stdout",
     "output_type": "stream",
     "text": [
      "mėlyna\n",
      "3\n",
      "False\n",
      "{'Alfa Romeo': 'mėlyna', 'Opel Astra': 'Žalia', 'VW Golf': 'mėlyna'}\n"
     ]
    }
   ],
   "source": [
    "# Bonus užduotis\n",
    "# Sukurkite tuščią žodyną pavadinimu \"automobiliai\" ir pridėkite prie žodyno informaciją apie 3 skirtingus automobilius (nebijokite naudoti savo kūrybiškumo ir įtraukti įvairių markių, modelių, metų, spalvų ir variklių tipų).\n",
    "# Išveskite žodyno informaciją apie vieną iš automobilių.\n",
    "# Pakeiskite informaciją apie vieną automobilį (pavyzdžiui, pakeiskite variklio tipą).\n",
    "# Pridėkite naują automobilį į žodyną.\n",
    "# Pašalinkite informaciją apie vieną automobilį iš žodyno.\n",
    "# Išveskite kiek yra automobilių žodyne.\n",
    "# Patikrinkite ar tam tikras automobilis yra žodyne.\n",
    "# Išvalykite žodyną.\n",
    "\n",
    "automobiliai = {}\n",
    "automobiliai[\"Alfa Romeo\"] = \"mėlyna\"\n",
    "automobiliai[\"Opel Astra\"] = \"sidabrinė\"\n",
    "automobiliai[\"Opel Zafira\"] = \"sidabrinė\"\n",
    "print(automobiliai[\"Alfa Romeo\"])\n",
    "automobiliai[\"Opel Astra\"] = \"Žalia\"\n",
    "automobiliai[\"VW Golf\"] = \"mėlyna\"\n",
    "automobiliai.pop(\"Opel Zafira\")\n",
    "print(len(automobiliai))\n",
    "print(\"BMV\" in automobiliai)\n",
    "print(automobiliai)"
   ]
  },
  {
   "attachments": {},
   "cell_type": "markdown",
   "metadata": {},
   "source": [
    "## Ciklai (Ciklas for)"
   ]
  },
  {
   "cell_type": "code",
   "execution_count": 94,
   "metadata": {},
   "outputs": [
    {
     "name": "stdout",
     "output_type": "stream",
     "text": [
      "1\n",
      "2\n",
      "3\n",
      "4\n",
      "5\n"
     ]
    }
   ],
   "source": [
    "# Sukurkite sąrašą su bent penkiais elementais\n",
    "# Atspausdinkite jį naudodami for ciklą\n",
    "elementai_5 = [1, 2, 3, 4, 5]\n",
    "for skaiciai in elementai_5:\n",
    "    print(skaiciai)"
   ]
  },
  {
   "cell_type": "code",
   "execution_count": null,
   "metadata": {},
   "outputs": [],
   "source": []
  },
  {
   "cell_type": "code",
   "execution_count": 10,
   "metadata": {},
   "outputs": [
    {
     "name": "stdout",
     "output_type": "stream",
     "text": [
      "1 a 1\n",
      "2 a 1\n",
      "3 a 1\n",
      "4 a 1\n",
      "5 a 1\n"
     ]
    }
   ],
   "source": [
    "# Sukurti programą, kuri:\n",
    "\n",
    "# Leistų vartotojui po vieną įvesti 5 žodžius\n",
    "# Pridėtų įvestus žodžius į sąrašą\n",
    "# Atspausdintų kiekvieną žodį, jo ilgį ir eilės numerį sąraše (nuo 1)\n",
    "# Iššūkis 💡: padarykite, kad programa leistų įvesti norimą žodžių kiekį\n",
    "# Patarimas: Naudoti sąrašą (list), ciklą for, funkcijas len ir index\n",
    "\n",
    "zodziai = []\n",
    "while len(zodziai) < 5:\n",
    "    zodis = input(\"Įveskite žodį: \")\n",
    "    zodziai.append(zodis)\n",
    "for indeksas, ivestas_zodis in enumerate(zodziai, start=1):\n",
    "    print(indeksas, ivestas_zodis, len(ivestas_zodis))\n"
   ]
  },
  {
   "cell_type": "code",
   "execution_count": 15,
   "metadata": {},
   "outputs": [
    {
     "name": "stdout",
     "output_type": "stream",
     "text": [
      "Tai yra nekeliamieji metai\n"
     ]
    }
   ],
   "source": [
    "# Leistų vartotojui įvesti metus\n",
    "# Atspausdintų \"Keliamieji metai\", jei taip yra\n",
    "# Atspausdintų \"Nekeliamieji metai\", jei taip yra\n",
    "metai = int(input(\"Įveskite metus: \"))\n",
    "\n",
    "if (metai % 400 == 0) or ( metai % 100 != 0) and (metai % 4 == 0):\n",
    "    print(\"Tai yra keliamieji metai\")\n",
    "else:\n",
    "    print(\"Tai yra nekeliamieji metai\")"
   ]
  },
  {
   "cell_type": "code",
   "execution_count": 19,
   "metadata": {},
   "outputs": [
    {
     "name": "stdout",
     "output_type": "stream",
     "text": [
      "1900 Tai yra nekeliamieji metai\n",
      "1901 Tai yra nekeliamieji metai\n",
      "1902 Tai yra nekeliamieji metai\n",
      "1903 Tai yra nekeliamieji metai\n",
      "1904 Tai yra keliamieji metai\n",
      "1905 Tai yra nekeliamieji metai\n",
      "1906 Tai yra nekeliamieji metai\n",
      "1907 Tai yra nekeliamieji metai\n",
      "1908 Tai yra keliamieji metai\n",
      "1909 Tai yra nekeliamieji metai\n",
      "1910 Tai yra nekeliamieji metai\n",
      "1911 Tai yra nekeliamieji metai\n",
      "1912 Tai yra keliamieji metai\n",
      "1913 Tai yra nekeliamieji metai\n",
      "1914 Tai yra nekeliamieji metai\n",
      "1915 Tai yra nekeliamieji metai\n",
      "1916 Tai yra keliamieji metai\n",
      "1917 Tai yra nekeliamieji metai\n",
      "1918 Tai yra nekeliamieji metai\n",
      "1919 Tai yra nekeliamieji metai\n",
      "1920 Tai yra keliamieji metai\n",
      "1921 Tai yra nekeliamieji metai\n",
      "1922 Tai yra nekeliamieji metai\n",
      "1923 Tai yra nekeliamieji metai\n",
      "1924 Tai yra keliamieji metai\n",
      "1925 Tai yra nekeliamieji metai\n",
      "1926 Tai yra nekeliamieji metai\n",
      "1927 Tai yra nekeliamieji metai\n",
      "1928 Tai yra keliamieji metai\n",
      "1929 Tai yra nekeliamieji metai\n",
      "1930 Tai yra nekeliamieji metai\n",
      "1931 Tai yra nekeliamieji metai\n",
      "1932 Tai yra keliamieji metai\n",
      "1933 Tai yra nekeliamieji metai\n",
      "1934 Tai yra nekeliamieji metai\n",
      "1935 Tai yra nekeliamieji metai\n",
      "1936 Tai yra keliamieji metai\n",
      "1937 Tai yra nekeliamieji metai\n",
      "1938 Tai yra nekeliamieji metai\n",
      "1939 Tai yra nekeliamieji metai\n",
      "1940 Tai yra keliamieji metai\n",
      "1941 Tai yra nekeliamieji metai\n",
      "1942 Tai yra nekeliamieji metai\n",
      "1943 Tai yra nekeliamieji metai\n",
      "1944 Tai yra keliamieji metai\n",
      "1945 Tai yra nekeliamieji metai\n",
      "1946 Tai yra nekeliamieji metai\n",
      "1947 Tai yra nekeliamieji metai\n",
      "1948 Tai yra keliamieji metai\n",
      "1949 Tai yra nekeliamieji metai\n",
      "1950 Tai yra nekeliamieji metai\n",
      "1951 Tai yra nekeliamieji metai\n",
      "1952 Tai yra keliamieji metai\n",
      "1953 Tai yra nekeliamieji metai\n",
      "1954 Tai yra nekeliamieji metai\n",
      "1955 Tai yra nekeliamieji metai\n",
      "1956 Tai yra keliamieji metai\n",
      "1957 Tai yra nekeliamieji metai\n",
      "1958 Tai yra nekeliamieji metai\n",
      "1959 Tai yra nekeliamieji metai\n",
      "1960 Tai yra keliamieji metai\n",
      "1961 Tai yra nekeliamieji metai\n",
      "1962 Tai yra nekeliamieji metai\n",
      "1963 Tai yra nekeliamieji metai\n",
      "1964 Tai yra keliamieji metai\n",
      "1965 Tai yra nekeliamieji metai\n",
      "1966 Tai yra nekeliamieji metai\n",
      "1967 Tai yra nekeliamieji metai\n",
      "1968 Tai yra keliamieji metai\n",
      "1969 Tai yra nekeliamieji metai\n",
      "1970 Tai yra nekeliamieji metai\n",
      "1971 Tai yra nekeliamieji metai\n",
      "1972 Tai yra keliamieji metai\n",
      "1973 Tai yra nekeliamieji metai\n",
      "1974 Tai yra nekeliamieji metai\n",
      "1975 Tai yra nekeliamieji metai\n",
      "1976 Tai yra keliamieji metai\n",
      "1977 Tai yra nekeliamieji metai\n",
      "1978 Tai yra nekeliamieji metai\n",
      "1979 Tai yra nekeliamieji metai\n",
      "1980 Tai yra keliamieji metai\n",
      "1981 Tai yra nekeliamieji metai\n",
      "1982 Tai yra nekeliamieji metai\n",
      "1983 Tai yra nekeliamieji metai\n",
      "1984 Tai yra keliamieji metai\n",
      "1985 Tai yra nekeliamieji metai\n",
      "1986 Tai yra nekeliamieji metai\n",
      "1987 Tai yra nekeliamieji metai\n",
      "1988 Tai yra keliamieji metai\n",
      "1989 Tai yra nekeliamieji metai\n",
      "1990 Tai yra nekeliamieji metai\n",
      "1991 Tai yra nekeliamieji metai\n",
      "1992 Tai yra keliamieji metai\n",
      "1993 Tai yra nekeliamieji metai\n",
      "1994 Tai yra nekeliamieji metai\n",
      "1995 Tai yra nekeliamieji metai\n",
      "1996 Tai yra keliamieji metai\n",
      "1997 Tai yra nekeliamieji metai\n",
      "1998 Tai yra nekeliamieji metai\n",
      "1999 Tai yra nekeliamieji metai\n",
      "2000 Tai yra keliamieji metai\n",
      "2001 Tai yra nekeliamieji metai\n",
      "2002 Tai yra nekeliamieji metai\n",
      "2003 Tai yra nekeliamieji metai\n",
      "2004 Tai yra keliamieji metai\n",
      "2005 Tai yra nekeliamieji metai\n",
      "2006 Tai yra nekeliamieji metai\n",
      "2007 Tai yra nekeliamieji metai\n",
      "2008 Tai yra keliamieji metai\n",
      "2009 Tai yra nekeliamieji metai\n",
      "2010 Tai yra nekeliamieji metai\n",
      "2011 Tai yra nekeliamieji metai\n",
      "2012 Tai yra keliamieji metai\n",
      "2013 Tai yra nekeliamieji metai\n",
      "2014 Tai yra nekeliamieji metai\n",
      "2015 Tai yra nekeliamieji metai\n",
      "2016 Tai yra keliamieji metai\n",
      "2017 Tai yra nekeliamieji metai\n",
      "2018 Tai yra nekeliamieji metai\n",
      "2019 Tai yra nekeliamieji metai\n",
      "2020 Tai yra keliamieji metai\n",
      "2021 Tai yra nekeliamieji metai\n",
      "2022 Tai yra nekeliamieji metai\n",
      "2023 Tai yra nekeliamieji metai\n",
      "2024 Tai yra keliamieji metai\n",
      "2025 Tai yra nekeliamieji metai\n",
      "2026 Tai yra nekeliamieji metai\n",
      "2027 Tai yra nekeliamieji metai\n",
      "2028 Tai yra keliamieji metai\n",
      "2029 Tai yra nekeliamieji metai\n",
      "2030 Tai yra nekeliamieji metai\n",
      "2031 Tai yra nekeliamieji metai\n",
      "2032 Tai yra keliamieji metai\n",
      "2033 Tai yra nekeliamieji metai\n",
      "2034 Tai yra nekeliamieji metai\n",
      "2035 Tai yra nekeliamieji metai\n",
      "2036 Tai yra keliamieji metai\n",
      "2037 Tai yra nekeliamieji metai\n",
      "2038 Tai yra nekeliamieji metai\n",
      "2039 Tai yra nekeliamieji metai\n",
      "2040 Tai yra keliamieji metai\n",
      "2041 Tai yra nekeliamieji metai\n",
      "2042 Tai yra nekeliamieji metai\n",
      "2043 Tai yra nekeliamieji metai\n",
      "2044 Tai yra keliamieji metai\n",
      "2045 Tai yra nekeliamieji metai\n",
      "2046 Tai yra nekeliamieji metai\n",
      "2047 Tai yra nekeliamieji metai\n",
      "2048 Tai yra keliamieji metai\n",
      "2049 Tai yra nekeliamieji metai\n",
      "2050 Tai yra nekeliamieji metai\n",
      "2051 Tai yra nekeliamieji metai\n",
      "2052 Tai yra keliamieji metai\n",
      "2053 Tai yra nekeliamieji metai\n",
      "2054 Tai yra nekeliamieji metai\n",
      "2055 Tai yra nekeliamieji metai\n",
      "2056 Tai yra keliamieji metai\n",
      "2057 Tai yra nekeliamieji metai\n",
      "2058 Tai yra nekeliamieji metai\n",
      "2059 Tai yra nekeliamieji metai\n",
      "2060 Tai yra keliamieji metai\n",
      "2061 Tai yra nekeliamieji metai\n",
      "2062 Tai yra nekeliamieji metai\n",
      "2063 Tai yra nekeliamieji metai\n",
      "2064 Tai yra keliamieji metai\n",
      "2065 Tai yra nekeliamieji metai\n",
      "2066 Tai yra nekeliamieji metai\n",
      "2067 Tai yra nekeliamieji metai\n",
      "2068 Tai yra keliamieji metai\n",
      "2069 Tai yra nekeliamieji metai\n",
      "2070 Tai yra nekeliamieji metai\n",
      "2071 Tai yra nekeliamieji metai\n",
      "2072 Tai yra keliamieji metai\n",
      "2073 Tai yra nekeliamieji metai\n",
      "2074 Tai yra nekeliamieji metai\n",
      "2075 Tai yra nekeliamieji metai\n",
      "2076 Tai yra keliamieji metai\n",
      "2077 Tai yra nekeliamieji metai\n",
      "2078 Tai yra nekeliamieji metai\n",
      "2079 Tai yra nekeliamieji metai\n",
      "2080 Tai yra keliamieji metai\n",
      "2081 Tai yra nekeliamieji metai\n",
      "2082 Tai yra nekeliamieji metai\n",
      "2083 Tai yra nekeliamieji metai\n",
      "2084 Tai yra keliamieji metai\n",
      "2085 Tai yra nekeliamieji metai\n",
      "2086 Tai yra nekeliamieji metai\n",
      "2087 Tai yra nekeliamieji metai\n",
      "2088 Tai yra keliamieji metai\n",
      "2089 Tai yra nekeliamieji metai\n",
      "2090 Tai yra nekeliamieji metai\n",
      "2091 Tai yra nekeliamieji metai\n",
      "2092 Tai yra keliamieji metai\n",
      "2093 Tai yra nekeliamieji metai\n",
      "2094 Tai yra nekeliamieji metai\n",
      "2095 Tai yra nekeliamieji metai\n",
      "2096 Tai yra keliamieji metai\n",
      "2097 Tai yra nekeliamieji metai\n",
      "2098 Tai yra nekeliamieji metai\n",
      "2099 Tai yra nekeliamieji metai\n"
     ]
    }
   ],
   "source": [
    "# Ketvirta užduotis\n",
    "# Perdaryti trečią užduoti taip, kad programa atspausdintų visus keliamuosius metus,\n",
    "# nuo 1900 iki 2100 metų.\n",
    "\n",
    "for metai_1 in range(1900, 2100):\n",
    "    if (metai_1 % 400 == 0) or ( metai_1 % 100 != 0) and (metai_1 % 4 == 0):\n",
    "        print(metai_1, \"Tai yra keliamieji metai\")\n",
    "    else:\n",
    "        print(metai_1, \"Tai yra nekeliamieji metai\")"
   ]
  },
  {
   "attachments": {},
   "cell_type": "markdown",
   "metadata": {},
   "source": [
    "## Ciklai (Ciklas While)"
   ]
  },
  {
   "cell_type": "code",
   "execution_count": 4,
   "metadata": {},
   "outputs": [
    {
     "name": "stdout",
     "output_type": "stream",
     "text": [
      "10\n",
      "9\n",
      "8\n",
      "7\n",
      "6\n",
      "5\n",
      "4\n",
      "3\n",
      "2\n",
      "1\n",
      "0\n",
      "-1\n",
      "Ciklo pabaiga\n"
     ]
    }
   ],
   "source": [
    "# Turite skaičių lygų 10. Atspausdinkite skaičiaus mažinimo ciklą, kol jis pasieks -1.\n",
    "skaicius_10 = 10\n",
    "while skaicius_10 >= -1:\n",
    "    print(skaicius_10) #Kad matytymeme kaip mažėja\n",
    "    skaicius_10 -= 1\n",
    "else:\n",
    "    print(\"Ciklo pabaiga\")"
   ]
  },
  {
   "cell_type": "code",
   "execution_count": 8,
   "metadata": {},
   "outputs": [
    {
     "name": "stdout",
     "output_type": "stream",
     "text": [
      "4\n",
      "3\n",
      "2\n",
      "1\n",
      "0\n",
      "-1\n",
      "-2\n",
      "-3\n",
      "-4\n",
      "-5\n"
     ]
    }
   ],
   "source": [
    "# Antra užduotis\n",
    "# Turite skaičių lygų 5. Atspausdinkite skaičiaus mažinimo ciklą, kol jis pasieks -10,\n",
    "# tačiau sustabdykite ciklą, kai skaičius bus lygus -5, bet pratęskite, jeigu skaičius bus lygus 0.\n",
    "skaicius_5 = 5\n",
    "while skaicius_5 >=-10:\n",
    "    skaicius_5 -= 1\n",
    "    print(skaicius_5)\n",
    "    if skaicius_5 == 0:\n",
    "        continue\n",
    "    if skaicius_5 == -5:\n",
    "        break\n",
    "else:\n",
    "    print(\"Ciklas baigtas sėkmingai\")\n"
   ]
  },
  {
   "cell_type": "code",
   "execution_count": 15,
   "metadata": {},
   "outputs": [
    {
     "name": "stdout",
     "output_type": "stream",
     "text": [
      "Suma:  90.0\n"
     ]
    }
   ],
   "source": [
    "# Trečia užduotis\n",
    "# Parašyti programą, kuri:\n",
    "\n",
    "# Leistų vartotojui įvesti skaičių.\n",
    "# Jei įvestas skaičius yra teigiamas, paprašyti įvesti dar vieną skaičių\n",
    "# Jei įvestas skaičius neigiamas, nutraukti programą ir atspausdinti visų įvestų teigiamų skaičių sumą\n",
    "# Patarimas: Naudoti ciklą while, sąlygą if, break\n",
    "skaiciu_sarasas_1 = []\n",
    "ivestas_skaicius = float(input(\"Įveskite skaičių\"))\n",
    "while ivestas_skaicius >= 0:\n",
    "    skaiciu_sarasas_1.append(ivestas_skaicius)\n",
    "    ivestas_skaicius = float(input(\"Įveskite skaičių\"))\n",
    "    if ivestas_skaicius < 0:\n",
    "        break\n",
    "print(\"Suma: \", sum(skaiciu_sarasas_1))\n"
   ]
  },
  {
   "attachments": {},
   "cell_type": "markdown",
   "metadata": {},
   "source": [
    "## Tuple"
   ]
  },
  {
   "cell_type": "code",
   "execution_count": 16,
   "metadata": {},
   "outputs": [
    {
     "name": "stdout",
     "output_type": "stream",
     "text": [
      "('The Beatles', 'Metalica', 'Artic Monkeys', 'Giant Rooks')\n"
     ]
    }
   ],
   "source": [
    "# Sukurkite tuple, kuris susideda iš jūsų mėgstamų grupių pavadinimų.\n",
    "# Atspausdinkite tuple.\n",
    "megstamos_grupes = (\"The Beatles\",\"Metalica\", \"Artic Monkeys\", \"Giant Rooks\")\n",
    "print(megstamos_grupes)"
   ]
  },
  {
   "cell_type": "code",
   "execution_count": 17,
   "metadata": {},
   "outputs": [
    {
     "name": "stdout",
     "output_type": "stream",
     "text": [
      "('The Beatles', 'Metalica', 'Artic Monkeys', 'Giant Rooks', 'AnnenMaykentereit', 'Depeche mode', 'Giant Rooks')\n"
     ]
    }
   ],
   "source": [
    "# Sukurkite dar vieną tuple su grupių pavadinimais (pavadinimai gali kartotis) ir \n",
    "# sujunkite abu turimus tuple į vieną naują.\n",
    "# Atspausdinkite naują tuple.\n",
    "megstamos_grupes_papildymas = (\"AnnenMaykentereit\",\"Depeche mode\", \"Giant Rooks\")\n",
    "sujungtos_grupes = megstamos_grupes + megstamos_grupes_papildymas\n",
    "print(sujungtos_grupes)"
   ]
  },
  {
   "cell_type": "code",
   "execution_count": 18,
   "metadata": {},
   "outputs": [
    {
     "name": "stdout",
     "output_type": "stream",
     "text": [
      "The Beatles\n",
      "Artic Monkeys\n",
      "Giant Rooks\n"
     ]
    }
   ],
   "source": [
    "# Trečia užduotis\n",
    "# Atspausdinkite pirmą grupę.\n",
    "# Atspausdinkite trečia grupę.\n",
    "# Atspausdinkite paskutinę grupę.\n",
    "print(sujungtos_grupes[0])\n",
    "print(sujungtos_grupes[2])\n",
    "print(sujungtos_grupes[-1])"
   ]
  },
  {
   "cell_type": "code",
   "execution_count": 19,
   "metadata": {},
   "outputs": [
    {
     "name": "stdout",
     "output_type": "stream",
     "text": [
      "('The Beatles', 'Artic Monkeys', 'AnnenMaykentereit', 'Giant Rooks')\n"
     ]
    }
   ],
   "source": [
    "# Ketvirta užduotis\n",
    "# Atspausdinkite kas antrą grupę.\n",
    "print(sujungtos_grupes[::2])"
   ]
  },
  {
   "cell_type": "code",
   "execution_count": 23,
   "metadata": {},
   "outputs": [
    {
     "name": "stdout",
     "output_type": "stream",
     "text": [
      "1\n",
      "3\n",
      "True\n"
     ]
    }
   ],
   "source": [
    "# Penkta užduotis\n",
    "# Atspausdinkite kiek kartų sąraše kartojasi kuri nors grupė.\n",
    "# Atspausdinkite kurios nors grupės indeksą.\n",
    "# Patikrinkite ar kuri nors grupė yra tuple.\n",
    "print(sujungtos_grupes.count(\"The Beatles\"))\n",
    "print(sujungtos_grupes.index(\"Giant Rooks\"))\n",
    "print(\"The Beatles\" in sujungtos_grupes)"
   ]
  },
  {
   "cell_type": "code",
   "execution_count": 26,
   "metadata": {},
   "outputs": [
    {
     "name": "stdout",
     "output_type": "stream",
     "text": [
      "AnnenMaykentereit\n",
      "Giant Rooks\n",
      "Metalica\n",
      "Depeche mode\n",
      "Artic Monkeys\n",
      "The Beatles\n"
     ]
    }
   ],
   "source": [
    "# Bonus užduotis\n",
    "# Atspausdinkite grupes atskirose eilutėse taip, kad pavadinimai nesidubliuotų.\n",
    "unikalios_grupes = tuple(set(sujungtos_grupes)) #žodis tuple, paverčia gautą demėnį į tuple, set funkcija unikalizuoja elementus\n",
    "for grupe in unikalios_grupes: #Atspausdina viską po vieną elementą į stulpelį\n",
    "    print(grupe)"
   ]
  },
  {
   "attachments": {},
   "cell_type": "markdown",
   "metadata": {},
   "source": [
    "## Aibės\n"
   ]
  },
  {
   "cell_type": "code",
   "execution_count": 28,
   "metadata": {},
   "outputs": [
    {
     "name": "stdout",
     "output_type": "stream",
     "text": [
      "{1, 2, 3, 4, 5, 66}\n"
     ]
    }
   ],
   "source": [
    "# Pirma užduotis\n",
    "# Sukurkite aibę su skaičiais.\n",
    "# Pridėkite skaičių į aibę\n",
    "# Atspausdinkite papildytą aibę.\n",
    "aibe = {1, 2, 3, 4, 5}\n",
    "aibe.add(66)\n",
    "print(aibe)"
   ]
  },
  {
   "cell_type": "code",
   "execution_count": 32,
   "metadata": {},
   "outputs": [
    {
     "name": "stdout",
     "output_type": "stream",
     "text": [
      "{66, 6, 7, 8, 9}\n"
     ]
    }
   ],
   "source": [
    "# Antra užduotis\n",
    "# Sukurkite naują aibę su skaičiais.\n",
    "# Ištrinkite skaičių iš aibės.\n",
    "# Atspausdinkite pakoreguotą aibę.\n",
    "aibe_2 = {6, 7, 8, 9, 10, 66}\n",
    "aibe_2.remove(10) # Arba discard\n",
    "print(aibe_2)"
   ]
  },
  {
   "cell_type": "code",
   "execution_count": 35,
   "metadata": {},
   "outputs": [
    {
     "name": "stdout",
     "output_type": "stream",
     "text": [
      "{66}\n"
     ]
    }
   ],
   "source": [
    "# Trečia užduotis\n",
    "# Sukurkite naują aibę iš abiejų turimų aibių su tais elementais, kurie yra bendri.\n",
    "# Atspausdinkite naują aibę.\n",
    "bendra_aibe = aibe.intersection(aibe_2)\n",
    "print(bendra_aibe)"
   ]
  },
  {
   "cell_type": "code",
   "execution_count": 36,
   "metadata": {},
   "outputs": [
    {
     "name": "stdout",
     "output_type": "stream",
     "text": [
      "{1, 2, 3, 4, 5}\n"
     ]
    }
   ],
   "source": [
    "# Sukurkite naują aibę iš pirmoje ir antroje užduotyje sukurtų aibių su tais elementais, \n",
    "# kurie yra pirmoje aibėje, bet ne antroje.\n",
    "# Atspausdinkite naują aibę.\n",
    "skirtinga_aibe = aibe.difference(aibe_2)\n",
    "print(skirtinga_aibe)"
   ]
  },
  {
   "cell_type": "code",
   "execution_count": 37,
   "metadata": {},
   "outputs": [
    {
     "name": "stdout",
     "output_type": "stream",
     "text": [
      "{8, 9, 6, 7}\n"
     ]
    }
   ],
   "source": [
    "# Penkta užduotis\n",
    "# Sukurkite naują aibę iš pirmoje ir antroje užduotyje sukurtų aibių su tais elementais, \n",
    "# kurie yra unikalūs tik antroje.\n",
    "# Atspausdinkite naują aibę.\n",
    "skirtinga_aibe_2 = aibe_2.difference(aibe)\n",
    "print(skirtinga_aibe_2)"
   ]
  },
  {
   "cell_type": "code",
   "execution_count": 41,
   "metadata": {},
   "outputs": [
    {
     "name": "stdout",
     "output_type": "stream",
     "text": [
      "[64, 81, 36, 49]\n"
     ]
    }
   ],
   "source": [
    "# Bonus užduotis\n",
    "# Pakelkite penktosios užduoties aibės elementus kvadratu.\n",
    "pakelta_kvadratu = [] #Tuščias sąrašas į kurį dėsime pakeltas kvadratu reikšmes\n",
    "for skaiciai in skirtinga_aibe_2:\n",
    "    pakelta_kvadratu.append(skaiciai ** 2)\n",
    "print(pakelta_kvadratu)\n",
    "\n",
    "#Alternatyvus sprendimas:\n",
    "# aibe_kvadratu = {x**2 for x in penkta_aibe}\n",
    "# print('5 užduoties aibės elementai kvadratu:', aibe_kvadratu)"
   ]
  },
  {
   "attachments": {},
   "cell_type": "markdown",
   "metadata": {},
   "source": [
    "## Funkcijos be reikšmės grąžinimo"
   ]
  },
  {
   "cell_type": "code",
   "execution_count": 42,
   "metadata": {},
   "outputs": [
    {
     "name": "stdout",
     "output_type": "stream",
     "text": [
      "Skaičius yra nelyginis\n"
     ]
    }
   ],
   "source": [
    "# Pirma užduotis\n",
    "# Parašykite funkciją lyginis_nelyginis(skaicius), kuri patikrina, \n",
    "# ar skaičius yra lyginis ar nelyginis ir išveda atitinkamą pranešimą.\n",
    "def lygininis_nelyginis(skaičius):\n",
    "    if skaičius % 2 == 0:\n",
    "        print(\"Skaičius yra lyginis\")\n",
    "    else:\n",
    "        print(\"Skaičius yra nelyginis\")\n",
    "\n",
    "lygininis_nelyginis(245)"
   ]
  },
  {
   "cell_type": "code",
   "execution_count": 47,
   "metadata": {},
   "outputs": [
    {
     "name": "stdout",
     "output_type": "stream",
     "text": [
      "2  yra teigiamas skaičius\n"
     ]
    }
   ],
   "source": [
    "# Antra užduotis\n",
    "# Parašykite funkciją ar_teigiamas(skaicius), kuri patikrina,\n",
    "# ar skaičius yra teigiamas ir išveda atitinkamą pranešimą.\n",
    "def ar_tegiamas(skaicius_1):\n",
    "    if skaicius_1 > 0:\n",
    "        print(skaicius_1,\" yra teigiamas skaičius\")\n",
    "    else:\n",
    "        print(skaicius_1, \" yra neigiamas skaičius\")\n",
    "ar_tegiamas(2)"
   ]
  },
  {
   "cell_type": "code",
   "execution_count": 51,
   "metadata": {},
   "outputs": [
    {
     "name": "stdout",
     "output_type": "stream",
     "text": [
      "6 yra mažiau nei  7\n"
     ]
    }
   ],
   "source": [
    "# Trečia užduotis\n",
    "# Parašykite funkciją ar_daugiau_nei(skaicius, riba), kuri patikrina,\n",
    "# ar skaičius yra didesnis nei nurodyta riba ir išveda atitinkamą pranešimą.\n",
    "def ar_daugiau_nei(skaicius, riba) :\n",
    "    if skaicius > riba :\n",
    "        print(skaicius, \" yra daugiau nei \", riba)\n",
    "    elif skaicius == riba :\n",
    "        print(skaicius, \" ir \", riba, \" yra lygūs\")\n",
    "    else:\n",
    "        print(skaicius, \"yra mažiau nei \", riba)\n",
    "ar_daugiau_nei(6,7)"
   ]
  },
  {
   "attachments": {},
   "cell_type": "markdown",
   "metadata": {},
   "source": [
    "## Funkcijos su grąžinama reikšme(return)"
   ]
  },
  {
   "cell_type": "code",
   "execution_count": 61,
   "metadata": {},
   "outputs": [
    {
     "name": "stdout",
     "output_type": "stream",
     "text": [
      "['8', '3', '1']\n"
     ]
    }
   ],
   "source": [
    "# Pirma užduotis\n",
    "# Sukurkite funkciją, kuri priima sąrašą ir grąžina naują sąrašą atvirkščia tvarka.\n",
    "sarasas = ['1', '3', '8']\n",
    "\n",
    "def atbuline_tvarka(sarasas):\n",
    "    sarasas.reverse()\n",
    "    return sarasas\n",
    "rezultatas = atbuline_tvarka(sarasas)\n",
    "print(rezultatas)\n",
    "\n",
    "# Trumpesnis variantas:\n",
    "# def sarasas_atvirksciai(sarasas):\n",
    "#     return sarasas[::-1]"
   ]
  },
  {
   "cell_type": "code",
   "execution_count": 62,
   "metadata": {},
   "outputs": [
    {
     "name": "stdout",
     "output_type": "stream",
     "text": [
      "3.0\n"
     ]
    }
   ],
   "source": [
    "# Antra užduotis\n",
    "# Sukurkite funkciją, kuri apskaičiuoja stačiojo trikampio plotą \n",
    "# pagal kraštinių ilgius ir grąžina jį.\n",
    "def trikampio_plotas(a,b):\n",
    "    plotas = (a * b) / 2\n",
    "    return plotas\n",
    "rezultatas = trikampio_plotas(2, 3)\n",
    "print(rezultatas)"
   ]
  },
  {
   "cell_type": "code",
   "execution_count": 68,
   "metadata": {},
   "outputs": [
    {
     "name": "stdout",
     "output_type": "stream",
     "text": [
      "[',']\n"
     ]
    }
   ],
   "source": [
    "# Trečia užduotis\n",
    "# Sukurkite funkciją, kuri iš sąrašo išrenka žodžius,\n",
    "# kurie yra nurodyto ilgio ir grąžina sąrašą su tais žodžiais.\n",
    "pasisveikimas = [\"Labas\", \"vakaras\", \"mano\", \"mylima\", \",\", \"Lietuva\"]\n",
    "def isrinkti_zodzius_pagal_ilgi(sarasas, ilgis): # Argumentas \"sarasas\" yra tiesiog pavadinimas, kurį mes suteikiame funkcijai ir kurio ji naudoja kaip parametrą - sąrašą, su kuriuo ji turi dirbti. Jis yra būtinas, kadangi mes norime, kad funkcija gautų sąrašą kaip įvesties parametrą ir galėtų jį apdoroti. Be šio argumento, funkcija nežinotų, su kokiais duomenimis ji turi dirbti, ir taip jos veikimas būtų neįmanomas.\n",
    "    zodziai_pagal_ilgi = []\n",
    "    for zodis in sarasas:\n",
    "        if len(zodis) == ilgis:\n",
    "            zodziai_pagal_ilgi.append(zodis)\n",
    "    return zodziai_pagal_ilgi\n",
    "\n",
    "rezultatas = isrinkti_zodzius_pagal_ilgi(pasisveikimas, 1)\n",
    "print(rezultatas)"
   ]
  },
  {
   "cell_type": "code",
   "execution_count": 72,
   "metadata": {},
   "outputs": [
    {
     "name": "stdout",
     "output_type": "stream",
     "text": [
      "Didžiausias skaičius:  7\n"
     ]
    }
   ],
   "source": [
    "# Ketvirta užduotis\n",
    "# Sukurkite funkciją, kuri iš sąrašo išrenka didžiausią skaičių ir grąžina jį.\n",
    "skaiciu_sarasas_1 = [1, 2, 3, 4, 5, 6, 7]\n",
    "def isrinkti_didziausia_skaiciu(skaiciu_sarasas_1):\n",
    "    didziausias_skaicius = skaiciu_sarasas_1[0]\n",
    "    for skaicius in skaiciu_sarasas_1:\n",
    "        if skaicius > didziausias_skaicius:\n",
    "            didziausias_skaicius = skaicius\n",
    "    return didziausias_skaicius\n",
    "didziausias_skaicius = isrinkti_didziausia_skaiciu(skaiciu_sarasas_1)\n",
    "print(\"Didžiausias skaičius: \", didziausias_skaicius)\n",
    "\n",
    "# Ši funkcija turi vieną parametrą - skaiciu_sarasas_1, iš kurio turime išrinkti didžiausią skaičių.\n",
    "# Funkcija pradžioje priskiria kintamajam didziausias_skaicius pirmo sąrašo elemento reikšmę. \n",
    "# Tada ji peržiūri visus sąrašo elementus ir tikrina, ar jie didesni už dabartinę didžiausią reikšmę. \n",
    "# Jei taip, didziausias kintamajam priskiriama nauja, didesnė reikšmė. Galiausiai funkcija grąžina didžiausią skaičių.\n"
   ]
  },
  {
   "cell_type": "code",
   "execution_count": 75,
   "metadata": {},
   "outputs": [
    {
     "name": "stdout",
     "output_type": "stream",
     "text": [
      "['Labas', 'Lietuva']\n"
     ]
    }
   ],
   "source": [
    "# Penkta užduotis\n",
    "# Sukurti funkciją, kuri iš žodžių sąrašo išrenka žodžius, kurie prasideda nurodyta raide ir grąžina sąrašą su tais žodžiais.\n",
    "pasisveikimas = [\"Labas\", \"vakaras\", \"mano\", \"mylima\", \",\", \"Lietuva\"]\n",
    "def prasideda_raide(sarasas, pirma_raide):\n",
    "    zodziai_pagal_raide = []\n",
    "    for zodis in sarasas:\n",
    "        if zodis[0] == pirma_raide:\n",
    "            zodziai_pagal_raide.append(zodis)\n",
    "    return zodziai_pagal_raide\n",
    "rezultatas = prasideda_raide(pasisveikimas, \"L\")\n",
    "print(rezultatas)"
   ]
  },
  {
   "cell_type": "code",
   "execution_count": 83,
   "metadata": {},
   "outputs": [
    {
     "name": "stdout",
     "output_type": "stream",
     "text": [
      "[['mano', 'mylima'], ['Labas', 'vakaras', ',', 'Lietuva']]\n"
     ]
    }
   ],
   "source": [
    "# Šešta užduotis\n",
    "# Sukurkite funkciją, kuri iš eilutės išrenka visus žodžius,\n",
    "# kurių ilgis yra lyginis, ir grąžina sąrašą su tais žodžiais.\n",
    "pasisveikimas = [\"Labas\", \"vakaras\", \"mano\", \"mylima\", \",\", \"Lietuva\"]\n",
    "def lyginiai_nelyginiai_zodziai(zodziai):\n",
    "    lyginiai = []\n",
    "    nelyginiai = []\n",
    "    for zodis in zodziai:\n",
    "        if len(zodis) % 2 == 0:\n",
    "            lyginiai.append(zodis)\n",
    "        else:\n",
    "            nelyginiai.append(zodis)\n",
    "    return [lyginiai, nelyginiai]\n",
    "rezultatas = lyginiai_nelyginiai_zodziai(pasisveikimas)\n",
    "print(rezultatas)\n"
   ]
  },
  {
   "attachments": {},
   "cell_type": "markdown",
   "metadata": {},
   "source": [
    "## Nebūtini argumentai su numatytomis reikšmėmis ir kontrektaus argumentavimo perdavimas"
   ]
  },
  {
   "cell_type": "code",
   "execution_count": 89,
   "metadata": {},
   "outputs": [
    {
     "name": "stdout",
     "output_type": "stream",
     "text": [
      "50.24\n"
     ]
    }
   ],
   "source": [
    "# Sukurkite funkciją apskritimo_plotas, kuri priima 2 argumentus:\n",
    "# apskritimo spindulys ir pi reikšmę. Jei funkcija kviečiama be pi argumento,\n",
    "# jis turėtų būti nustatytas į numatytąją reikšmę 3.14. Funkcija turi grąžinti apskritimo plotą.\n",
    "def apskritimo_plotas(spindulys, pi=3.14):\n",
    "    rezultatas = pi * (spindulys ** 2)\n",
    "    return rezultatas\n",
    "atsakymas = apskritimo_plotas(4)\n",
    "print(atsakymas)"
   ]
  },
  {
   "cell_type": "code",
   "execution_count": 88,
   "metadata": {},
   "outputs": [
    {
     "name": "stdout",
     "output_type": "stream",
     "text": [
      "{'Atstumas': 400, 'Kuro sąnaudos': 28.0, 'Bendros kuro išlaidos': 33.6}\n"
     ]
    }
   ],
   "source": [
    "# Antra užduotis\n",
    "# Parašykite funkciją keliones_informacija, kuri turi šiuos argumentus:\n",
    "\n",
    "# keliones_trukme: privalomas argumentas, nurodantis kelionės trukmę valandomis.\n",
    "# greitis: privalomas argumentas, nurodantis vidutinį greitį km/h.\n",
    "# vartojimas: neprivalomas argumentas, nurodantis vidutinį kuro sąnaudų kiekį su numatyta reikšme 7 (l/100 km.)\n",
    "# kuro_kaina: neprivalomas argumentas su numatyta reikšme 1.2 (kuro kaina eurais už litrą).\n",
    "# Funkcija turėtų grąžinti šią informaciją:\n",
    "\n",
    "# Nuvažiuotas atstumas (atstumas = keliones_trukme * greitis).\n",
    "# Bendros kelionės kuro sąnaudos (sąnaudos = atstumas * vartojimas / 100).\n",
    "# Bendros kelionės išlaidos kuras (išlaidos = sąnaudos * kuro_kaina).\n",
    "# Funkcija turi grąžinti šią informaciją kaip žodyną.\n",
    "def keliones_informacija(kelniones_trukme, greitis, vartojimas=7, kuro_kaina=1.2):\n",
    "    atstumas = kelniones_trukme * greitis\n",
    "    bendros_keliones__kuro_sąnaudos = atstumas * vartojimas / 100\n",
    "    bendros_keliones_islaidos_kuras = bendros_keliones__kuro_sąnaudos * kuro_kaina\n",
    "    return {\"Atstumas\": atstumas, \"Kuro sąnaudos\": bendros_keliones__kuro_sąnaudos,\"Bendros kuro išlaidos\" : bendros_keliones_islaidos_kuras}\n",
    "atsakymas = keliones_informacija(5, 80)\n",
    "print(atsakymas)\n"
   ]
  },
  {
   "attachments": {},
   "cell_type": "markdown",
   "metadata": {},
   "source": [
    "## Neriboti argumentai *args, **kwargs"
   ]
  },
  {
   "cell_type": "code",
   "execution_count": 18,
   "metadata": {},
   "outputs": [
    {
     "name": "stdout",
     "output_type": "stream",
     "text": [
      "154\n"
     ]
    }
   ],
   "source": [
    "# Parašykite funkciją, kuri grąžina didžiausią *args elemento reikšmę.\n",
    "def didziausias_elementas(*args):\n",
    "    didziausias_skaicius_2 = args[0]\n",
    "    for skaicius in args:\n",
    "        if skaicius > didziausias_skaicius_2:\n",
    "            didziausias_skaicius_2 = skaicius\n",
    "    return didziausias_skaicius_2\n",
    "    \n",
    "print(didziausias_elementas(1, 8, 22, 55, 154))"
   ]
  },
  {
   "cell_type": "code",
   "execution_count": 20,
   "metadata": {},
   "outputs": [
    {
     "name": "stdout",
     "output_type": "stream",
     "text": [
      "vardas : Jonas\n",
      "amžius : 30\n",
      "miestas : Vilnius\n"
     ]
    }
   ],
   "source": [
    "# Antra užduotis\n",
    "# Parašykite funkciją, kuri grąžina tik **kwargs elemento raktus, \n",
    "# kurie yra nurodyti šiame funkcijos kvietime:\n",
    "\n",
    "# print(raktai(vardas=\"Jonas\", amzius=30, miestas=\"Vilnius\"))  \n",
    "# # kvietime galite nurodyti tik vardą, amžių bei miestą, kad grąžintų: \n",
    "# {'vardas': 'Jonas', 'amzius': 30, 'miestas': 'Vilnius'}\n",
    "def raktai(**kwargs):\n",
    "    for key, value in kwargs.items():\n",
    "        print(f\"{key} : {value}\")\n",
    "raktai(vardas=\"Jonas\", amžius= \"30\", miestas=\"Vilnius\")\n",
    "\n",
    "# def raktai(**kwargs):\n",
    "#     nurodyti_raktai = {}\n",
    "#     for key in kwargs:\n",
    "#         if key in [\"vardas\", \"amzius\", \"miestas\", \"metai\"]:\n",
    "#             nurodyti_raktai[key] = kwargs[key]\n",
    "#     return nurodyti_raktai\n",
    "\n",
    "# print(raktai(vardas=\"Jonas\", amzius=30, miestas=\"Vilnius\", metai=2023))  # {'vardas': 'Jonas', 'amzius': 30, 'miestas': 'Vilnius'}\n",
    "# print(raktai(pavadinimas=\"Python\"))  # {}\n"
   ]
  },
  {
   "cell_type": "code",
   "execution_count": 21,
   "metadata": {},
   "outputs": [
    {
     "name": "stdout",
     "output_type": "stream",
     "text": [
      "Vardas: Jonas\n",
      "miestas: Vilnius\n",
      "amzius: 30\n",
      "linksmas\n",
      "draugiškas\n",
      "drąsus\n"
     ]
    }
   ],
   "source": [
    "# Trečia užduotis\n",
    "# Parašykite funkciją, kuri sujungia *args sąrašą ir \n",
    "# **kwargs reikšmes į vieną sarašą.\n",
    "def spausdinti_argumentus(vardas, *args, **kwargs):\n",
    "    print(f\"Vardas: {vardas}\")\n",
    "    for key, value in kwargs.items():\n",
    "        print(f\"{key}: {value}\")\n",
    "    for arg in args:\n",
    "        print(arg)\n",
    "\n",
    "spausdinti_argumentus(\"Jonas\", \"linksmas\", \"draugiškas\", \"drąsus\", miestas=\"Vilnius\", amzius=30)\n",
    "\n",
    "# def sujungtas_sarasas(*args, **kwargs):\n",
    "#     visi_elementai = list(args)\n",
    "#     visi_elementai += list(kwargs.values())\n",
    "#     return visi_elementai"
   ]
  },
  {
   "attachments": {},
   "cell_type": "markdown",
   "metadata": {},
   "source": [
    "## Anoniminės funkcijos"
   ]
  },
  {
   "cell_type": "code",
   "execution_count": 29,
   "metadata": {},
   "outputs": [
    {
     "name": "stdout",
     "output_type": "stream",
     "text": [
      "[55, 28]\n"
     ]
    }
   ],
   "source": [
    "# Pirma užduotis\n",
    "# Sukurkite anoniminę funkciją, kuri iš sąrašo skaičių\n",
    "# pasirenka tik tuos, kurie yra didesni nei 10.\n",
    "skaiciai_1 = [1, 3, 55, 7, 28]\n",
    "skaiciai_didesni_nei_10 = list(filter(lambda x: x >= 10, skaiciai_1))\n",
    "print(skaiciai_didesni_nei_10)"
   ]
  },
  {
   "cell_type": "code",
   "execution_count": 34,
   "metadata": {},
   "outputs": [
    {
     "name": "stdout",
     "output_type": "stream",
     "text": [
      "18.8\n"
     ]
    }
   ],
   "source": [
    "# Antra užduotis\n",
    "# Sukurkite anoniminę funkciją, kuri grąžina sąrašo elementų vidurkį.\n",
    "skaiciai_1 = [1, 3, 55, 7, 28]\n",
    "skaiciu_vidurkis = lambda x: sum(x) / len(x)\n",
    "print(skaiciu_vidurkis(skaiciai_1))"
   ]
  },
  {
   "cell_type": "code",
   "execution_count": 35,
   "metadata": {},
   "outputs": [
    {
     "name": "stdout",
     "output_type": "stream",
     "text": [
      "55\n"
     ]
    }
   ],
   "source": [
    "# Trečia užduotis\n",
    "# Parašykite anoniminę funkciją, kuri grąžina didžiausią \n",
    "# skaičių iš duotų trijų skaičių.\n",
    "is_triju_didziausias = lambda x, y, z: max(x, y, z) # max - paima didžiausią reikšmę\n",
    "print(is_triju_didziausias(1, 3, 55))"
   ]
  },
  {
   "attachments": {},
   "cell_type": "markdown",
   "metadata": {},
   "source": [
    "## Objektai ir klasės"
   ]
  },
  {
   "cell_type": "code",
   "execution_count": 43,
   "metadata": {},
   "outputs": [
    {
     "name": "stdout",
     "output_type": "stream",
     "text": [
      "surinkėja 700\n",
      "Ona Onaitė surinkėja 800\n"
     ]
    }
   ],
   "source": [
    "# Pirma užduotis\n",
    "# Sukurti naują klasę Darbuotojas, turinčią savybes vardas, pavardė,\n",
    "# pareigos ir atlyginimas (su numatyta minimalia alga)\n",
    "# Sukurti naują objektą darbuotojas\n",
    "# Atspausdinkite darbuotojo pareigas ir atlyginimą.\n",
    "# Pakeisti darbuotojo atlyginimą.\n",
    "# Atspausdinkite pilną darbuotojo informaciją.\n",
    "\n",
    "class Darbuotojas:\n",
    "    vardas = \"\"\n",
    "    pavardė = \"\"\n",
    "    pareigos = \"\"\n",
    "    atlyginimas = \"\"\n",
    "darbuotojas = Darbuotojas()\n",
    "darbuotojas.vardas = \"Ona\"\n",
    "darbuotojas.pavardė = \"Onaitė\"\n",
    "darbuotojas.pareigos = \"surinkėja\"\n",
    "darbuotojas.atlyginimas = 700\n",
    "print(darbuotojas.pareigos, darbuotojas.atlyginimas)\n",
    "darbuotojas.atlyginimas = 800\n",
    "print(darbuotojas.vardas, darbuotojas.pavardė, darbuotojas.pareigos, darbuotojas.atlyginimas)"
   ]
  },
  {
   "cell_type": "code",
   "execution_count": 51,
   "metadata": {},
   "outputs": [
    {
     "name": "stdout",
     "output_type": "stream",
     "text": [
      "Molė, 2 metai, 3 kg\n",
      "Molė, 2 metai, 8 kg\n",
      "Molė, 4 metai, 8 kg\n",
      "Molė, 4 metai, 5 kg\n"
     ]
    }
   ],
   "source": [
    "#   Antra užduotis\n",
    "# Sukurkite klasę \"Gyvūnas\" su savybėmis: vardas, amžius ir svoris.\n",
    "# Sukurkite __str__ metodą patogiam informacijos apie gyvūną grąžinimui\n",
    "# Sukurkite metodus padidinti ir sumažinti svorį.\n",
    "# Sukurkite metodą gimtadienis, padidinantį amžių.\n",
    "# Sukurkite objektą su jūsų pasirinktomis reikšmėmis.\n",
    "# Atspausdinkite objektą.\n",
    "# Pakeiskite kelis kartus gyvūno svorį ir amžių naudojant sukurtus metodus ir po \n",
    "# kiekvieno pakeitimo atspausdinkite.\n",
    "\n",
    "class Gyvūnas:\n",
    "    vardas = \"\"\n",
    "    amžius = \"\"\n",
    "    svoris = \"\"\n",
    "\n",
    "    def __init__(self, vardas,amžius, svoris):\n",
    "        self.vardas = vardas\n",
    "        self.amžius = amžius\n",
    "        self.svoris = svoris\n",
    "\n",
    "    def padidinti_svori(self, kiekis):\n",
    "        self.svoris += kiekis\n",
    "\n",
    "    def sumazini_svori(self, kiekis):\n",
    "        self.svoris -= kiekis  \n",
    "\n",
    "    def gimtadienis(self, kiekis):\n",
    "        self.amžius += kiekis\n",
    "    def __str__(self):\n",
    "        return f\"{self.vardas}, {self.amžius} metai, {self.svoris} kg\"\n",
    "gyvunas = Gyvūnas(\"Molė\", 2, 3)\n",
    "print(gyvunas)\n",
    "\n",
    "gyvunas.padidinti_svori(5)\n",
    "print(gyvunas)\n",
    "\n",
    "gyvunas.gimtadienis(2)\n",
    "print(gyvunas)\n",
    "\n",
    "gyvunas.sumazini_svori(3)\n",
    "print(gyvunas)"
   ]
  },
  {
   "attachments": {},
   "cell_type": "markdown",
   "metadata": {},
   "source": [
    "## Inkapsuliacija"
   ]
  },
  {
   "cell_type": "code",
   "execution_count": 53,
   "metadata": {},
   "outputs": [
    {
     "name": "stdout",
     "output_type": "stream",
     "text": [
      "Neteisingas slaptažodis. Nuskaitymas negalimas.\n",
      "200 € sėkmingai nuskaityta. Dabartinis saskaitos likutis: 800 €\n",
      "100 € sėkmingai nuskaityta. Dabartinis saskaitos likutis: 700 €\n",
      "500 € sėkmingai papildyta. Dabartinis saskaitos likutis: 1200 €\n"
     ]
    }
   ],
   "source": [
    "# Pirma užduotis\n",
    "# Sukurkite banko sąskaitos klasę, kuri turėtų kintamuosius: \n",
    "# saskaitos numeris, savininkas, balansas ir pin kodas.\n",
    "# Pastarieji du kintamieji turėtų būti privatūs.\n",
    "# Sukurkite metodą, kuris leistų nuskaityti pinigus nuo sąskaitos, \n",
    "# tačiau norint atlikti šį veiksmą reikalingas slaptažodis, \n",
    "# kuris turėtų būti žinomas tik klasės viduje.\n",
    "# Padarykite taip, kad būtų galima papildyti sąskaitą.\n",
    "\n",
    "class Banko_saskaita:\n",
    "    def __init__(self, saskaitos_numeris, savininkas, balansas, pin_kodas):\n",
    "        self.saskaitos_numeris = saskaitos_numeris\n",
    "        self.savininkas = savininkas\n",
    "        self.__balansas = balansas\n",
    "        self.__pin_kodas = pin_kodas  \n",
    "\n",
    "    def nuskaityti(self, suma, pin_kodas):\n",
    "        if pin_kodas == self.__pin_kodas:\n",
    "            self.__balansas -= suma\n",
    "            print(f'{suma} € sėkmingai nuskaityta. Dabartinis saskaitos likutis: {self.__balansas} €')\n",
    "        else:\n",
    "            print('Neteisingas slaptažodis. Nuskaitymas negalimas.')\n",
    "    def papildyti(self, suma, pin_kodas):\n",
    "        if pin_kodas == self.__pin_kodas:\n",
    "            self.__balansas += suma\n",
    "            print(f'{suma} € sėkmingai papildyta. Dabartinis saskaitos likutis: {self.__balansas} €')\n",
    "        else:\n",
    "            print('Neteisingas slaptažodis. Papildymas negalimas.')\n",
    "saskaita = Banko_saskaita('LT123456789', 'Jonas Jonaitis', 1000, 1234)\n",
    "saskaita.nuskaityti(100, 1122)\n",
    "saskaita.nuskaityti(200, 1234)\n",
    "saskaita.nuskaityti(100, 1234)\n",
    "saskaita.papildyti(500, 1234)\n"
   ]
  },
  {
   "cell_type": "code",
   "execution_count": 58,
   "metadata": {},
   "outputs": [
    {
     "name": "stdout",
     "output_type": "stream",
     "text": [
      "Python programavimo kalba\n",
      "Guido van Rossum\n",
      "prasta\n",
      "350\n"
     ]
    }
   ],
   "source": [
    "# Antra užduotis\n",
    "# Sukurkite knygų klasę, kuri turėtų privačius kintamuosius: \n",
    "# pavadinimas, autorius, buklė ir puslapių skaičius, ir metodus jiems gauti.\n",
    "# Sukurkite metodą, kuris leistų pakeisti knygos būklę,\n",
    "# kur galimos reikšmės yra tik 'patenkinama', 'prasta', 'atnaujinta', 'sugadinta'.\n",
    "# Sukurkite metodą, kuris leistų sumažinti knygos puslapių skaičių,\n",
    "# naudojant privatų metodą, perrašantį tą reikšmę. Turi neigi padidinti puslapių skaičiaus.\n",
    "\n",
    "class Knygos:\n",
    "    def __init__(self, pavadinimas, autorius, buklė, puslapiu_skaicius):\n",
    "        self.__pavadinimas = pavadinimas\n",
    "        self.__autorius = autorius\n",
    "        self.__buklė = buklė\n",
    "        self.__puslapiu_skaicius = puslapiu_skaicius\n",
    "    def gauti_pavadinima(self):\n",
    "        return self.__pavadinimas\n",
    "    def gauti_autoriu(self):\n",
    "        return self.__autorius\n",
    "    def gauti_bukle(self):\n",
    "        return self.__buklė\n",
    "    def gauti_puslapius(self):\n",
    "        return self.__puslapiu_skaicius\n",
    "    def pakeisti_bukle(self, buklė):\n",
    "        if buklė in ('patenkinama', 'prasta', 'atnaujinta', 'sugadinta'):\n",
    "            self.__buklė = buklė\n",
    "        else:\n",
    "            print(f'negalima pakeisti būklės į {buklė}.')\n",
    "    def __naujas_puslapiu_skaicius(self, puslapiai):\n",
    "        self.__puslapiu_skaicius = puslapiai\n",
    "\n",
    "    def isplesti_puslapius(self, puslapiai):\n",
    "        if abs(puslapiai) <= self.__puslapiu_skaicius:\n",
    "            self.__naujas_puslapiu_skaicius(self.__puslapiu_skaicius - abs(puslapiai))\n",
    "        else:\n",
    "            self.__puslapiu_skaicius = 0\n",
    "\n",
    "knyga = Knygos(\"Python programavimo kalba\", \"Guido van Rossum\", 'nauja', 400)\n",
    "\n",
    "knyga.isplesti_puslapius(50)\n",
    "knyga.pakeisti_bukle('prasta')\n",
    "print(knyga.gauti_pavadinima())\n",
    "print(knyga.gauti_autoriu())\n",
    "print(knyga.gauti_bukle())\n",
    "print(knyga.gauti_puslapius())        \n",
    "          "
   ]
  },
  {
   "attachments": {},
   "cell_type": "markdown",
   "metadata": {},
   "source": [
    "## Paveldėjimas"
   ]
  },
  {
   "cell_type": "code",
   "execution_count": 59,
   "metadata": {},
   "outputs": [
    {
     "name": "stdout",
     "output_type": "stream",
     "text": [
      "Mažylis\n",
      "Nejudu\n",
      "Bagira\n",
      "Miau\n",
      "Sėlinu\n",
      "Donas\n",
      "Au\n",
      "Bėgu\n"
     ]
    }
   ],
   "source": [
    "# Pirma užduotis\n",
    "# Sukurkite klasę \"Gyvunas\" ir klases \"Kate\" ir \"Suo\", kurios paveldi tėvų klasės metodus.\n",
    "# Kiekviena paveldinti klasė turi turėti savo unikalų \"balsas\" ir \"judeti\" metodą.\n",
    "# Sukurkite kelis skirtingoms klasėms priklausančius objektus, priskirkite jiems vardus \n",
    "# ir iškvieskite jų metodus.\n",
    "class Gyvunas:\n",
    "    def __init__(self, vardas):\n",
    "        self.vardas = vardas\n",
    "    def balsas(self):\n",
    "        pass\n",
    "    def judeti(self):\n",
    "        print(\"Nejudu\")\n",
    "class Kate(Gyvunas):\n",
    "    def balsas(self):\n",
    "        print(\"Miau\")\n",
    "    def judeti(self):\n",
    "        print(\"Sėlinu\")\n",
    "class Suo(Gyvunas):\n",
    "    def balsas(self):\n",
    "        print(\"Au\")\n",
    "    def judeti(self):\n",
    "        print(\"Bėgu\")\n",
    "kiaule = Gyvunas(\"Mažylis\")\n",
    "kate = Kate(\"Bagira\")\n",
    "suo = Suo(\"Donas\")\n",
    "print(kiaule.vardas)\n",
    "kiaule.balsas()\n",
    "kiaule.judeti()\n",
    "\n",
    "print(kate.vardas)\n",
    "kate.balsas()\n",
    "kate.judeti()\n",
    "\n",
    "print(suo.vardas)\n",
    "suo.balsas()\n",
    "suo.judeti()"
   ]
  },
  {
   "cell_type": "code",
   "execution_count": 60,
   "metadata": {},
   "outputs": [
    {
     "name": "stdout",
     "output_type": "stream",
     "text": [
      "True\n",
      "False\n",
      "False\n",
      "True\n",
      "True\n",
      "False\n",
      "True\n",
      "False\n",
      "True\n"
     ]
    }
   ],
   "source": [
    "# Antra užduotis\n",
    "# Patikrinkite pirmoje užduotyje sukurtų objektų priklausomybę esančioms klasėms.\n",
    "print(isinstance(kiaule, Gyvunas))\n",
    "print(isinstance(kiaule, Kate))\n",
    "print(isinstance(kiaule, Suo))\n",
    "print(isinstance(kate, Gyvunas))\n",
    "print(isinstance(kate, Kate))\n",
    "print(isinstance(kate, Suo))\n",
    "print(isinstance(suo, Gyvunas))\n",
    "print(isinstance(suo, Kate))\n",
    "print(isinstance(suo, Suo))"
   ]
  },
  {
   "attachments": {},
   "cell_type": "markdown",
   "metadata": {},
   "source": [
    "## Polimorfizmas\n"
   ]
  },
  {
   "cell_type": "code",
   "execution_count": 61,
   "metadata": {},
   "outputs": [
    {
     "name": "stdout",
     "output_type": "stream",
     "text": [
      "---\n",
      "Jonas Jonaitis, atlyginimas: 1000 €\n",
      "---\n",
      "Petras Petraitis, atlyginimas: 1200 €\n",
      "---\n",
      "Juozas Juozaitis, atlyginimas: 900 €\n",
      "---\n",
      "Antanas Antanaitis, atlyginimas: 2000 €\n",
      "Premija: 500 €\n"
     ]
    }
   ],
   "source": [
    "# <!-- Pirma užduotis -->\n",
    "# <!-- Sukurkite darbuotojų klasę su savybėmis vardas, pavarde ir atlyginimas, kuri turėtų metodą atspausdinantį darbuotojo informaciją.\n",
    "# Sukurkite administratoriaus klasę, kuri paveldėtų savybes iš darbuotojo klasės.\n",
    "# Sukurkite vadovo klasę, kuri paveldėtų savybes iš darbuotojo klasės ir turėtų papildomą savybę \"premija\" bei metodą, kuris atspausdins papildytą darbuotojo informaciją.\n",
    "# Sukurkite kelis kiekvienos klasės objektus ir iškvieskite informacijos spausdinimo metodą. -->\n",
    "\n",
    "\n",
    "class Darbuotojai_1:\n",
    "    def __init__(self, vardas, pavarde, atlyginimas=1000):\n",
    "        self.vardas = vardas\n",
    "        self.pavarde = pavarde\n",
    "        self.atlyginimas = atlyginimas\n",
    "\n",
    "    def info(self):\n",
    "        print(f'---\\n{self.vardas} {self.pavarde}, atlyginimas: {self.atlyginimas} €')\n",
    "\n",
    "\n",
    "class Administratorius(Darbuotojai_1):\n",
    "    pass\n",
    "\n",
    "\n",
    "class Vadovas(Darbuotojai_1):\n",
    "    def __init__(self, vardas, pavarde, atlyginimas=2000, premija=0):\n",
    "        super().__init__(vardas, pavarde, atlyginimas)\n",
    "        self.premija = premija\n",
    "\n",
    "    def info(self):\n",
    "        super().info()\n",
    "        print(f'Premija: {self.premija} €')\n",
    "\n",
    "\n",
    "darbuotojas1 = Darbuotojai_1('Jonas', 'Jonaitis')\n",
    "darbuotojas2 = Darbuotojai_1('Petras', 'Petraitis', 1200)\n",
    "darbuotojas3 = Administratorius('Juozas', 'Juozaitis', 900)\n",
    "vadovas1 = Vadovas('Antanas', 'Antanaitis', premija=500)\n",
    "\n",
    "darbuotojai = [darbuotojas1, darbuotojas2, darbuotojas3, vadovas1]\n",
    "\n",
    "for darbuotojas in darbuotojai:\n",
    "    darbuotojas.info()"
   ]
  },
  {
   "attachments": {},
   "cell_type": "markdown",
   "metadata": {},
   "source": [
    "## Abstrakcija"
   ]
  },
  {
   "cell_type": "code",
   "execution_count": 62,
   "metadata": {},
   "outputs": [
    {
     "name": "stdout",
     "output_type": "stream",
     "text": [
      "Baseino talpa: 500, dabartinis kiekis: 200\n",
      "Baseino kiekis: 500\n",
      "Sumazintas kiekis: 0\n"
     ]
    }
   ],
   "source": [
    "# Pirma užduotis\n",
    "# Parašykite klasę \"Baseinas\", kuri saugo informaciją apie vandens talpą ir dabartinį kiekį baseine.\n",
    "# Klasė turi turėti metodus vandens papildymui ir nuleidimui bei esamo vandens kiekio patikrinimui. Vandens kiekio keitimui panaudokite abstraktų metodą.\n",
    "# Sukurkite objektą ir kelis kartus iškvieskite klasės metodus.\n",
    "\n",
    "class Baseinas():\n",
    "    def __init__(self, talpa, dabartinis_kiekis):\n",
    "        self.talpa = talpa\n",
    "        self.__dabartinis_kiekis = dabartinis_kiekis\n",
    "\n",
    "    def __keisti_kieki(self, naujas_kiekis):\n",
    "        if naujas_kiekis <= self.talpa and naujas_kiekis >= 0:\n",
    "            self.__dabartinis_kiekis = naujas_kiekis\n",
    "        else:\n",
    "            print('Kiekis nepakeistas')\n",
    "\n",
    "    def didinti_kieki(self, keiciamas_kiekis):\n",
    "        self.__keisti_kieki(self.__dabartinis_kiekis + abs(keiciamas_kiekis))\n",
    "        return self.__dabartinis_kiekis\n",
    "\n",
    "    def mazinti_kieki(self, keiciamas_kiekis):\n",
    "        self.__keisti_kieki(self.__dabartinis_kiekis - abs(keiciamas_kiekis))\n",
    "        return self.__dabartinis_kiekis\n",
    "\n",
    "    def gauti_dabartini_kieki(self):\n",
    "        return self.__dabartinis_kiekis\n",
    "\n",
    "\n",
    "vichy = Baseinas(500, 200)\n",
    "print(f\"Baseino talpa: {vichy.talpa}, dabartinis kiekis: {vichy.gauti_dabartini_kieki()}\")\n",
    "print(f\"Baseino kiekis: {vichy.didinti_kieki(300)}\")\n",
    "print(f\"Sumazintas kiekis: {vichy.mazinti_kieki(500)}\")"
   ]
  },
  {
   "attachments": {},
   "cell_type": "markdown",
   "metadata": {},
   "source": [
    "## Modulių kurimas, importavimas"
   ]
  }
 ],
 "metadata": {
  "kernelspec": {
   "display_name": "venv",
   "language": "python",
   "name": "python3"
  },
  "language_info": {
   "codemirror_mode": {
    "name": "ipython",
    "version": 3
   },
   "file_extension": ".py",
   "mimetype": "text/x-python",
   "name": "python",
   "nbconvert_exporter": "python",
   "pygments_lexer": "ipython3",
   "version": "3.11.3"
  },
  "orig_nbformat": 4
 },
 "nbformat": 4,
 "nbformat_minor": 2
}
