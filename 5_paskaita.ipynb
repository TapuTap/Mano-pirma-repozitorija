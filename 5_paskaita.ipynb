{
 "cells": [
  {
   "attachments": {},
   "cell_type": "markdown",
   "metadata": {},
   "source": [
    "## Funkcijos aprašymo struktūra\n"
   ]
  },
  {
   "cell_type": "code",
   "execution_count": 12,
   "metadata": {},
   "outputs": [
    {
     "name": "stdout",
     "output_type": "stream",
     "text": [
      "Įvestas skaičius yra lyginis.\n"
     ]
    }
   ],
   "source": [
    "def lyginis_nelyginis(skaičius):\n",
    "    if skaičius %2 == 0:\n",
    "        print (\"Įvestas skaičius yra lyginis.\")\n",
    "    else:\n",
    "        print(\"Įvestas skaičius yra nelyginis.\")\n",
    "lyginis_nelyginis(10)"
   ]
  },
  {
   "cell_type": "code",
   "execution_count": 10,
   "metadata": {},
   "outputs": [],
   "source": [
    "def ar_teigiamas(skaičius):\n",
    "    if skaičius > 0:\n",
    "        print (\"Įvestas skaičius yra teigiamas.\")\n",
    "    else:\n",
    "        print(\"Įvestas skaičius nėra teigiamas.\")\n",
    "ar_teigiamas (4)"
   ]
  },
  {
   "cell_type": "code",
   "execution_count": 13,
   "metadata": {},
   "outputs": [
    {
     "name": "stdout",
     "output_type": "stream",
     "text": [
      "Įvestas skaičius yra didesnis nei 3.\n"
     ]
    }
   ],
   "source": [
    "def ar_daugiau_nei(skaičius, riba):\n",
    "    if skaičius > riba:\n",
    "        print(f\"Įvestas skaičius yra didesnis nei {riba}.\")\n",
    "    else:\n",
    "        print(f\"Įvestas skaičius nėra didesnis nei {riba}.\")\n",
    "ar_daugiau_nei (15,3)\n"
   ]
  },
  {
   "attachments": {},
   "cell_type": "markdown",
   "metadata": {},
   "source": [
    "## Funkcija su grąžinamąja reikšme"
   ]
  },
  {
   "cell_type": "code",
   "execution_count": 26,
   "metadata": {},
   "outputs": [
    {
     "name": "stdout",
     "output_type": "stream",
     "text": [
      "[116, 6, 5, 1]\n"
     ]
    }
   ],
   "source": [
    "\n",
    "def sąrašas_atvirkščiai(sąrašas):\n",
    "    return sąrašas[::-1]\n",
    "rezultatas = sąrašas_atvirkščiai([1, 5, 6, 116])\n",
    "print(rezultatas)\n"
   ]
  },
  {
   "cell_type": "code",
   "execution_count": 31,
   "metadata": {},
   "outputs": [
    {
     "name": "stdout",
     "output_type": "stream",
     "text": [
      "Trikampio plotas yra: 2.9047375096555625\n"
     ]
    }
   ],
   "source": [
    "def plotas(a, b, c):\n",
    "    s = (a + b + c) / 2\n",
    "    plotas = (s*(s-a)*(s-b)*(s-c)) ** 0.5\n",
    "    return plotas\n",
    "a = 2\n",
    "b = 3\n",
    "c = 4\n",
    "trikampio_plotas = plotas(a, b, c)\n",
    "print(\"Trikampio plotas yra:\", trikampio_plotas)"
   ]
  },
  {
   "cell_type": "code",
   "execution_count": 34,
   "metadata": {},
   "outputs": [
    {
     "name": "stdout",
     "output_type": "stream",
     "text": [
      "Žodžiai, kurių ilgis yra 3 : ['Tik']\n"
     ]
    }
   ],
   "source": [
    "def isrinkti_zodzius(sarasas, ilgis):\n",
    "    atitinkantys_zodziai = []\n",
    "    for zodis in sarasas:\n",
    "        if len(zodis) == ilgis:\n",
    "            atitinkantys_zodziai.append(zodis)\n",
    "    return atitinkantys_zodziai\n",
    "sarasas = [\"Tik\", \"negyvos\", \"žuvys\", \"plaukia\", \"pasroviui\"]\n",
    "ilgis = 3\n",
    "atitinkantys_zodziai = isrinkti_zodzius(sarasas, ilgis)\n",
    "print(\"Žodžiai, kurių ilgis yra\", ilgis, \":\", atitinkantys_zodziai)"
   ]
  },
  {
   "cell_type": "code",
   "execution_count": 35,
   "metadata": {},
   "outputs": [
    {
     "name": "stdout",
     "output_type": "stream",
     "text": [
      "Didžiausias skaičius yra: 9\n"
     ]
    }
   ],
   "source": [
    "def didžiausias(sarasas):\n",
    "    didziausias_sk = sarasas[0]  \n",
    "    for sk in sarasas:\n",
    "        if sk > didziausias_sk:\n",
    "            didziausias_sk = sk\n",
    "    return didziausias_sk\n",
    "sarasas = [3, 7, 2, 8, 1, 9, 5]\n",
    "didziausias_sk = didžiausias(sarasas)\n",
    "print(\"Didžiausias skaičius yra:\", didziausias_sk)"
   ]
  },
  {
   "cell_type": "code",
   "execution_count": 38,
   "metadata": {},
   "outputs": [
    {
     "name": "stdout",
     "output_type": "stream",
     "text": [
      "Žodžiai prasidedantys raide a : ['automobilis', 'abrikosas', 'arbūzas']\n"
     ]
    }
   ],
   "source": [
    "def zodziai_prasidedantys_raide(sarasas, raide):\n",
    "    zodziai = []\n",
    "    for zodis in sarasas:\n",
    "        if zodis[0] == raide:\n",
    "            zodziai.append(zodis)\n",
    "    return zodziai\n",
    "sarasas = [\"braškė\", \"automobilis\", \"dobilas\", \"abrikosas\", \"medus\", \"arbūzas\"]\n",
    "raide = \"a\"\n",
    "žodžiai = zodziai_prasidedantys_raide(sarasas, raide)\n",
    "print(\"Žodžiai prasidedantys raide\", raide, \":\", žodžiai)"
   ]
  },
  {
   "cell_type": "code",
   "execution_count": 40,
   "metadata": {},
   "outputs": [
    {
     "name": "stdout",
     "output_type": "stream",
     "text": [
      "Žodžiai su lyginiais ilgiais: []\n"
     ]
    }
   ],
   "source": [
    "def žodziai_lyginio_ilgio(eilutė):\n",
    "    žodžiai = []\n",
    "    for žodis in eilutė.split():\n",
    "        if len(žodis) % 2 == 0:\n",
    "            žodžiai.append(žodis)\n",
    "    return žodžiai\n",
    "eilutė = \"Tik negyvos žuvys plaukia pasroviui\"\n",
    "žodžiai = žodziai_lyginio_ilgio(eilutė)\n",
    "print(\"Žodžiai su lyginiais ilgiais:\", žodžiai)"
   ]
  },
  {
   "attachments": {},
   "cell_type": "markdown",
   "metadata": {},
   "source": [
    "## Nebūtini argumentai su numatytomis reikšmėmis ir kokretaus argumentavimo perdavimas"
   ]
  },
  {
   "cell_type": "code",
   "execution_count": 41,
   "metadata": {},
   "outputs": [
    {
     "name": "stdout",
     "output_type": "stream",
     "text": [
      "Apskritimo plotas: 78.5\n"
     ]
    }
   ],
   "source": [
    "def apskritimo_plotas(spindulys, pi=3.14):\n",
    "    plotas = pi * spindulys ** 2\n",
    "    return plotas\n",
    "spindulys = 5\n",
    "plotas = apskritimo_plotas(spindulys)\n",
    "print(\"Apskritimo plotas:\", plotas)"
   ]
  },
  {
   "cell_type": "code",
   "execution_count": 45,
   "metadata": {},
   "outputs": [
    {
     "data": {
      "text/plain": [
       "{'Atstumas (km)': 240,\n",
       " 'Kuro sąnaudos (km/h)': 19.2,\n",
       " 'Kuro išlaidos (EUR)': 26.88}"
      ]
     },
     "execution_count": 45,
     "metadata": {},
     "output_type": "execute_result"
    }
   ],
   "source": [
    "def kelionės_informacija(kelionės_trukmė, greitis, vartojimas=7, kuro_kaina=1.2):\n",
    "    atstumas = kelionės_trukmė * greitis\n",
    "    sanaudos = atstumas * vartojimas / 100\n",
    "    išlaidos = sanaudos * kuro_kaina\n",
    "    return {\"Atstumas (km)\": atstumas, \"Kuro sąnaudos (km/h)\": sanaudos, \"Kuro išlaidos (EUR)\": išlaidos}\n",
    "kelionės_informacija(4, 60, 8, 1.4)"
   ]
  },
  {
   "attachments": {},
   "cell_type": "markdown",
   "metadata": {},
   "source": [
    "## Neriboti argumentai *args, **kwargs"
   ]
  },
  {
   "cell_type": "code",
   "execution_count": 47,
   "metadata": {},
   "outputs": [
    {
     "data": {
      "text/plain": [
       "60"
      ]
     },
     "execution_count": 47,
     "metadata": {},
     "output_type": "execute_result"
    }
   ],
   "source": [
    "def didžiausias(*args):\n",
    "    if len(args) == 0:\n",
    "        return None\n",
    "    didžiausia_reikšmė = args[0]\n",
    "    for arg in args:\n",
    "        if arg > didžiausia_reikšmė:\n",
    "            didžiausia_reikšmė = arg\n",
    "    return didžiausia_reikšmė\n",
    "didžiausias (4, 60, 8, 1, 4)\n"
   ]
  },
  {
   "cell_type": "code",
   "execution_count": 48,
   "metadata": {},
   "outputs": [
    {
     "name": "stdout",
     "output_type": "stream",
     "text": [
      "{'vardas': 'Jonas', 'amzius': 30, 'miestas': 'Vilnius', 'metai': 2023}\n",
      "{}\n"
     ]
    }
   ],
   "source": [
    "def raktai(**kwargs):\n",
    "    nurodyti_raktai = {}\n",
    "    for key in kwargs:\n",
    "        if key in [\"vardas\", \"amzius\", \"miestas\", \"metai\"]:\n",
    "            nurodyti_raktai[key] = kwargs[key]\n",
    "    return nurodyti_raktai\n",
    "\n",
    "print(raktai(vardas=\"Jonas\", amzius=30, miestas=\"Vilnius\", metai=2023))  \n",
    "print(raktai(pavadinimas=\"Python\"))\n"
   ]
  },
  {
   "cell_type": "code",
   "execution_count": null,
   "metadata": {},
   "outputs": [],
   "source": [
    "def sujungtas_sarasas(*args, **kwargs):\n",
    "    visi_elementai = list(args)\n",
    "    visi_elementai += list(kwargs.values())\n",
    "    return visi_elementai\n",
    "sujungtas_sarasas "
   ]
  },
  {
   "cell_type": "code",
   "execution_count": 49,
   "metadata": {},
   "outputs": [
    {
     "name": "stdout",
     "output_type": "stream",
     "text": [
      "[12, 38, 48]\n"
     ]
    }
   ],
   "source": [
    "skaičiai = [1, 5, 6, 12, 38, 48]\n",
    "\n",
    "didesni_nei_10 = list(filter(lambda x: x > 10, skaičiai))\n",
    "print(didesni_nei_10)"
   ]
  },
  {
   "cell_type": "code",
   "execution_count": 53,
   "metadata": {},
   "outputs": [
    {
     "name": "stdout",
     "output_type": "stream",
     "text": [
      "18.333333333333332\n"
     ]
    }
   ],
   "source": [
    "skaičiai = [1, 5, 6, 12, 38, 48]\n",
    "vidurkis = lambda x : sum(x) / len(x)\n",
    "print(vidurkis(skaičiai))"
   ]
  },
  {
   "cell_type": "code",
   "execution_count": 54,
   "metadata": {},
   "outputs": [
    {
     "name": "stdout",
     "output_type": "stream",
     "text": [
      "240\n"
     ]
    }
   ],
   "source": [
    "didžiausias_skaičius = lambda x, y, z: max(x, y, z)\n",
    "\n",
    "print(didžiausias_skaičius(1, 240, 55))"
   ]
  }
 ],
 "metadata": {
  "kernelspec": {
   "display_name": "venv",
   "language": "python",
   "name": "python3"
  },
  "language_info": {
   "codemirror_mode": {
    "name": "ipython",
    "version": 3
   },
   "file_extension": ".py",
   "mimetype": "text/x-python",
   "name": "python",
   "nbconvert_exporter": "python",
   "pygments_lexer": "ipython3",
   "version": "3.11.3"
  },
  "orig_nbformat": 4
 },
 "nbformat": 4,
 "nbformat_minor": 2
}
