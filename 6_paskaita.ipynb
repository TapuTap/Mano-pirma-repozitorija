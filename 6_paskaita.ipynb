{
 "cells": [
  {
   "cell_type": "code",
   "execution_count": null,
   "metadata": {},
   "outputs": [],
   "source": [
    "# Pirma užduotis\n",
    "# Sukurti naują klasę Darbuotojas, turinčią savybes vardas, pavardė, pareigos ir atlyginimas (su numatyta minimalia alga)\n",
    "# Sukurti naują objektą darbuotojas\n",
    "# Atspausdinkite darbuotojo pareigas ir atlyginimą.\n",
    "# Pakeisti darbuotojo atlyginimą.\n",
    "# Atspausdinkite pilną darbuotojo informaciją."
   ]
  },
  {
   "cell_type": "code",
   "execution_count": 4,
   "metadata": {},
   "outputs": [
    {
     "name": "stdout",
     "output_type": "stream",
     "text": [
      "Programuotoja 1000\n",
      "500\n",
      "Raimonda Anisimova Programuotoja 500\n"
     ]
    }
   ],
   "source": [
    "class Darbuotojas:\n",
    "    vardas = \"\"\n",
    "    pavardė = \"\"\n",
    "    pareigos = \"\"\n",
    "    atlyginimas = \"\"\n",
    "darbuotojas = Darbuotojas()\n",
    "darbuotojas.vardas = \"Raimonda\"\n",
    "darbuotojas.pavardė = \"Anisimova\"\n",
    "darbuotojas.pareigos = \"Programuotoja\"\n",
    "darbuotojas.atlyginimas = 1000\n",
    "print(darbuotojas.pareigos, darbuotojas.atlyginimas)\n",
    "darbuotojas.atlyginimas = 500\n",
    "print(darbuotojas.atlyginimas)\n",
    "print(darbuotojas.vardas, darbuotojas.pavardė, darbuotojas.pareigos, darbuotojas.atlyginimas)"
   ]
  },
  {
   "cell_type": "code",
   "execution_count": 15,
   "metadata": {},
   "outputs": [
    {
     "name": "stdout",
     "output_type": "stream",
     "text": [
      "Darbuotojo pareigos: Programuotoja\n",
      "Darbuotojo atlyginimas: 1000\n",
      "Darbuotojas: Raimonda Anisimova, pareigos: Programuotoja, atlyginimas: 500\n"
     ]
    }
   ],
   "source": [
    "class Darbuotojas:\n",
    "    def __init__(self, vardas, pavarde, pareigos, atlyginimas=1000):\n",
    "        self.vardas = vardas\n",
    "        self.pavarde = pavarde\n",
    "        self.pareigos = pareigos\n",
    "        self.atlyginimas = atlyginimas\n",
    "\n",
    "    def __str__(self):\n",
    "        return f'{self.vardas} {self.pavarde}, pareigos: {self.pareigos}, atlyginimas: {self.atlyginimas}'\n",
    "\n",
    "darbuotojas = Darbuotojas(\"Raimonda\", \"Anisimova\", \"Programuotoja\", 1000)\n",
    "\n",
    "print('Darbuotojo pareigos:', darbuotojas.pareigos)\n",
    "print('Darbuotojo atlyginimas:', darbuotojas.atlyginimas)\n",
    "\n",
    "darbuotojas.atlyginimas = 500\n",
    "\n",
    "print('Darbuotojas:', darbuotojas)"
   ]
  },
  {
   "cell_type": "code",
   "execution_count": null,
   "metadata": {},
   "outputs": [],
   "source": [
    "# Sukurkite klasę \"Gyvūnas\" su savybėmis: vardas, amžius ir svoris.\n",
    "# Sukurkite metodus, kurie apskaičiuos padidėjusį arba sumažėjusį svorį.\n",
    "# Sukurkite metodą, kuris apskaičiuotų padidėjusį amžių.\n",
    "# Sukurkite objektą su jūsų pasirinktomis reikšmėmis.\n",
    "# Atspausdinkite objektą.\n",
    "# Pakeiskite kelis kartus gyvūno svorį ir amžių naudojant sukurtus metodus ir po kiekvieno pakeitimo atspausdinkite."
   ]
  },
  {
   "cell_type": "code",
   "execution_count": 16,
   "metadata": {},
   "outputs": [
    {
     "name": "stdout",
     "output_type": "stream",
     "text": [
      "Gyvūnas vardu Reksas yra 5 metų ir sveria 20 kg\n",
      "Gyvūnas vardu Reksas yra 5 metų ir sveria 25 kg\n",
      "Gyvūnas vardu Reksas yra 6 metų ir sveria 25 kg\n",
      "Gyvūnas vardu Reksas yra 6 metų ir sveria 22 kg\n"
     ]
    }
   ],
   "source": [
    "class Gyvunas:\n",
    "    def __init__(self, vardas, amzius, svoris):\n",
    "        self.vardas = vardas\n",
    "        self.amzius = amzius\n",
    "        self.svoris = svoris\n",
    "    \n",
    "    def padidinti_svori(self, kiek):\n",
    "        self.svoris += kiek\n",
    "    \n",
    "    def sumazinti_svori(self, kiek):\n",
    "        self.svoris -= kiek\n",
    "\n",
    "    def pasikeites_amzius(self):\n",
    "        self.amzius += 1\n",
    "        \n",
    "    def __str__(self):\n",
    "        return f'Gyvūnas vardu {self.vardas} yra {self.amzius} metų ir sveria {self.svoris} kg'\n",
    "\n",
    "gyvunas = Gyvunas('Reksas', 5, 20)\n",
    "print(gyvunas)\n",
    "\n",
    "gyvunas.padidinti_svori(5)\n",
    "print(gyvunas)\n",
    "\n",
    "gyvunas.pasikeites_amzius()\n",
    "print(gyvunas)\n",
    "\n",
    "gyvunas.sumazinti_svori(3)\n",
    "print(gyvunas)"
   ]
  },
  {
   "cell_type": "code",
   "execution_count": null,
   "metadata": {},
   "outputs": [],
   "source": [
    "while True:\n",
    "    print(\"\\nPasirinkite veiksmą: \\n\")\n",
    "    print(\"1 - peržiūrėti šaldytuvą\", \"\\n2 - pridėti produktą\", \"\\n3 - išimti produktą\", \"\\n4 - suskaičiuoti turinio svorį\", \"\\n9 - išeiti\" )\n",
    "    user_input = int(input(\"Įrašykite savo pasirinkimą: \"))"
   ]
  }
 ],
 "metadata": {
  "kernelspec": {
   "display_name": "venv",
   "language": "python",
   "name": "python3"
  },
  "language_info": {
   "name": "python",
   "version": "3.11.3"
  },
  "orig_nbformat": 4
 },
 "nbformat": 4,
 "nbformat_minor": 2
}
